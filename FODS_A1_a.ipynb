{
  "nbformat": 4,
  "nbformat_minor": 0,
  "metadata": {
    "colab": {
      "name": "FODS_A1_a.ipynb",
      "provenance": [],
      "collapsed_sections": [],
      "authorship_tag": "ABX9TyMeVEFbuAqKjPecPTsxRD2i",
      "include_colab_link": true
    },
    "kernelspec": {
      "name": "python3",
      "display_name": "Python 3"
    },
    "language_info": {
      "name": "python"
    },
    "widgets": {
      "application/vnd.jupyter.widget-state+json": {
        "24b398e59ae94bfca8aa167048b81cfb": {
          "model_module": "@jupyter-widgets/controls",
          "model_name": "HBoxModel",
          "model_module_version": "1.5.0",
          "state": {
            "_view_name": "HBoxView",
            "_dom_classes": [],
            "_model_name": "HBoxModel",
            "_view_module": "@jupyter-widgets/controls",
            "_model_module_version": "1.5.0",
            "_view_count": null,
            "_view_module_version": "1.5.0",
            "box_style": "",
            "layout": "IPY_MODEL_b49abc9bb60a4522aa5c3514ca110a4b",
            "_model_module": "@jupyter-widgets/controls",
            "children": [
              "IPY_MODEL_fdf8eee216c446eabad22d8e6bb012d5",
              "IPY_MODEL_8a762bcab9b947ea91e2038bab1a6a60",
              "IPY_MODEL_b89990ca87024c7da7f2100ed212d2dc"
            ]
          }
        },
        "b49abc9bb60a4522aa5c3514ca110a4b": {
          "model_module": "@jupyter-widgets/base",
          "model_name": "LayoutModel",
          "model_module_version": "1.2.0",
          "state": {
            "_view_name": "LayoutView",
            "grid_template_rows": null,
            "right": null,
            "justify_content": null,
            "_view_module": "@jupyter-widgets/base",
            "overflow": null,
            "_model_module_version": "1.2.0",
            "_view_count": null,
            "flex_flow": null,
            "width": null,
            "min_width": null,
            "border": null,
            "align_items": null,
            "bottom": null,
            "_model_module": "@jupyter-widgets/base",
            "top": null,
            "grid_column": null,
            "overflow_y": null,
            "overflow_x": null,
            "grid_auto_flow": null,
            "grid_area": null,
            "grid_template_columns": null,
            "flex": null,
            "_model_name": "LayoutModel",
            "justify_items": null,
            "grid_row": null,
            "max_height": null,
            "align_content": null,
            "visibility": null,
            "align_self": null,
            "height": null,
            "min_height": null,
            "padding": null,
            "grid_auto_rows": null,
            "grid_gap": null,
            "max_width": null,
            "order": null,
            "_view_module_version": "1.2.0",
            "grid_template_areas": null,
            "object_position": null,
            "object_fit": null,
            "grid_auto_columns": null,
            "margin": null,
            "display": null,
            "left": null
          }
        },
        "fdf8eee216c446eabad22d8e6bb012d5": {
          "model_module": "@jupyter-widgets/controls",
          "model_name": "HTMLModel",
          "model_module_version": "1.5.0",
          "state": {
            "_view_name": "HTMLView",
            "style": "IPY_MODEL_8bbd91de783b46f5ba473b12dd083260",
            "_dom_classes": [],
            "description": "",
            "_model_name": "HTMLModel",
            "placeholder": "​",
            "_view_module": "@jupyter-widgets/controls",
            "_model_module_version": "1.5.0",
            "value": "100%",
            "_view_count": null,
            "_view_module_version": "1.5.0",
            "description_tooltip": null,
            "_model_module": "@jupyter-widgets/controls",
            "layout": "IPY_MODEL_ee2db7e3f5e6431fa8b46186d02fc71c"
          }
        },
        "8a762bcab9b947ea91e2038bab1a6a60": {
          "model_module": "@jupyter-widgets/controls",
          "model_name": "FloatProgressModel",
          "model_module_version": "1.5.0",
          "state": {
            "_view_name": "ProgressView",
            "style": "IPY_MODEL_3aa656ef1f204f279640f550cf2e8523",
            "_dom_classes": [],
            "description": "",
            "_model_name": "FloatProgressModel",
            "bar_style": "success",
            "max": 500,
            "_view_module": "@jupyter-widgets/controls",
            "_model_module_version": "1.5.0",
            "value": 500,
            "_view_count": null,
            "_view_module_version": "1.5.0",
            "orientation": "horizontal",
            "min": 0,
            "description_tooltip": null,
            "_model_module": "@jupyter-widgets/controls",
            "layout": "IPY_MODEL_4188406fa1474d48a79790c8c6212f89"
          }
        },
        "b89990ca87024c7da7f2100ed212d2dc": {
          "model_module": "@jupyter-widgets/controls",
          "model_name": "HTMLModel",
          "model_module_version": "1.5.0",
          "state": {
            "_view_name": "HTMLView",
            "style": "IPY_MODEL_5def8a7c7e504ebd90a2cf8cf27aa0d2",
            "_dom_classes": [],
            "description": "",
            "_model_name": "HTMLModel",
            "placeholder": "​",
            "_view_module": "@jupyter-widgets/controls",
            "_model_module_version": "1.5.0",
            "value": " 500/500 [00:13&lt;00:00, 41.65epoch/s]",
            "_view_count": null,
            "_view_module_version": "1.5.0",
            "description_tooltip": null,
            "_model_module": "@jupyter-widgets/controls",
            "layout": "IPY_MODEL_7a69ffe9c34644f0b99595ef2fb58b69"
          }
        },
        "8bbd91de783b46f5ba473b12dd083260": {
          "model_module": "@jupyter-widgets/controls",
          "model_name": "DescriptionStyleModel",
          "model_module_version": "1.5.0",
          "state": {
            "_view_name": "StyleView",
            "_model_name": "DescriptionStyleModel",
            "description_width": "",
            "_view_module": "@jupyter-widgets/base",
            "_model_module_version": "1.5.0",
            "_view_count": null,
            "_view_module_version": "1.2.0",
            "_model_module": "@jupyter-widgets/controls"
          }
        },
        "ee2db7e3f5e6431fa8b46186d02fc71c": {
          "model_module": "@jupyter-widgets/base",
          "model_name": "LayoutModel",
          "model_module_version": "1.2.0",
          "state": {
            "_view_name": "LayoutView",
            "grid_template_rows": null,
            "right": null,
            "justify_content": null,
            "_view_module": "@jupyter-widgets/base",
            "overflow": null,
            "_model_module_version": "1.2.0",
            "_view_count": null,
            "flex_flow": null,
            "width": null,
            "min_width": null,
            "border": null,
            "align_items": null,
            "bottom": null,
            "_model_module": "@jupyter-widgets/base",
            "top": null,
            "grid_column": null,
            "overflow_y": null,
            "overflow_x": null,
            "grid_auto_flow": null,
            "grid_area": null,
            "grid_template_columns": null,
            "flex": null,
            "_model_name": "LayoutModel",
            "justify_items": null,
            "grid_row": null,
            "max_height": null,
            "align_content": null,
            "visibility": null,
            "align_self": null,
            "height": null,
            "min_height": null,
            "padding": null,
            "grid_auto_rows": null,
            "grid_gap": null,
            "max_width": null,
            "order": null,
            "_view_module_version": "1.2.0",
            "grid_template_areas": null,
            "object_position": null,
            "object_fit": null,
            "grid_auto_columns": null,
            "margin": null,
            "display": null,
            "left": null
          }
        },
        "3aa656ef1f204f279640f550cf2e8523": {
          "model_module": "@jupyter-widgets/controls",
          "model_name": "ProgressStyleModel",
          "model_module_version": "1.5.0",
          "state": {
            "_view_name": "StyleView",
            "_model_name": "ProgressStyleModel",
            "description_width": "",
            "_view_module": "@jupyter-widgets/base",
            "_model_module_version": "1.5.0",
            "_view_count": null,
            "_view_module_version": "1.2.0",
            "bar_color": null,
            "_model_module": "@jupyter-widgets/controls"
          }
        },
        "4188406fa1474d48a79790c8c6212f89": {
          "model_module": "@jupyter-widgets/base",
          "model_name": "LayoutModel",
          "model_module_version": "1.2.0",
          "state": {
            "_view_name": "LayoutView",
            "grid_template_rows": null,
            "right": null,
            "justify_content": null,
            "_view_module": "@jupyter-widgets/base",
            "overflow": null,
            "_model_module_version": "1.2.0",
            "_view_count": null,
            "flex_flow": null,
            "width": null,
            "min_width": null,
            "border": null,
            "align_items": null,
            "bottom": null,
            "_model_module": "@jupyter-widgets/base",
            "top": null,
            "grid_column": null,
            "overflow_y": null,
            "overflow_x": null,
            "grid_auto_flow": null,
            "grid_area": null,
            "grid_template_columns": null,
            "flex": null,
            "_model_name": "LayoutModel",
            "justify_items": null,
            "grid_row": null,
            "max_height": null,
            "align_content": null,
            "visibility": null,
            "align_self": null,
            "height": null,
            "min_height": null,
            "padding": null,
            "grid_auto_rows": null,
            "grid_gap": null,
            "max_width": null,
            "order": null,
            "_view_module_version": "1.2.0",
            "grid_template_areas": null,
            "object_position": null,
            "object_fit": null,
            "grid_auto_columns": null,
            "margin": null,
            "display": null,
            "left": null
          }
        },
        "5def8a7c7e504ebd90a2cf8cf27aa0d2": {
          "model_module": "@jupyter-widgets/controls",
          "model_name": "DescriptionStyleModel",
          "model_module_version": "1.5.0",
          "state": {
            "_view_name": "StyleView",
            "_model_name": "DescriptionStyleModel",
            "description_width": "",
            "_view_module": "@jupyter-widgets/base",
            "_model_module_version": "1.5.0",
            "_view_count": null,
            "_view_module_version": "1.2.0",
            "_model_module": "@jupyter-widgets/controls"
          }
        },
        "7a69ffe9c34644f0b99595ef2fb58b69": {
          "model_module": "@jupyter-widgets/base",
          "model_name": "LayoutModel",
          "model_module_version": "1.2.0",
          "state": {
            "_view_name": "LayoutView",
            "grid_template_rows": null,
            "right": null,
            "justify_content": null,
            "_view_module": "@jupyter-widgets/base",
            "overflow": null,
            "_model_module_version": "1.2.0",
            "_view_count": null,
            "flex_flow": null,
            "width": null,
            "min_width": null,
            "border": null,
            "align_items": null,
            "bottom": null,
            "_model_module": "@jupyter-widgets/base",
            "top": null,
            "grid_column": null,
            "overflow_y": null,
            "overflow_x": null,
            "grid_auto_flow": null,
            "grid_area": null,
            "grid_template_columns": null,
            "flex": null,
            "_model_name": "LayoutModel",
            "justify_items": null,
            "grid_row": null,
            "max_height": null,
            "align_content": null,
            "visibility": null,
            "align_self": null,
            "height": null,
            "min_height": null,
            "padding": null,
            "grid_auto_rows": null,
            "grid_gap": null,
            "max_width": null,
            "order": null,
            "_view_module_version": "1.2.0",
            "grid_template_areas": null,
            "object_position": null,
            "object_fit": null,
            "grid_auto_columns": null,
            "margin": null,
            "display": null,
            "left": null
          }
        }
      }
    }
  },
  "cells": [
    {
      "cell_type": "markdown",
      "metadata": {
        "id": "view-in-github",
        "colab_type": "text"
      },
      "source": [
        "<a href=\"https://colab.research.google.com/github/vineet891/FODS-Assignment/blob/PartA/FODS_A1_a.ipynb\" target=\"_parent\"><img src=\"https://colab.research.google.com/assets/colab-badge.svg\" alt=\"Open In Colab\"/></a>"
      ]
    },
    {
      "cell_type": "markdown",
      "metadata": {
        "id": "luSk7IFxq1CO"
      },
      "source": [
        "# Polynomial Regression"
      ]
    },
    {
      "cell_type": "code",
      "metadata": {
        "id": "qIj94aepeYuy"
      },
      "source": [
        "import numpy as np\n",
        "import pandas as pd\n",
        "import matplotlib.pyplot as plt\n",
        "\n",
        "import tqdm\n",
        "from tqdm import notebook"
      ],
      "execution_count": 1,
      "outputs": []
    },
    {
      "cell_type": "markdown",
      "metadata": {
        "id": "-so_WV53rDRW"
      },
      "source": [
        "Loading Dataset"
      ]
    },
    {
      "cell_type": "code",
      "metadata": {
        "colab": {
          "base_uri": "https://localhost:8080/"
        },
        "id": "1o_6oHSild-t",
        "outputId": "d4daa495-d415-4279-e2b7-539a0952b798"
      },
      "source": [
        "from google.colab import drive\n",
        "drive.mount(\"/content/gdrive\")\n"
      ],
      "execution_count": 2,
      "outputs": [
        {
          "output_type": "stream",
          "name": "stdout",
          "text": [
            "Mounted at /content/gdrive\n"
          ]
        }
      ]
    },
    {
      "cell_type": "code",
      "metadata": {
        "colab": {
          "base_uri": "https://localhost:8080/",
          "height": 415
        },
        "id": "qjWpZ13BniN-",
        "outputId": "8e341d3a-35ed-47fc-fee5-27769660955f"
      },
      "source": [
        "df = pd.read_csv('/content/gdrive/My Drive/FODSAssignment/FoDS-A1.csv')\n",
        "df"
      ],
      "execution_count": 3,
      "outputs": [
        {
          "output_type": "execute_result",
          "data": {
            "text/html": [
              "<div>\n",
              "<style scoped>\n",
              "    .dataframe tbody tr th:only-of-type {\n",
              "        vertical-align: middle;\n",
              "    }\n",
              "\n",
              "    .dataframe tbody tr th {\n",
              "        vertical-align: top;\n",
              "    }\n",
              "\n",
              "    .dataframe thead th {\n",
              "        text-align: right;\n",
              "    }\n",
              "</style>\n",
              "<table border=\"1\" class=\"dataframe\">\n",
              "  <thead>\n",
              "    <tr style=\"text-align: right;\">\n",
              "      <th></th>\n",
              "      <th>Strength</th>\n",
              "      <th>Temperature</th>\n",
              "      <th>Pressure</th>\n",
              "    </tr>\n",
              "  </thead>\n",
              "  <tbody>\n",
              "    <tr>\n",
              "      <th>0</th>\n",
              "      <td>30.7</td>\n",
              "      <td>240</td>\n",
              "      <td>16</td>\n",
              "    </tr>\n",
              "    <tr>\n",
              "      <th>1</th>\n",
              "      <td>24.7</td>\n",
              "      <td>250</td>\n",
              "      <td>18</td>\n",
              "    </tr>\n",
              "    <tr>\n",
              "      <th>2</th>\n",
              "      <td>30.6</td>\n",
              "      <td>260</td>\n",
              "      <td>16</td>\n",
              "    </tr>\n",
              "    <tr>\n",
              "      <th>3</th>\n",
              "      <td>32.8</td>\n",
              "      <td>240</td>\n",
              "      <td>10</td>\n",
              "    </tr>\n",
              "    <tr>\n",
              "      <th>4</th>\n",
              "      <td>20.7</td>\n",
              "      <td>240</td>\n",
              "      <td>20</td>\n",
              "    </tr>\n",
              "    <tr>\n",
              "      <th>...</th>\n",
              "      <td>...</td>\n",
              "      <td>...</td>\n",
              "      <td>...</td>\n",
              "    </tr>\n",
              "    <tr>\n",
              "      <th>1645</th>\n",
              "      <td>32.5</td>\n",
              "      <td>270</td>\n",
              "      <td>20</td>\n",
              "    </tr>\n",
              "    <tr>\n",
              "      <th>1646</th>\n",
              "      <td>38.6</td>\n",
              "      <td>290</td>\n",
              "      <td>14</td>\n",
              "    </tr>\n",
              "    <tr>\n",
              "      <th>1647</th>\n",
              "      <td>39.7</td>\n",
              "      <td>290</td>\n",
              "      <td>12</td>\n",
              "    </tr>\n",
              "    <tr>\n",
              "      <th>1648</th>\n",
              "      <td>14.6</td>\n",
              "      <td>200</td>\n",
              "      <td>20</td>\n",
              "    </tr>\n",
              "    <tr>\n",
              "      <th>1649</th>\n",
              "      <td>19.8</td>\n",
              "      <td>210</td>\n",
              "      <td>20</td>\n",
              "    </tr>\n",
              "  </tbody>\n",
              "</table>\n",
              "<p>1650 rows × 3 columns</p>\n",
              "</div>"
            ],
            "text/plain": [
              "      Strength  Temperature  Pressure\n",
              "0         30.7          240        16\n",
              "1         24.7          250        18\n",
              "2         30.6          260        16\n",
              "3         32.8          240        10\n",
              "4         20.7          240        20\n",
              "...        ...          ...       ...\n",
              "1645      32.5          270        20\n",
              "1646      38.6          290        14\n",
              "1647      39.7          290        12\n",
              "1648      14.6          200        20\n",
              "1649      19.8          210        20\n",
              "\n",
              "[1650 rows x 3 columns]"
            ]
          },
          "metadata": {},
          "execution_count": 3
        }
      ]
    },
    {
      "cell_type": "markdown",
      "metadata": {
        "id": "1pieENjwrNsN"
      },
      "source": [
        "Data Preprocessing"
      ]
    },
    {
      "cell_type": "code",
      "metadata": {
        "colab": {
          "base_uri": "https://localhost:8080/",
          "height": 415
        },
        "id": "k64s8wNppsgI",
        "outputId": "bec40e55-7eae-406d-cc73-98006539f8a7"
      },
      "source": [
        "#shuffle the dataset\n",
        "df = df.sample(frac=1).reset_index(drop=True)\n",
        "df"
      ],
      "execution_count": 4,
      "outputs": [
        {
          "output_type": "execute_result",
          "data": {
            "text/html": [
              "<div>\n",
              "<style scoped>\n",
              "    .dataframe tbody tr th:only-of-type {\n",
              "        vertical-align: middle;\n",
              "    }\n",
              "\n",
              "    .dataframe tbody tr th {\n",
              "        vertical-align: top;\n",
              "    }\n",
              "\n",
              "    .dataframe thead th {\n",
              "        text-align: right;\n",
              "    }\n",
              "</style>\n",
              "<table border=\"1\" class=\"dataframe\">\n",
              "  <thead>\n",
              "    <tr style=\"text-align: right;\">\n",
              "      <th></th>\n",
              "      <th>Strength</th>\n",
              "      <th>Temperature</th>\n",
              "      <th>Pressure</th>\n",
              "    </tr>\n",
              "  </thead>\n",
              "  <tbody>\n",
              "    <tr>\n",
              "      <th>0</th>\n",
              "      <td>43.8</td>\n",
              "      <td>290</td>\n",
              "      <td>12</td>\n",
              "    </tr>\n",
              "    <tr>\n",
              "      <th>1</th>\n",
              "      <td>31.2</td>\n",
              "      <td>270</td>\n",
              "      <td>16</td>\n",
              "    </tr>\n",
              "    <tr>\n",
              "      <th>2</th>\n",
              "      <td>34.7</td>\n",
              "      <td>300</td>\n",
              "      <td>18</td>\n",
              "    </tr>\n",
              "    <tr>\n",
              "      <th>3</th>\n",
              "      <td>31.7</td>\n",
              "      <td>280</td>\n",
              "      <td>18</td>\n",
              "    </tr>\n",
              "    <tr>\n",
              "      <th>4</th>\n",
              "      <td>40.2</td>\n",
              "      <td>290</td>\n",
              "      <td>12</td>\n",
              "    </tr>\n",
              "    <tr>\n",
              "      <th>...</th>\n",
              "      <td>...</td>\n",
              "      <td>...</td>\n",
              "      <td>...</td>\n",
              "    </tr>\n",
              "    <tr>\n",
              "      <th>1645</th>\n",
              "      <td>20.7</td>\n",
              "      <td>210</td>\n",
              "      <td>20</td>\n",
              "    </tr>\n",
              "    <tr>\n",
              "      <th>1646</th>\n",
              "      <td>25.2</td>\n",
              "      <td>260</td>\n",
              "      <td>20</td>\n",
              "    </tr>\n",
              "    <tr>\n",
              "      <th>1647</th>\n",
              "      <td>22.4</td>\n",
              "      <td>200</td>\n",
              "      <td>10</td>\n",
              "    </tr>\n",
              "    <tr>\n",
              "      <th>1648</th>\n",
              "      <td>22.7</td>\n",
              "      <td>220</td>\n",
              "      <td>14</td>\n",
              "    </tr>\n",
              "    <tr>\n",
              "      <th>1649</th>\n",
              "      <td>30.8</td>\n",
              "      <td>230</td>\n",
              "      <td>10</td>\n",
              "    </tr>\n",
              "  </tbody>\n",
              "</table>\n",
              "<p>1650 rows × 3 columns</p>\n",
              "</div>"
            ],
            "text/plain": [
              "      Strength  Temperature  Pressure\n",
              "0         43.8          290        12\n",
              "1         31.2          270        16\n",
              "2         34.7          300        18\n",
              "3         31.7          280        18\n",
              "4         40.2          290        12\n",
              "...        ...          ...       ...\n",
              "1645      20.7          210        20\n",
              "1646      25.2          260        20\n",
              "1647      22.4          200        10\n",
              "1648      22.7          220        14\n",
              "1649      30.8          230        10\n",
              "\n",
              "[1650 rows x 3 columns]"
            ]
          },
          "metadata": {},
          "execution_count": 4
        }
      ]
    },
    {
      "cell_type": "code",
      "metadata": {
        "colab": {
          "base_uri": "https://localhost:8080/",
          "height": 294
        },
        "id": "WVfR04VurwRM",
        "outputId": "e174e65a-9e66-4714-dc3e-497c5fe56864"
      },
      "source": [
        "df.describe()"
      ],
      "execution_count": 5,
      "outputs": [
        {
          "output_type": "execute_result",
          "data": {
            "text/html": [
              "<div>\n",
              "<style scoped>\n",
              "    .dataframe tbody tr th:only-of-type {\n",
              "        vertical-align: middle;\n",
              "    }\n",
              "\n",
              "    .dataframe tbody tr th {\n",
              "        vertical-align: top;\n",
              "    }\n",
              "\n",
              "    .dataframe thead th {\n",
              "        text-align: right;\n",
              "    }\n",
              "</style>\n",
              "<table border=\"1\" class=\"dataframe\">\n",
              "  <thead>\n",
              "    <tr style=\"text-align: right;\">\n",
              "      <th></th>\n",
              "      <th>Strength</th>\n",
              "      <th>Temperature</th>\n",
              "      <th>Pressure</th>\n",
              "    </tr>\n",
              "  </thead>\n",
              "  <tbody>\n",
              "    <tr>\n",
              "      <th>count</th>\n",
              "      <td>1650.000000</td>\n",
              "      <td>1650.000000</td>\n",
              "      <td>1650.000000</td>\n",
              "    </tr>\n",
              "    <tr>\n",
              "      <th>mean</th>\n",
              "      <td>30.000000</td>\n",
              "      <td>250.000000</td>\n",
              "      <td>15.000000</td>\n",
              "    </tr>\n",
              "    <tr>\n",
              "      <th>std</th>\n",
              "      <td>7.390248</td>\n",
              "      <td>31.632364</td>\n",
              "      <td>3.416686</td>\n",
              "    </tr>\n",
              "    <tr>\n",
              "      <th>min</th>\n",
              "      <td>12.400000</td>\n",
              "      <td>200.000000</td>\n",
              "      <td>10.000000</td>\n",
              "    </tr>\n",
              "    <tr>\n",
              "      <th>25%</th>\n",
              "      <td>24.400000</td>\n",
              "      <td>220.000000</td>\n",
              "      <td>12.000000</td>\n",
              "    </tr>\n",
              "    <tr>\n",
              "      <th>50%</th>\n",
              "      <td>30.200000</td>\n",
              "      <td>250.000000</td>\n",
              "      <td>15.000000</td>\n",
              "    </tr>\n",
              "    <tr>\n",
              "      <th>75%</th>\n",
              "      <td>35.700000</td>\n",
              "      <td>280.000000</td>\n",
              "      <td>18.000000</td>\n",
              "    </tr>\n",
              "    <tr>\n",
              "      <th>max</th>\n",
              "      <td>48.700000</td>\n",
              "      <td>300.000000</td>\n",
              "      <td>20.000000</td>\n",
              "    </tr>\n",
              "  </tbody>\n",
              "</table>\n",
              "</div>"
            ],
            "text/plain": [
              "          Strength  Temperature     Pressure\n",
              "count  1650.000000  1650.000000  1650.000000\n",
              "mean     30.000000   250.000000    15.000000\n",
              "std       7.390248    31.632364     3.416686\n",
              "min      12.400000   200.000000    10.000000\n",
              "25%      24.400000   220.000000    12.000000\n",
              "50%      30.200000   250.000000    15.000000\n",
              "75%      35.700000   280.000000    18.000000\n",
              "max      48.700000   300.000000    20.000000"
            ]
          },
          "metadata": {},
          "execution_count": 5
        }
      ]
    },
    {
      "cell_type": "code",
      "metadata": {
        "colab": {
          "base_uri": "https://localhost:8080/",
          "height": 415
        },
        "id": "AP1Cpj2ExrhL",
        "outputId": "60833dac-0419-4e40-af4f-0994e552fe41"
      },
      "source": [
        "# standardize the dataset\n",
        "df = (df-np.mean(df,axis=0))/np.std(df,axis=0)\n",
        "df"
      ],
      "execution_count": 6,
      "outputs": [
        {
          "output_type": "execute_result",
          "data": {
            "text/html": [
              "<div>\n",
              "<style scoped>\n",
              "    .dataframe tbody tr th:only-of-type {\n",
              "        vertical-align: middle;\n",
              "    }\n",
              "\n",
              "    .dataframe tbody tr th {\n",
              "        vertical-align: top;\n",
              "    }\n",
              "\n",
              "    .dataframe thead th {\n",
              "        text-align: right;\n",
              "    }\n",
              "</style>\n",
              "<table border=\"1\" class=\"dataframe\">\n",
              "  <thead>\n",
              "    <tr style=\"text-align: right;\">\n",
              "      <th></th>\n",
              "      <th>Strength</th>\n",
              "      <th>Temperature</th>\n",
              "      <th>Pressure</th>\n",
              "    </tr>\n",
              "  </thead>\n",
              "  <tbody>\n",
              "    <tr>\n",
              "      <th>0</th>\n",
              "      <td>1.867892</td>\n",
              "      <td>1.264911</td>\n",
              "      <td>-0.87831</td>\n",
              "    </tr>\n",
              "    <tr>\n",
              "      <th>1</th>\n",
              "      <td>0.162425</td>\n",
              "      <td>0.632456</td>\n",
              "      <td>0.29277</td>\n",
              "    </tr>\n",
              "    <tr>\n",
              "      <th>2</th>\n",
              "      <td>0.636166</td>\n",
              "      <td>1.581139</td>\n",
              "      <td>0.87831</td>\n",
              "    </tr>\n",
              "    <tr>\n",
              "      <th>3</th>\n",
              "      <td>0.230103</td>\n",
              "      <td>0.948683</td>\n",
              "      <td>0.87831</td>\n",
              "    </tr>\n",
              "    <tr>\n",
              "      <th>4</th>\n",
              "      <td>1.380616</td>\n",
              "      <td>1.264911</td>\n",
              "      <td>-0.87831</td>\n",
              "    </tr>\n",
              "    <tr>\n",
              "      <th>...</th>\n",
              "      <td>...</td>\n",
              "      <td>...</td>\n",
              "      <td>...</td>\n",
              "    </tr>\n",
              "    <tr>\n",
              "      <th>1645</th>\n",
              "      <td>-1.258797</td>\n",
              "      <td>-1.264911</td>\n",
              "      <td>1.46385</td>\n",
              "    </tr>\n",
              "    <tr>\n",
              "      <th>1646</th>\n",
              "      <td>-0.649701</td>\n",
              "      <td>0.316228</td>\n",
              "      <td>1.46385</td>\n",
              "    </tr>\n",
              "    <tr>\n",
              "      <th>1647</th>\n",
              "      <td>-1.028694</td>\n",
              "      <td>-1.581139</td>\n",
              "      <td>-1.46385</td>\n",
              "    </tr>\n",
              "    <tr>\n",
              "      <th>1648</th>\n",
              "      <td>-0.988088</td>\n",
              "      <td>-0.948683</td>\n",
              "      <td>-0.29277</td>\n",
              "    </tr>\n",
              "    <tr>\n",
              "      <th>1649</th>\n",
              "      <td>0.108284</td>\n",
              "      <td>-0.632456</td>\n",
              "      <td>-1.46385</td>\n",
              "    </tr>\n",
              "  </tbody>\n",
              "</table>\n",
              "<p>1650 rows × 3 columns</p>\n",
              "</div>"
            ],
            "text/plain": [
              "      Strength  Temperature  Pressure\n",
              "0     1.867892     1.264911  -0.87831\n",
              "1     0.162425     0.632456   0.29277\n",
              "2     0.636166     1.581139   0.87831\n",
              "3     0.230103     0.948683   0.87831\n",
              "4     1.380616     1.264911  -0.87831\n",
              "...        ...          ...       ...\n",
              "1645 -1.258797    -1.264911   1.46385\n",
              "1646 -0.649701     0.316228   1.46385\n",
              "1647 -1.028694    -1.581139  -1.46385\n",
              "1648 -0.988088    -0.948683  -0.29277\n",
              "1649  0.108284    -0.632456  -1.46385\n",
              "\n",
              "[1650 rows x 3 columns]"
            ]
          },
          "metadata": {},
          "execution_count": 6
        }
      ]
    },
    {
      "cell_type": "code",
      "metadata": {
        "colab": {
          "base_uri": "https://localhost:8080/"
        },
        "id": "4kGwOdGY2Ti5",
        "outputId": "36f32940-0100-4426-9170-58588dc8c709"
      },
      "source": [
        "# split the data set into 70:30 train:test \n",
        "split_index = int(0.7*len(df))\n",
        "\n",
        "data = df.values\n",
        "X = data[:,:-1]\n",
        "y = data[:,-1]\n",
        "\n",
        "train_X = X[:split_index]\n",
        "train_y = y[:split_index]\n",
        "\n",
        "test_X = X[split_index:]\n",
        "test_y = y[split_index:]\n",
        "\n",
        "train_X"
      ],
      "execution_count": 7,
      "outputs": [
        {
          "output_type": "execute_result",
          "data": {
            "text/plain": [
              "array([[ 1.86789178,  1.26491106],\n",
              "       [ 0.16242537,  0.63245553],\n",
              "       [ 0.63616604,  1.58113883],\n",
              "       ...,\n",
              "       [ 1.05576492,  1.26491106],\n",
              "       [ 0.09474813,  0.9486833 ],\n",
              "       [ 0.23010261, -0.31622777]])"
            ]
          },
          "metadata": {},
          "execution_count": 7
        }
      ]
    },
    {
      "cell_type": "code",
      "metadata": {
        "id": "5ZtamTeV4apo"
      },
      "source": [
        "#transform the data to degree n\n",
        "def transform(X,degree):\n",
        "  X_trans = np.ones((len(X[:,1]), 1), dtype=int)\n",
        "  for i in range(degree+1):\n",
        "    for j in range(degree+1-i):\n",
        "      if i!=0 or j!=0:\n",
        "        t = np.array([np.multiply(np.power(X[:,0],i),np.power(X[:,-1],j))])\n",
        "        X_trans = np.concatenate((X_trans, t.T), axis=1)\n",
        "  return X_trans"
      ],
      "execution_count": 8,
      "outputs": []
    },
    {
      "cell_type": "markdown",
      "metadata": {
        "id": "hyiFiEvEP5bC"
      },
      "source": [
        "**MODEL**"
      ]
    },
    {
      "cell_type": "code",
      "metadata": {
        "id": "khedMzn1P4VV"
      },
      "source": [
        "class Regression():\n",
        "\n",
        "    def __init__(self, X_train, X_test, y_train, y_test):\n",
        "        self.w = None\n",
        "        self.X_train, self.X_test, self.y_train, self.y_test = X_train,X_test,y_train, y_test\n",
        "\n",
        "    def polynomial(self, X):    \n",
        "        return np.dot(X, self.w.T) \n",
        "    \n",
        "    def mean_squared_error(self, y_pred, y):\n",
        "        '''\n",
        "        Evaluates the Mean Squared error of the predicted values by comparing it with the true values.\n",
        "        Parameters:\n",
        "            y_pred: Predicted values.\n",
        "            y: True output values.\n",
        "        '''\n",
        "        return sum([(y1-y2)**2 for y1, y2 in zip(y, y_pred)])/len([(y1-y2)**2 for y1, y2 in zip(y, y_pred)])  \n",
        "\n",
        "    def grad_w(self, x, y):    \n",
        "        '''\n",
        "        Calculates the gradient of the weight values.\n",
        "        Parameters:\n",
        "            x: Training point\n",
        "            y:  \n",
        "        '''\n",
        "        y_pred = self.polynomial(x)  \n",
        "        return (y_pred - y)*x\n",
        "\n",
        "    def predict(self, X):\n",
        "        '''\n",
        "        Evaluates the sigmoid function value of the given data.\n",
        "        Parameters:\n",
        "            X: testing sample\n",
        "        '''\n",
        "        return self.polynomial(X)\n",
        "\n",
        "    def evaluate(self, x_test, y_test):\n",
        "        '''\n",
        "        Evaluates the model for a given testing data\n",
        "        Parameters:\n",
        "            x_test: testing samples\n",
        "            y_test: testing labels\n",
        "        '''\n",
        "        y_pred = self.predict(x_test)\n",
        "        test_loss = self.mean_squared_error(y_pred, y_test)[0]\n",
        "        print(\"Testing Error is \", test_loss)\n",
        "\n",
        "    def fit(self, X,Y, epochs = 1, learning='GD', learning_rate = 1, display_loss=True, printValues=True):\n",
        "\n",
        "        self.w = np.random.randn(1, X.shape[1])     \n",
        "\n",
        "        if display_loss:\n",
        "            loss={}\n",
        "            accuracy={}\n",
        "        \n",
        "        count=0\n",
        "        for i in tqdm.notebook.tqdm(range(epochs), total=epochs, unit=\"epoch\"):\n",
        "            dw = 0\n",
        "\n",
        "            if learning == 'GD':\n",
        "                for x, y in zip(X, Y):\n",
        "                    dw += self.grad_w(x,y)   \n",
        "                    self.w -= learning_rate * (dw/X.shape[0])   \n",
        "\n",
        "            if learning == 'SGD':\n",
        "                # for j in range(X.shape[0]):\n",
        "                randInt = np.random.randint(0,X.shape[0])\n",
        "                x = X[randInt, :]\n",
        "                y = Y[randInt]\n",
        "                dw += self.grad_w(x,y)   \n",
        "                self.w -= learning_rate * dw   \n",
        "\n",
        "            if display_loss:\n",
        "                Y_pred = self.polynomial(X)   \n",
        "                loss[i] = self.mean_squared_error(Y_pred,Y)[-1]   \n",
        "                #accuracy[i] = self.accuracy(Y_pred,Y)\n",
        "                if printValues and i%50==0:\n",
        "                    print('Epoch:', i,'Loss:', loss[i])#,'Accuracy:', accuracy[i])\n",
        "\n",
        "        if display_loss and count%50==0:\n",
        "            plt.subplot(2, 1, 1)\n",
        "            plt.plot(list(loss.values()))\n",
        "            plt.xlabel('Epochs')\n",
        "            plt.ylabel('Mean Squared Error')\n",
        "            \n",
        "            plt.show()\n",
        "        count=count+1\n",
        "\n",
        "        self.evaluate(self.X_test,self.y_test)\n",
        "\n",
        "    \n",
        "\n"
      ],
      "execution_count": 23,
      "outputs": []
    },
    {
      "cell_type": "markdown",
      "metadata": {
        "id": "XcHbHcIQV_Uq"
      },
      "source": [
        "2 Degree Polynomial"
      ]
    },
    {
      "cell_type": "code",
      "metadata": {
        "id": "S4Y-lKjUV9PL"
      },
      "source": [
        "x_train_trans = transform(train_X,2)\n",
        "x_test_trans = transform(test_X,2)"
      ],
      "execution_count": 16,
      "outputs": []
    },
    {
      "cell_type": "code",
      "metadata": {
        "colab": {
          "base_uri": "https://localhost:8080/",
          "height": 377,
          "referenced_widgets": [
            "24b398e59ae94bfca8aa167048b81cfb",
            "b49abc9bb60a4522aa5c3514ca110a4b",
            "fdf8eee216c446eabad22d8e6bb012d5",
            "8a762bcab9b947ea91e2038bab1a6a60",
            "b89990ca87024c7da7f2100ed212d2dc",
            "8bbd91de783b46f5ba473b12dd083260",
            "ee2db7e3f5e6431fa8b46186d02fc71c",
            "3aa656ef1f204f279640f550cf2e8523",
            "4188406fa1474d48a79790c8c6212f89",
            "5def8a7c7e504ebd90a2cf8cf27aa0d2",
            "7a69ffe9c34644f0b99595ef2fb58b69"
          ]
        },
        "id": "csIT2xV7WyQD",
        "outputId": "09f4f507-41d7-4631-9a59-963b68e780a1"
      },
      "source": [
        "model2 = Regression(x_train_trans, x_test_trans, train_y, test_y)\n",
        "model2.fit(x_train_trans, train_y,epochs = 500, learning='GD', learning_rate=0.01)"
      ],
      "execution_count": 24,
      "outputs": [
        {
          "output_type": "display_data",
          "data": {
            "application/vnd.jupyter.widget-view+json": {
              "model_id": "24b398e59ae94bfca8aa167048b81cfb",
              "version_minor": 0,
              "version_major": 2
            },
            "text/plain": [
              "  0%|          | 0/500 [00:00<?, ?epoch/s]"
            ]
          },
          "metadata": {}
        },
        {
          "output_type": "stream",
          "name": "stdout",
          "text": [
            "Epoch: 0 Loss: 0.3763023987477991\n",
            "Epoch: 50 Loss: 0.1973858676183515\n",
            "Epoch: 100 Loss: 0.19739354292001648\n",
            "Epoch: 150 Loss: 0.19739355995916183\n",
            "Epoch: 200 Loss: 0.19739356005897257\n",
            "Epoch: 250 Loss: 0.19739356005964667\n",
            "Epoch: 300 Loss: 0.19739356005965156\n",
            "Epoch: 350 Loss: 0.1973935600596513\n",
            "Epoch: 400 Loss: 0.19739356005965147\n",
            "Epoch: 450 Loss: 0.19739356005965114\n"
          ]
        },
        {
          "output_type": "display_data",
          "data": {
            "image/png": "[encoded data removed]",
            "text/plain": [
              "<Figure size 432x288 with 1 Axes>"
            ]
          },
          "metadata": {
            "needs_background": "light"
          }
        },
        {
          "output_type": "stream",
          "name": "stdout",
          "text": [
            "Testing Error is  0.21347583285349891\n"
          ]
        }
      ]
    },
    {
      "cell_type": "code",
      "metadata": {
        "colab": {
          "base_uri": "https://localhost:8080/"
        },
        "id": "UNKSb-7CYi6B",
        "outputId": "d9cac65b-d5c7-4773-f14a-89080f047848"
      },
      "source": [
        "model2.evaluate(x_test_trans,test_y)"
      ],
      "execution_count": 14,
      "outputs": [
        {
          "output_type": "stream",
          "name": "stdout",
          "text": [
            "Testing Error is  0.21347535941897308\n"
          ]
        }
      ]
    },
    {
      "cell_type": "code",
      "metadata": {
        "id": "MliWirpaY6VI"
      },
      "source": [
        ""
      ],
      "execution_count": null,
      "outputs": []
    }
  ]
}