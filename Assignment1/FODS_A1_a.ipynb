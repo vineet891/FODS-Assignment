{
  "nbformat": 4,
  "nbformat_minor": 0,
  "metadata": {
    "colab": {
      "name": "FODS_A1_a.ipynb",
      "provenance": [],
      "collapsed_sections": [],
      "authorship_tag": "ABX9TyM36VJ06cOhlUftDTu+WGoV",
      "include_colab_link": true
    },
    "kernelspec": {
      "name": "python3",
      "display_name": "Python 3"
    },
    "language_info": {
      "name": "python"
    },
    "widgets": {
      "application/vnd.jupyter.widget-state+json": {
        "148feda91df748d887d0f099d5b651b8": {
          "model_module": "@jupyter-widgets/controls",
          "model_name": "HBoxModel",
          "model_module_version": "1.5.0",
          "state": {
            "_view_name": "HBoxView",
            "_dom_classes": [],
            "_model_name": "HBoxModel",
            "_view_module": "@jupyter-widgets/controls",
            "_model_module_version": "1.5.0",
            "_view_count": null,
            "_view_module_version": "1.5.0",
            "box_style": "",
            "layout": "IPY_MODEL_5503de340ef648c4ad70c859aae215a2",
            "_model_module": "@jupyter-widgets/controls",
            "children": [
              "IPY_MODEL_01020522151b4dc09d82d09eaaaa264b",
              "IPY_MODEL_a3ab2741cfbb4a989c01c6df6193c3de",
              "IPY_MODEL_69008a38c6e74809a68e7cd1eb832102"
            ]
          }
        },
        "5503de340ef648c4ad70c859aae215a2": {
          "model_module": "@jupyter-widgets/base",
          "model_name": "LayoutModel",
          "model_module_version": "1.2.0",
          "state": {
            "_view_name": "LayoutView",
            "grid_template_rows": null,
            "right": null,
            "justify_content": null,
            "_view_module": "@jupyter-widgets/base",
            "overflow": null,
            "_model_module_version": "1.2.0",
            "_view_count": null,
            "flex_flow": null,
            "width": null,
            "min_width": null,
            "border": null,
            "align_items": null,
            "bottom": null,
            "_model_module": "@jupyter-widgets/base",
            "top": null,
            "grid_column": null,
            "overflow_y": null,
            "overflow_x": null,
            "grid_auto_flow": null,
            "grid_area": null,
            "grid_template_columns": null,
            "flex": null,
            "_model_name": "LayoutModel",
            "justify_items": null,
            "grid_row": null,
            "max_height": null,
            "align_content": null,
            "visibility": null,
            "align_self": null,
            "height": null,
            "min_height": null,
            "padding": null,
            "grid_auto_rows": null,
            "grid_gap": null,
            "max_width": null,
            "order": null,
            "_view_module_version": "1.2.0",
            "grid_template_areas": null,
            "object_position": null,
            "object_fit": null,
            "grid_auto_columns": null,
            "margin": null,
            "display": null,
            "left": null
          }
        },
        "01020522151b4dc09d82d09eaaaa264b": {
          "model_module": "@jupyter-widgets/controls",
          "model_name": "HTMLModel",
          "model_module_version": "1.5.0",
          "state": {
            "_view_name": "HTMLView",
            "style": "IPY_MODEL_a39e1352149c477eab01133b89647ce6",
            "_dom_classes": [],
            "description": "",
            "_model_name": "HTMLModel",
            "placeholder": "​",
            "_view_module": "@jupyter-widgets/controls",
            "_model_module_version": "1.5.0",
            "value": "100%",
            "_view_count": null,
            "_view_module_version": "1.5.0",
            "description_tooltip": null,
            "_model_module": "@jupyter-widgets/controls",
            "layout": "IPY_MODEL_d4d9313d1bf045a9a4722b2732aee24c"
          }
        },
        "a3ab2741cfbb4a989c01c6df6193c3de": {
          "model_module": "@jupyter-widgets/controls",
          "model_name": "FloatProgressModel",
          "model_module_version": "1.5.0",
          "state": {
            "_view_name": "ProgressView",
            "style": "IPY_MODEL_c7f0fb6a814c49e08ac628675ee4e471",
            "_dom_classes": [],
            "description": "",
            "_model_name": "FloatProgressModel",
            "bar_style": "success",
            "max": 200,
            "_view_module": "@jupyter-widgets/controls",
            "_model_module_version": "1.5.0",
            "value": 200,
            "_view_count": null,
            "_view_module_version": "1.5.0",
            "orientation": "horizontal",
            "min": 0,
            "description_tooltip": null,
            "_model_module": "@jupyter-widgets/controls",
            "layout": "IPY_MODEL_62fac8dcffe6456eb3dd4bd1ea779be5"
          }
        },
        "69008a38c6e74809a68e7cd1eb832102": {
          "model_module": "@jupyter-widgets/controls",
          "model_name": "HTMLModel",
          "model_module_version": "1.5.0",
          "state": {
            "_view_name": "HTMLView",
            "style": "IPY_MODEL_c6c26e8cf6a341fa9684c72c2976c1b5",
            "_dom_classes": [],
            "description": "",
            "_model_name": "HTMLModel",
            "placeholder": "​",
            "_view_module": "@jupyter-widgets/controls",
            "_model_module_version": "1.5.0",
            "value": " 200/200 [00:05&lt;00:00, 39.25epoch/s]",
            "_view_count": null,
            "_view_module_version": "1.5.0",
            "description_tooltip": null,
            "_model_module": "@jupyter-widgets/controls",
            "layout": "IPY_MODEL_436989a2f3c54f2ca71f7e453ada87e8"
          }
        },
        "a39e1352149c477eab01133b89647ce6": {
          "model_module": "@jupyter-widgets/controls",
          "model_name": "DescriptionStyleModel",
          "model_module_version": "1.5.0",
          "state": {
            "_view_name": "StyleView",
            "_model_name": "DescriptionStyleModel",
            "description_width": "",
            "_view_module": "@jupyter-widgets/base",
            "_model_module_version": "1.5.0",
            "_view_count": null,
            "_view_module_version": "1.2.0",
            "_model_module": "@jupyter-widgets/controls"
          }
        },
        "d4d9313d1bf045a9a4722b2732aee24c": {
          "model_module": "@jupyter-widgets/base",
          "model_name": "LayoutModel",
          "model_module_version": "1.2.0",
          "state": {
            "_view_name": "LayoutView",
            "grid_template_rows": null,
            "right": null,
            "justify_content": null,
            "_view_module": "@jupyter-widgets/base",
            "overflow": null,
            "_model_module_version": "1.2.0",
            "_view_count": null,
            "flex_flow": null,
            "width": null,
            "min_width": null,
            "border": null,
            "align_items": null,
            "bottom": null,
            "_model_module": "@jupyter-widgets/base",
            "top": null,
            "grid_column": null,
            "overflow_y": null,
            "overflow_x": null,
            "grid_auto_flow": null,
            "grid_area": null,
            "grid_template_columns": null,
            "flex": null,
            "_model_name": "LayoutModel",
            "justify_items": null,
            "grid_row": null,
            "max_height": null,
            "align_content": null,
            "visibility": null,
            "align_self": null,
            "height": null,
            "min_height": null,
            "padding": null,
            "grid_auto_rows": null,
            "grid_gap": null,
            "max_width": null,
            "order": null,
            "_view_module_version": "1.2.0",
            "grid_template_areas": null,
            "object_position": null,
            "object_fit": null,
            "grid_auto_columns": null,
            "margin": null,
            "display": null,
            "left": null
          }
        },
        "c7f0fb6a814c49e08ac628675ee4e471": {
          "model_module": "@jupyter-widgets/controls",
          "model_name": "ProgressStyleModel",
          "model_module_version": "1.5.0",
          "state": {
            "_view_name": "StyleView",
            "_model_name": "ProgressStyleModel",
            "description_width": "",
            "_view_module": "@jupyter-widgets/base",
            "_model_module_version": "1.5.0",
            "_view_count": null,
            "_view_module_version": "1.2.0",
            "bar_color": null,
            "_model_module": "@jupyter-widgets/controls"
          }
        },
        "62fac8dcffe6456eb3dd4bd1ea779be5": {
          "model_module": "@jupyter-widgets/base",
          "model_name": "LayoutModel",
          "model_module_version": "1.2.0",
          "state": {
            "_view_name": "LayoutView",
            "grid_template_rows": null,
            "right": null,
            "justify_content": null,
            "_view_module": "@jupyter-widgets/base",
            "overflow": null,
            "_model_module_version": "1.2.0",
            "_view_count": null,
            "flex_flow": null,
            "width": null,
            "min_width": null,
            "border": null,
            "align_items": null,
            "bottom": null,
            "_model_module": "@jupyter-widgets/base",
            "top": null,
            "grid_column": null,
            "overflow_y": null,
            "overflow_x": null,
            "grid_auto_flow": null,
            "grid_area": null,
            "grid_template_columns": null,
            "flex": null,
            "_model_name": "LayoutModel",
            "justify_items": null,
            "grid_row": null,
            "max_height": null,
            "align_content": null,
            "visibility": null,
            "align_self": null,
            "height": null,
            "min_height": null,
            "padding": null,
            "grid_auto_rows": null,
            "grid_gap": null,
            "max_width": null,
            "order": null,
            "_view_module_version": "1.2.0",
            "grid_template_areas": null,
            "object_position": null,
            "object_fit": null,
            "grid_auto_columns": null,
            "margin": null,
            "display": null,
            "left": null
          }
        },
        "c6c26e8cf6a341fa9684c72c2976c1b5": {
          "model_module": "@jupyter-widgets/controls",
          "model_name": "DescriptionStyleModel",
          "model_module_version": "1.5.0",
          "state": {
            "_view_name": "StyleView",
            "_model_name": "DescriptionStyleModel",
            "description_width": "",
            "_view_module": "@jupyter-widgets/base",
            "_model_module_version": "1.5.0",
            "_view_count": null,
            "_view_module_version": "1.2.0",
            "_model_module": "@jupyter-widgets/controls"
          }
        },
        "436989a2f3c54f2ca71f7e453ada87e8": {
          "model_module": "@jupyter-widgets/base",
          "model_name": "LayoutModel",
          "model_module_version": "1.2.0",
          "state": {
            "_view_name": "LayoutView",
            "grid_template_rows": null,
            "right": null,
            "justify_content": null,
            "_view_module": "@jupyter-widgets/base",
            "overflow": null,
            "_model_module_version": "1.2.0",
            "_view_count": null,
            "flex_flow": null,
            "width": null,
            "min_width": null,
            "border": null,
            "align_items": null,
            "bottom": null,
            "_model_module": "@jupyter-widgets/base",
            "top": null,
            "grid_column": null,
            "overflow_y": null,
            "overflow_x": null,
            "grid_auto_flow": null,
            "grid_area": null,
            "grid_template_columns": null,
            "flex": null,
            "_model_name": "LayoutModel",
            "justify_items": null,
            "grid_row": null,
            "max_height": null,
            "align_content": null,
            "visibility": null,
            "align_self": null,
            "height": null,
            "min_height": null,
            "padding": null,
            "grid_auto_rows": null,
            "grid_gap": null,
            "max_width": null,
            "order": null,
            "_view_module_version": "1.2.0",
            "grid_template_areas": null,
            "object_position": null,
            "object_fit": null,
            "grid_auto_columns": null,
            "margin": null,
            "display": null,
            "left": null
          }
        },
        "4a032afbe829482a9fbce06e3ace4779": {
          "model_module": "@jupyter-widgets/controls",
          "model_name": "HBoxModel",
          "model_module_version": "1.5.0",
          "state": {
            "_view_name": "HBoxView",
            "_dom_classes": [],
            "_model_name": "HBoxModel",
            "_view_module": "@jupyter-widgets/controls",
            "_model_module_version": "1.5.0",
            "_view_count": null,
            "_view_module_version": "1.5.0",
            "box_style": "",
            "layout": "IPY_MODEL_54516662e7484dba81475c4bca75942d",
            "_model_module": "@jupyter-widgets/controls",
            "children": [
              "IPY_MODEL_f63e957156b148b399a376563c81d61d",
              "IPY_MODEL_c96330d706f64e95b8b940d29bad5388",
              "IPY_MODEL_6ae7d69e1660482abd871822d0424437"
            ]
          }
        },
        "54516662e7484dba81475c4bca75942d": {
          "model_module": "@jupyter-widgets/base",
          "model_name": "LayoutModel",
          "model_module_version": "1.2.0",
          "state": {
            "_view_name": "LayoutView",
            "grid_template_rows": null,
            "right": null,
            "justify_content": null,
            "_view_module": "@jupyter-widgets/base",
            "overflow": null,
            "_model_module_version": "1.2.0",
            "_view_count": null,
            "flex_flow": null,
            "width": null,
            "min_width": null,
            "border": null,
            "align_items": null,
            "bottom": null,
            "_model_module": "@jupyter-widgets/base",
            "top": null,
            "grid_column": null,
            "overflow_y": null,
            "overflow_x": null,
            "grid_auto_flow": null,
            "grid_area": null,
            "grid_template_columns": null,
            "flex": null,
            "_model_name": "LayoutModel",
            "justify_items": null,
            "grid_row": null,
            "max_height": null,
            "align_content": null,
            "visibility": null,
            "align_self": null,
            "height": null,
            "min_height": null,
            "padding": null,
            "grid_auto_rows": null,
            "grid_gap": null,
            "max_width": null,
            "order": null,
            "_view_module_version": "1.2.0",
            "grid_template_areas": null,
            "object_position": null,
            "object_fit": null,
            "grid_auto_columns": null,
            "margin": null,
            "display": null,
            "left": null
          }
        },
        "f63e957156b148b399a376563c81d61d": {
          "model_module": "@jupyter-widgets/controls",
          "model_name": "HTMLModel",
          "model_module_version": "1.5.0",
          "state": {
            "_view_name": "HTMLView",
            "style": "IPY_MODEL_e3cb47ac1b0d4b56b28dbc222a605f60",
            "_dom_classes": [],
            "description": "",
            "_model_name": "HTMLModel",
            "placeholder": "​",
            "_view_module": "@jupyter-widgets/controls",
            "_model_module_version": "1.5.0",
            "value": "100%",
            "_view_count": null,
            "_view_module_version": "1.5.0",
            "description_tooltip": null,
            "_model_module": "@jupyter-widgets/controls",
            "layout": "IPY_MODEL_127a5d0480b24d9f98f5744abd32afd6"
          }
        },
        "c96330d706f64e95b8b940d29bad5388": {
          "model_module": "@jupyter-widgets/controls",
          "model_name": "FloatProgressModel",
          "model_module_version": "1.5.0",
          "state": {
            "_view_name": "ProgressView",
            "style": "IPY_MODEL_cf53c5133aa14cada34017f23a4ebd31",
            "_dom_classes": [],
            "description": "",
            "_model_name": "FloatProgressModel",
            "bar_style": "success",
            "max": 1000,
            "_view_module": "@jupyter-widgets/controls",
            "_model_module_version": "1.5.0",
            "value": 1000,
            "_view_count": null,
            "_view_module_version": "1.5.0",
            "orientation": "horizontal",
            "min": 0,
            "description_tooltip": null,
            "_model_module": "@jupyter-widgets/controls",
            "layout": "IPY_MODEL_0ec3512c423644ba9ba9a937e5f608b9"
          }
        },
        "6ae7d69e1660482abd871822d0424437": {
          "model_module": "@jupyter-widgets/controls",
          "model_name": "HTMLModel",
          "model_module_version": "1.5.0",
          "state": {
            "_view_name": "HTMLView",
            "style": "IPY_MODEL_508eb3f1331a442fbcc063a0c8a8df0c",
            "_dom_classes": [],
            "description": "",
            "_model_name": "HTMLModel",
            "placeholder": "​",
            "_view_module": "@jupyter-widgets/controls",
            "_model_module_version": "1.5.0",
            "value": " 1000/1000 [00:09&lt;00:00, 112.19epoch/s]",
            "_view_count": null,
            "_view_module_version": "1.5.0",
            "description_tooltip": null,
            "_model_module": "@jupyter-widgets/controls",
            "layout": "IPY_MODEL_67c140345c444c7dba970702cfd40e0c"
          }
        },
        "e3cb47ac1b0d4b56b28dbc222a605f60": {
          "model_module": "@jupyter-widgets/controls",
          "model_name": "DescriptionStyleModel",
          "model_module_version": "1.5.0",
          "state": {
            "_view_name": "StyleView",
            "_model_name": "DescriptionStyleModel",
            "description_width": "",
            "_view_module": "@jupyter-widgets/base",
            "_model_module_version": "1.5.0",
            "_view_count": null,
            "_view_module_version": "1.2.0",
            "_model_module": "@jupyter-widgets/controls"
          }
        },
        "127a5d0480b24d9f98f5744abd32afd6": {
          "model_module": "@jupyter-widgets/base",
          "model_name": "LayoutModel",
          "model_module_version": "1.2.0",
          "state": {
            "_view_name": "LayoutView",
            "grid_template_rows": null,
            "right": null,
            "justify_content": null,
            "_view_module": "@jupyter-widgets/base",
            "overflow": null,
            "_model_module_version": "1.2.0",
            "_view_count": null,
            "flex_flow": null,
            "width": null,
            "min_width": null,
            "border": null,
            "align_items": null,
            "bottom": null,
            "_model_module": "@jupyter-widgets/base",
            "top": null,
            "grid_column": null,
            "overflow_y": null,
            "overflow_x": null,
            "grid_auto_flow": null,
            "grid_area": null,
            "grid_template_columns": null,
            "flex": null,
            "_model_name": "LayoutModel",
            "justify_items": null,
            "grid_row": null,
            "max_height": null,
            "align_content": null,
            "visibility": null,
            "align_self": null,
            "height": null,
            "min_height": null,
            "padding": null,
            "grid_auto_rows": null,
            "grid_gap": null,
            "max_width": null,
            "order": null,
            "_view_module_version": "1.2.0",
            "grid_template_areas": null,
            "object_position": null,
            "object_fit": null,
            "grid_auto_columns": null,
            "margin": null,
            "display": null,
            "left": null
          }
        },
        "cf53c5133aa14cada34017f23a4ebd31": {
          "model_module": "@jupyter-widgets/controls",
          "model_name": "ProgressStyleModel",
          "model_module_version": "1.5.0",
          "state": {
            "_view_name": "StyleView",
            "_model_name": "ProgressStyleModel",
            "description_width": "",
            "_view_module": "@jupyter-widgets/base",
            "_model_module_version": "1.5.0",
            "_view_count": null,
            "_view_module_version": "1.2.0",
            "bar_color": null,
            "_model_module": "@jupyter-widgets/controls"
          }
        },
        "0ec3512c423644ba9ba9a937e5f608b9": {
          "model_module": "@jupyter-widgets/base",
          "model_name": "LayoutModel",
          "model_module_version": "1.2.0",
          "state": {
            "_view_name": "LayoutView",
            "grid_template_rows": null,
            "right": null,
            "justify_content": null,
            "_view_module": "@jupyter-widgets/base",
            "overflow": null,
            "_model_module_version": "1.2.0",
            "_view_count": null,
            "flex_flow": null,
            "width": null,
            "min_width": null,
            "border": null,
            "align_items": null,
            "bottom": null,
            "_model_module": "@jupyter-widgets/base",
            "top": null,
            "grid_column": null,
            "overflow_y": null,
            "overflow_x": null,
            "grid_auto_flow": null,
            "grid_area": null,
            "grid_template_columns": null,
            "flex": null,
            "_model_name": "LayoutModel",
            "justify_items": null,
            "grid_row": null,
            "max_height": null,
            "align_content": null,
            "visibility": null,
            "align_self": null,
            "height": null,
            "min_height": null,
            "padding": null,
            "grid_auto_rows": null,
            "grid_gap": null,
            "max_width": null,
            "order": null,
            "_view_module_version": "1.2.0",
            "grid_template_areas": null,
            "object_position": null,
            "object_fit": null,
            "grid_auto_columns": null,
            "margin": null,
            "display": null,
            "left": null
          }
        },
        "508eb3f1331a442fbcc063a0c8a8df0c": {
          "model_module": "@jupyter-widgets/controls",
          "model_name": "DescriptionStyleModel",
          "model_module_version": "1.5.0",
          "state": {
            "_view_name": "StyleView",
            "_model_name": "DescriptionStyleModel",
            "description_width": "",
            "_view_module": "@jupyter-widgets/base",
            "_model_module_version": "1.5.0",
            "_view_count": null,
            "_view_module_version": "1.2.0",
            "_model_module": "@jupyter-widgets/controls"
          }
        },
        "67c140345c444c7dba970702cfd40e0c": {
          "model_module": "@jupyter-widgets/base",
          "model_name": "LayoutModel",
          "model_module_version": "1.2.0",
          "state": {
            "_view_name": "LayoutView",
            "grid_template_rows": null,
            "right": null,
            "justify_content": null,
            "_view_module": "@jupyter-widgets/base",
            "overflow": null,
            "_model_module_version": "1.2.0",
            "_view_count": null,
            "flex_flow": null,
            "width": null,
            "min_width": null,
            "border": null,
            "align_items": null,
            "bottom": null,
            "_model_module": "@jupyter-widgets/base",
            "top": null,
            "grid_column": null,
            "overflow_y": null,
            "overflow_x": null,
            "grid_auto_flow": null,
            "grid_area": null,
            "grid_template_columns": null,
            "flex": null,
            "_model_name": "LayoutModel",
            "justify_items": null,
            "grid_row": null,
            "max_height": null,
            "align_content": null,
            "visibility": null,
            "align_self": null,
            "height": null,
            "min_height": null,
            "padding": null,
            "grid_auto_rows": null,
            "grid_gap": null,
            "max_width": null,
            "order": null,
            "_view_module_version": "1.2.0",
            "grid_template_areas": null,
            "object_position": null,
            "object_fit": null,
            "grid_auto_columns": null,
            "margin": null,
            "display": null,
            "left": null
          }
        },
        "baa50b556bb64689b82374fbdc760381": {
          "model_module": "@jupyter-widgets/controls",
          "model_name": "HBoxModel",
          "model_module_version": "1.5.0",
          "state": {
            "_view_name": "HBoxView",
            "_dom_classes": [],
            "_model_name": "HBoxModel",
            "_view_module": "@jupyter-widgets/controls",
            "_model_module_version": "1.5.0",
            "_view_count": null,
            "_view_module_version": "1.5.0",
            "box_style": "",
            "layout": "IPY_MODEL_3173cead0a6143fd94f540fbdc6f58a4",
            "_model_module": "@jupyter-widgets/controls",
            "children": [
              "IPY_MODEL_fc095e5ac7514e9e844e5ff6ac30c7dc",
              "IPY_MODEL_9aaa935ea28a403f927a377162f452d8",
              "IPY_MODEL_927c1e4e672a4a10a09014375d1e31de"
            ]
          }
        },
        "3173cead0a6143fd94f540fbdc6f58a4": {
          "model_module": "@jupyter-widgets/base",
          "model_name": "LayoutModel",
          "model_module_version": "1.2.0",
          "state": {
            "_view_name": "LayoutView",
            "grid_template_rows": null,
            "right": null,
            "justify_content": null,
            "_view_module": "@jupyter-widgets/base",
            "overflow": null,
            "_model_module_version": "1.2.0",
            "_view_count": null,
            "flex_flow": null,
            "width": null,
            "min_width": null,
            "border": null,
            "align_items": null,
            "bottom": null,
            "_model_module": "@jupyter-widgets/base",
            "top": null,
            "grid_column": null,
            "overflow_y": null,
            "overflow_x": null,
            "grid_auto_flow": null,
            "grid_area": null,
            "grid_template_columns": null,
            "flex": null,
            "_model_name": "LayoutModel",
            "justify_items": null,
            "grid_row": null,
            "max_height": null,
            "align_content": null,
            "visibility": null,
            "align_self": null,
            "height": null,
            "min_height": null,
            "padding": null,
            "grid_auto_rows": null,
            "grid_gap": null,
            "max_width": null,
            "order": null,
            "_view_module_version": "1.2.0",
            "grid_template_areas": null,
            "object_position": null,
            "object_fit": null,
            "grid_auto_columns": null,
            "margin": null,
            "display": null,
            "left": null
          }
        },
        "fc095e5ac7514e9e844e5ff6ac30c7dc": {
          "model_module": "@jupyter-widgets/controls",
          "model_name": "HTMLModel",
          "model_module_version": "1.5.0",
          "state": {
            "_view_name": "HTMLView",
            "style": "IPY_MODEL_00d2491df4474b3fa15917732d6045c4",
            "_dom_classes": [],
            "description": "",
            "_model_name": "HTMLModel",
            "placeholder": "​",
            "_view_module": "@jupyter-widgets/controls",
            "_model_module_version": "1.5.0",
            "value": "100%",
            "_view_count": null,
            "_view_module_version": "1.5.0",
            "description_tooltip": null,
            "_model_module": "@jupyter-widgets/controls",
            "layout": "IPY_MODEL_928354761b3a48259da3820eb179913c"
          }
        },
        "9aaa935ea28a403f927a377162f452d8": {
          "model_module": "@jupyter-widgets/controls",
          "model_name": "FloatProgressModel",
          "model_module_version": "1.5.0",
          "state": {
            "_view_name": "ProgressView",
            "style": "IPY_MODEL_ff1278de7a2342f798423cb03262dd31",
            "_dom_classes": [],
            "description": "",
            "_model_name": "FloatProgressModel",
            "bar_style": "success",
            "max": 500,
            "_view_module": "@jupyter-widgets/controls",
            "_model_module_version": "1.5.0",
            "value": 500,
            "_view_count": null,
            "_view_module_version": "1.5.0",
            "orientation": "horizontal",
            "min": 0,
            "description_tooltip": null,
            "_model_module": "@jupyter-widgets/controls",
            "layout": "IPY_MODEL_b57729799bb8451a80c722f2b1925888"
          }
        },
        "927c1e4e672a4a10a09014375d1e31de": {
          "model_module": "@jupyter-widgets/controls",
          "model_name": "HTMLModel",
          "model_module_version": "1.5.0",
          "state": {
            "_view_name": "HTMLView",
            "style": "IPY_MODEL_98a368c86e404d1c9b580bd6d45e42d9",
            "_dom_classes": [],
            "description": "",
            "_model_name": "HTMLModel",
            "placeholder": "​",
            "_view_module": "@jupyter-widgets/controls",
            "_model_module_version": "1.5.0",
            "value": " 500/500 [00:13&lt;00:00, 36.64epoch/s]",
            "_view_count": null,
            "_view_module_version": "1.5.0",
            "description_tooltip": null,
            "_model_module": "@jupyter-widgets/controls",
            "layout": "IPY_MODEL_3261154907bb4af38bd408243346ee03"
          }
        },
        "00d2491df4474b3fa15917732d6045c4": {
          "model_module": "@jupyter-widgets/controls",
          "model_name": "DescriptionStyleModel",
          "model_module_version": "1.5.0",
          "state": {
            "_view_name": "StyleView",
            "_model_name": "DescriptionStyleModel",
            "description_width": "",
            "_view_module": "@jupyter-widgets/base",
            "_model_module_version": "1.5.0",
            "_view_count": null,
            "_view_module_version": "1.2.0",
            "_model_module": "@jupyter-widgets/controls"
          }
        },
        "928354761b3a48259da3820eb179913c": {
          "model_module": "@jupyter-widgets/base",
          "model_name": "LayoutModel",
          "model_module_version": "1.2.0",
          "state": {
            "_view_name": "LayoutView",
            "grid_template_rows": null,
            "right": null,
            "justify_content": null,
            "_view_module": "@jupyter-widgets/base",
            "overflow": null,
            "_model_module_version": "1.2.0",
            "_view_count": null,
            "flex_flow": null,
            "width": null,
            "min_width": null,
            "border": null,
            "align_items": null,
            "bottom": null,
            "_model_module": "@jupyter-widgets/base",
            "top": null,
            "grid_column": null,
            "overflow_y": null,
            "overflow_x": null,
            "grid_auto_flow": null,
            "grid_area": null,
            "grid_template_columns": null,
            "flex": null,
            "_model_name": "LayoutModel",
            "justify_items": null,
            "grid_row": null,
            "max_height": null,
            "align_content": null,
            "visibility": null,
            "align_self": null,
            "height": null,
            "min_height": null,
            "padding": null,
            "grid_auto_rows": null,
            "grid_gap": null,
            "max_width": null,
            "order": null,
            "_view_module_version": "1.2.0",
            "grid_template_areas": null,
            "object_position": null,
            "object_fit": null,
            "grid_auto_columns": null,
            "margin": null,
            "display": null,
            "left": null
          }
        },
        "ff1278de7a2342f798423cb03262dd31": {
          "model_module": "@jupyter-widgets/controls",
          "model_name": "ProgressStyleModel",
          "model_module_version": "1.5.0",
          "state": {
            "_view_name": "StyleView",
            "_model_name": "ProgressStyleModel",
            "description_width": "",
            "_view_module": "@jupyter-widgets/base",
            "_model_module_version": "1.5.0",
            "_view_count": null,
            "_view_module_version": "1.2.0",
            "bar_color": null,
            "_model_module": "@jupyter-widgets/controls"
          }
        },
        "b57729799bb8451a80c722f2b1925888": {
          "model_module": "@jupyter-widgets/base",
          "model_name": "LayoutModel",
          "model_module_version": "1.2.0",
          "state": {
            "_view_name": "LayoutView",
            "grid_template_rows": null,
            "right": null,
            "justify_content": null,
            "_view_module": "@jupyter-widgets/base",
            "overflow": null,
            "_model_module_version": "1.2.0",
            "_view_count": null,
            "flex_flow": null,
            "width": null,
            "min_width": null,
            "border": null,
            "align_items": null,
            "bottom": null,
            "_model_module": "@jupyter-widgets/base",
            "top": null,
            "grid_column": null,
            "overflow_y": null,
            "overflow_x": null,
            "grid_auto_flow": null,
            "grid_area": null,
            "grid_template_columns": null,
            "flex": null,
            "_model_name": "LayoutModel",
            "justify_items": null,
            "grid_row": null,
            "max_height": null,
            "align_content": null,
            "visibility": null,
            "align_self": null,
            "height": null,
            "min_height": null,
            "padding": null,
            "grid_auto_rows": null,
            "grid_gap": null,
            "max_width": null,
            "order": null,
            "_view_module_version": "1.2.0",
            "grid_template_areas": null,
            "object_position": null,
            "object_fit": null,
            "grid_auto_columns": null,
            "margin": null,
            "display": null,
            "left": null
          }
        },
        "98a368c86e404d1c9b580bd6d45e42d9": {
          "model_module": "@jupyter-widgets/controls",
          "model_name": "DescriptionStyleModel",
          "model_module_version": "1.5.0",
          "state": {
            "_view_name": "StyleView",
            "_model_name": "DescriptionStyleModel",
            "description_width": "",
            "_view_module": "@jupyter-widgets/base",
            "_model_module_version": "1.5.0",
            "_view_count": null,
            "_view_module_version": "1.2.0",
            "_model_module": "@jupyter-widgets/controls"
          }
        },
        "3261154907bb4af38bd408243346ee03": {
          "model_module": "@jupyter-widgets/base",
          "model_name": "LayoutModel",
          "model_module_version": "1.2.0",
          "state": {
            "_view_name": "LayoutView",
            "grid_template_rows": null,
            "right": null,
            "justify_content": null,
            "_view_module": "@jupyter-widgets/base",
            "overflow": null,
            "_model_module_version": "1.2.0",
            "_view_count": null,
            "flex_flow": null,
            "width": null,
            "min_width": null,
            "border": null,
            "align_items": null,
            "bottom": null,
            "_model_module": "@jupyter-widgets/base",
            "top": null,
            "grid_column": null,
            "overflow_y": null,
            "overflow_x": null,
            "grid_auto_flow": null,
            "grid_area": null,
            "grid_template_columns": null,
            "flex": null,
            "_model_name": "LayoutModel",
            "justify_items": null,
            "grid_row": null,
            "max_height": null,
            "align_content": null,
            "visibility": null,
            "align_self": null,
            "height": null,
            "min_height": null,
            "padding": null,
            "grid_auto_rows": null,
            "grid_gap": null,
            "max_width": null,
            "order": null,
            "_view_module_version": "1.2.0",
            "grid_template_areas": null,
            "object_position": null,
            "object_fit": null,
            "grid_auto_columns": null,
            "margin": null,
            "display": null,
            "left": null
          }
        },
        "9a5b4dc193bd46c39a910f7c4a6e06e1": {
          "model_module": "@jupyter-widgets/controls",
          "model_name": "HBoxModel",
          "model_module_version": "1.5.0",
          "state": {
            "_view_name": "HBoxView",
            "_dom_classes": [],
            "_model_name": "HBoxModel",
            "_view_module": "@jupyter-widgets/controls",
            "_model_module_version": "1.5.0",
            "_view_count": null,
            "_view_module_version": "1.5.0",
            "box_style": "",
            "layout": "IPY_MODEL_5af1de6c40c54f3087d3ef122d4885c9",
            "_model_module": "@jupyter-widgets/controls",
            "children": [
              "IPY_MODEL_4d809db00770495c940c838a04f4b4ce",
              "IPY_MODEL_6f9290c0748c4947869adaa9cc082f87",
              "IPY_MODEL_a4a935b8bb1d43849292b3489ce0e5a0"
            ]
          }
        },
        "5af1de6c40c54f3087d3ef122d4885c9": {
          "model_module": "@jupyter-widgets/base",
          "model_name": "LayoutModel",
          "model_module_version": "1.2.0",
          "state": {
            "_view_name": "LayoutView",
            "grid_template_rows": null,
            "right": null,
            "justify_content": null,
            "_view_module": "@jupyter-widgets/base",
            "overflow": null,
            "_model_module_version": "1.2.0",
            "_view_count": null,
            "flex_flow": null,
            "width": null,
            "min_width": null,
            "border": null,
            "align_items": null,
            "bottom": null,
            "_model_module": "@jupyter-widgets/base",
            "top": null,
            "grid_column": null,
            "overflow_y": null,
            "overflow_x": null,
            "grid_auto_flow": null,
            "grid_area": null,
            "grid_template_columns": null,
            "flex": null,
            "_model_name": "LayoutModel",
            "justify_items": null,
            "grid_row": null,
            "max_height": null,
            "align_content": null,
            "visibility": null,
            "align_self": null,
            "height": null,
            "min_height": null,
            "padding": null,
            "grid_auto_rows": null,
            "grid_gap": null,
            "max_width": null,
            "order": null,
            "_view_module_version": "1.2.0",
            "grid_template_areas": null,
            "object_position": null,
            "object_fit": null,
            "grid_auto_columns": null,
            "margin": null,
            "display": null,
            "left": null
          }
        },
        "4d809db00770495c940c838a04f4b4ce": {
          "model_module": "@jupyter-widgets/controls",
          "model_name": "HTMLModel",
          "model_module_version": "1.5.0",
          "state": {
            "_view_name": "HTMLView",
            "style": "IPY_MODEL_8c13c67de7f1434d833886a874bff278",
            "_dom_classes": [],
            "description": "",
            "_model_name": "HTMLModel",
            "placeholder": "​",
            "_view_module": "@jupyter-widgets/controls",
            "_model_module_version": "1.5.0",
            "value": "100%",
            "_view_count": null,
            "_view_module_version": "1.5.0",
            "description_tooltip": null,
            "_model_module": "@jupyter-widgets/controls",
            "layout": "IPY_MODEL_45b69f08873241d19facad42967b4eb1"
          }
        },
        "6f9290c0748c4947869adaa9cc082f87": {
          "model_module": "@jupyter-widgets/controls",
          "model_name": "FloatProgressModel",
          "model_module_version": "1.5.0",
          "state": {
            "_view_name": "ProgressView",
            "style": "IPY_MODEL_02b4e16289e4453abbe3217ce152f64a",
            "_dom_classes": [],
            "description": "",
            "_model_name": "FloatProgressModel",
            "bar_style": "success",
            "max": 1500,
            "_view_module": "@jupyter-widgets/controls",
            "_model_module_version": "1.5.0",
            "value": 1500,
            "_view_count": null,
            "_view_module_version": "1.5.0",
            "orientation": "horizontal",
            "min": 0,
            "description_tooltip": null,
            "_model_module": "@jupyter-widgets/controls",
            "layout": "IPY_MODEL_5497844d102d462f92f96fa312bfc6d3"
          }
        },
        "a4a935b8bb1d43849292b3489ce0e5a0": {
          "model_module": "@jupyter-widgets/controls",
          "model_name": "HTMLModel",
          "model_module_version": "1.5.0",
          "state": {
            "_view_name": "HTMLView",
            "style": "IPY_MODEL_7dedffaadb0843c3b91be6279952daae",
            "_dom_classes": [],
            "description": "",
            "_model_name": "HTMLModel",
            "placeholder": "​",
            "_view_module": "@jupyter-widgets/controls",
            "_model_module_version": "1.5.0",
            "value": " 1500/1500 [00:13&lt;00:00, 109.37epoch/s]",
            "_view_count": null,
            "_view_module_version": "1.5.0",
            "description_tooltip": null,
            "_model_module": "@jupyter-widgets/controls",
            "layout": "IPY_MODEL_57d96edd1bb641ea841d793a778a4e7c"
          }
        },
        "8c13c67de7f1434d833886a874bff278": {
          "model_module": "@jupyter-widgets/controls",
          "model_name": "DescriptionStyleModel",
          "model_module_version": "1.5.0",
          "state": {
            "_view_name": "StyleView",
            "_model_name": "DescriptionStyleModel",
            "description_width": "",
            "_view_module": "@jupyter-widgets/base",
            "_model_module_version": "1.5.0",
            "_view_count": null,
            "_view_module_version": "1.2.0",
            "_model_module": "@jupyter-widgets/controls"
          }
        },
        "45b69f08873241d19facad42967b4eb1": {
          "model_module": "@jupyter-widgets/base",
          "model_name": "LayoutModel",
          "model_module_version": "1.2.0",
          "state": {
            "_view_name": "LayoutView",
            "grid_template_rows": null,
            "right": null,
            "justify_content": null,
            "_view_module": "@jupyter-widgets/base",
            "overflow": null,
            "_model_module_version": "1.2.0",
            "_view_count": null,
            "flex_flow": null,
            "width": null,
            "min_width": null,
            "border": null,
            "align_items": null,
            "bottom": null,
            "_model_module": "@jupyter-widgets/base",
            "top": null,
            "grid_column": null,
            "overflow_y": null,
            "overflow_x": null,
            "grid_auto_flow": null,
            "grid_area": null,
            "grid_template_columns": null,
            "flex": null,
            "_model_name": "LayoutModel",
            "justify_items": null,
            "grid_row": null,
            "max_height": null,
            "align_content": null,
            "visibility": null,
            "align_self": null,
            "height": null,
            "min_height": null,
            "padding": null,
            "grid_auto_rows": null,
            "grid_gap": null,
            "max_width": null,
            "order": null,
            "_view_module_version": "1.2.0",
            "grid_template_areas": null,
            "object_position": null,
            "object_fit": null,
            "grid_auto_columns": null,
            "margin": null,
            "display": null,
            "left": null
          }
        },
        "02b4e16289e4453abbe3217ce152f64a": {
          "model_module": "@jupyter-widgets/controls",
          "model_name": "ProgressStyleModel",
          "model_module_version": "1.5.0",
          "state": {
            "_view_name": "StyleView",
            "_model_name": "ProgressStyleModel",
            "description_width": "",
            "_view_module": "@jupyter-widgets/base",
            "_model_module_version": "1.5.0",
            "_view_count": null,
            "_view_module_version": "1.2.0",
            "bar_color": null,
            "_model_module": "@jupyter-widgets/controls"
          }
        },
        "5497844d102d462f92f96fa312bfc6d3": {
          "model_module": "@jupyter-widgets/base",
          "model_name": "LayoutModel",
          "model_module_version": "1.2.0",
          "state": {
            "_view_name": "LayoutView",
            "grid_template_rows": null,
            "right": null,
            "justify_content": null,
            "_view_module": "@jupyter-widgets/base",
            "overflow": null,
            "_model_module_version": "1.2.0",
            "_view_count": null,
            "flex_flow": null,
            "width": null,
            "min_width": null,
            "border": null,
            "align_items": null,
            "bottom": null,
            "_model_module": "@jupyter-widgets/base",
            "top": null,
            "grid_column": null,
            "overflow_y": null,
            "overflow_x": null,
            "grid_auto_flow": null,
            "grid_area": null,
            "grid_template_columns": null,
            "flex": null,
            "_model_name": "LayoutModel",
            "justify_items": null,
            "grid_row": null,
            "max_height": null,
            "align_content": null,
            "visibility": null,
            "align_self": null,
            "height": null,
            "min_height": null,
            "padding": null,
            "grid_auto_rows": null,
            "grid_gap": null,
            "max_width": null,
            "order": null,
            "_view_module_version": "1.2.0",
            "grid_template_areas": null,
            "object_position": null,
            "object_fit": null,
            "grid_auto_columns": null,
            "margin": null,
            "display": null,
            "left": null
          }
        },
        "7dedffaadb0843c3b91be6279952daae": {
          "model_module": "@jupyter-widgets/controls",
          "model_name": "DescriptionStyleModel",
          "model_module_version": "1.5.0",
          "state": {
            "_view_name": "StyleView",
            "_model_name": "DescriptionStyleModel",
            "description_width": "",
            "_view_module": "@jupyter-widgets/base",
            "_model_module_version": "1.5.0",
            "_view_count": null,
            "_view_module_version": "1.2.0",
            "_model_module": "@jupyter-widgets/controls"
          }
        },
        "57d96edd1bb641ea841d793a778a4e7c": {
          "model_module": "@jupyter-widgets/base",
          "model_name": "LayoutModel",
          "model_module_version": "1.2.0",
          "state": {
            "_view_name": "LayoutView",
            "grid_template_rows": null,
            "right": null,
            "justify_content": null,
            "_view_module": "@jupyter-widgets/base",
            "overflow": null,
            "_model_module_version": "1.2.0",
            "_view_count": null,
            "flex_flow": null,
            "width": null,
            "min_width": null,
            "border": null,
            "align_items": null,
            "bottom": null,
            "_model_module": "@jupyter-widgets/base",
            "top": null,
            "grid_column": null,
            "overflow_y": null,
            "overflow_x": null,
            "grid_auto_flow": null,
            "grid_area": null,
            "grid_template_columns": null,
            "flex": null,
            "_model_name": "LayoutModel",
            "justify_items": null,
            "grid_row": null,
            "max_height": null,
            "align_content": null,
            "visibility": null,
            "align_self": null,
            "height": null,
            "min_height": null,
            "padding": null,
            "grid_auto_rows": null,
            "grid_gap": null,
            "max_width": null,
            "order": null,
            "_view_module_version": "1.2.0",
            "grid_template_areas": null,
            "object_position": null,
            "object_fit": null,
            "grid_auto_columns": null,
            "margin": null,
            "display": null,
            "left": null
          }
        },
        "c638cd60701f43d69bd2f1994acfac9a": {
          "model_module": "@jupyter-widgets/controls",
          "model_name": "HBoxModel",
          "model_module_version": "1.5.0",
          "state": {
            "_view_name": "HBoxView",
            "_dom_classes": [],
            "_model_name": "HBoxModel",
            "_view_module": "@jupyter-widgets/controls",
            "_model_module_version": "1.5.0",
            "_view_count": null,
            "_view_module_version": "1.5.0",
            "box_style": "",
            "layout": "IPY_MODEL_8bfdaf1a79a444d6b01e49afa0151523",
            "_model_module": "@jupyter-widgets/controls",
            "children": [
              "IPY_MODEL_e521d96932894282bd303f4d34e20d7e",
              "IPY_MODEL_9e9da60900cb4d7eaa7ecedf2057adfb",
              "IPY_MODEL_19767b40bfa6404c91bdd6f07b524f0c"
            ]
          }
        },
        "8bfdaf1a79a444d6b01e49afa0151523": {
          "model_module": "@jupyter-widgets/base",
          "model_name": "LayoutModel",
          "model_module_version": "1.2.0",
          "state": {
            "_view_name": "LayoutView",
            "grid_template_rows": null,
            "right": null,
            "justify_content": null,
            "_view_module": "@jupyter-widgets/base",
            "overflow": null,
            "_model_module_version": "1.2.0",
            "_view_count": null,
            "flex_flow": null,
            "width": null,
            "min_width": null,
            "border": null,
            "align_items": null,
            "bottom": null,
            "_model_module": "@jupyter-widgets/base",
            "top": null,
            "grid_column": null,
            "overflow_y": null,
            "overflow_x": null,
            "grid_auto_flow": null,
            "grid_area": null,
            "grid_template_columns": null,
            "flex": null,
            "_model_name": "LayoutModel",
            "justify_items": null,
            "grid_row": null,
            "max_height": null,
            "align_content": null,
            "visibility": null,
            "align_self": null,
            "height": null,
            "min_height": null,
            "padding": null,
            "grid_auto_rows": null,
            "grid_gap": null,
            "max_width": null,
            "order": null,
            "_view_module_version": "1.2.0",
            "grid_template_areas": null,
            "object_position": null,
            "object_fit": null,
            "grid_auto_columns": null,
            "margin": null,
            "display": null,
            "left": null
          }
        },
        "e521d96932894282bd303f4d34e20d7e": {
          "model_module": "@jupyter-widgets/controls",
          "model_name": "HTMLModel",
          "model_module_version": "1.5.0",
          "state": {
            "_view_name": "HTMLView",
            "style": "IPY_MODEL_78b50b0af2824b15b55e37d5cc5e4e29",
            "_dom_classes": [],
            "description": "",
            "_model_name": "HTMLModel",
            "placeholder": "​",
            "_view_module": "@jupyter-widgets/controls",
            "_model_module_version": "1.5.0",
            "value": "100%",
            "_view_count": null,
            "_view_module_version": "1.5.0",
            "description_tooltip": null,
            "_model_module": "@jupyter-widgets/controls",
            "layout": "IPY_MODEL_ea5f72e51ef54555b7c8b567631f2551"
          }
        },
        "9e9da60900cb4d7eaa7ecedf2057adfb": {
          "model_module": "@jupyter-widgets/controls",
          "model_name": "FloatProgressModel",
          "model_module_version": "1.5.0",
          "state": {
            "_view_name": "ProgressView",
            "style": "IPY_MODEL_5ac6597271294682bf0abc314492c514",
            "_dom_classes": [],
            "description": "",
            "_model_name": "FloatProgressModel",
            "bar_style": "success",
            "max": 500,
            "_view_module": "@jupyter-widgets/controls",
            "_model_module_version": "1.5.0",
            "value": 500,
            "_view_count": null,
            "_view_module_version": "1.5.0",
            "orientation": "horizontal",
            "min": 0,
            "description_tooltip": null,
            "_model_module": "@jupyter-widgets/controls",
            "layout": "IPY_MODEL_7bd6b6fe5e2947209db2839f0ff41313"
          }
        },
        "19767b40bfa6404c91bdd6f07b524f0c": {
          "model_module": "@jupyter-widgets/controls",
          "model_name": "HTMLModel",
          "model_module_version": "1.5.0",
          "state": {
            "_view_name": "HTMLView",
            "style": "IPY_MODEL_a35e24956022462eb736a918691c1daa",
            "_dom_classes": [],
            "description": "",
            "_model_name": "HTMLModel",
            "placeholder": "​",
            "_view_module": "@jupyter-widgets/controls",
            "_model_module_version": "1.5.0",
            "value": " 500/500 [00:13&lt;00:00, 39.60epoch/s]",
            "_view_count": null,
            "_view_module_version": "1.5.0",
            "description_tooltip": null,
            "_model_module": "@jupyter-widgets/controls",
            "layout": "IPY_MODEL_f5860aa22cf0458c9ca59687d0d53bcb"
          }
        },
        "78b50b0af2824b15b55e37d5cc5e4e29": {
          "model_module": "@jupyter-widgets/controls",
          "model_name": "DescriptionStyleModel",
          "model_module_version": "1.5.0",
          "state": {
            "_view_name": "StyleView",
            "_model_name": "DescriptionStyleModel",
            "description_width": "",
            "_view_module": "@jupyter-widgets/base",
            "_model_module_version": "1.5.0",
            "_view_count": null,
            "_view_module_version": "1.2.0",
            "_model_module": "@jupyter-widgets/controls"
          }
        },
        "ea5f72e51ef54555b7c8b567631f2551": {
          "model_module": "@jupyter-widgets/base",
          "model_name": "LayoutModel",
          "model_module_version": "1.2.0",
          "state": {
            "_view_name": "LayoutView",
            "grid_template_rows": null,
            "right": null,
            "justify_content": null,
            "_view_module": "@jupyter-widgets/base",
            "overflow": null,
            "_model_module_version": "1.2.0",
            "_view_count": null,
            "flex_flow": null,
            "width": null,
            "min_width": null,
            "border": null,
            "align_items": null,
            "bottom": null,
            "_model_module": "@jupyter-widgets/base",
            "top": null,
            "grid_column": null,
            "overflow_y": null,
            "overflow_x": null,
            "grid_auto_flow": null,
            "grid_area": null,
            "grid_template_columns": null,
            "flex": null,
            "_model_name": "LayoutModel",
            "justify_items": null,
            "grid_row": null,
            "max_height": null,
            "align_content": null,
            "visibility": null,
            "align_self": null,
            "height": null,
            "min_height": null,
            "padding": null,
            "grid_auto_rows": null,
            "grid_gap": null,
            "max_width": null,
            "order": null,
            "_view_module_version": "1.2.0",
            "grid_template_areas": null,
            "object_position": null,
            "object_fit": null,
            "grid_auto_columns": null,
            "margin": null,
            "display": null,
            "left": null
          }
        },
        "5ac6597271294682bf0abc314492c514": {
          "model_module": "@jupyter-widgets/controls",
          "model_name": "ProgressStyleModel",
          "model_module_version": "1.5.0",
          "state": {
            "_view_name": "StyleView",
            "_model_name": "ProgressStyleModel",
            "description_width": "",
            "_view_module": "@jupyter-widgets/base",
            "_model_module_version": "1.5.0",
            "_view_count": null,
            "_view_module_version": "1.2.0",
            "bar_color": null,
            "_model_module": "@jupyter-widgets/controls"
          }
        },
        "7bd6b6fe5e2947209db2839f0ff41313": {
          "model_module": "@jupyter-widgets/base",
          "model_name": "LayoutModel",
          "model_module_version": "1.2.0",
          "state": {
            "_view_name": "LayoutView",
            "grid_template_rows": null,
            "right": null,
            "justify_content": null,
            "_view_module": "@jupyter-widgets/base",
            "overflow": null,
            "_model_module_version": "1.2.0",
            "_view_count": null,
            "flex_flow": null,
            "width": null,
            "min_width": null,
            "border": null,
            "align_items": null,
            "bottom": null,
            "_model_module": "@jupyter-widgets/base",
            "top": null,
            "grid_column": null,
            "overflow_y": null,
            "overflow_x": null,
            "grid_auto_flow": null,
            "grid_area": null,
            "grid_template_columns": null,
            "flex": null,
            "_model_name": "LayoutModel",
            "justify_items": null,
            "grid_row": null,
            "max_height": null,
            "align_content": null,
            "visibility": null,
            "align_self": null,
            "height": null,
            "min_height": null,
            "padding": null,
            "grid_auto_rows": null,
            "grid_gap": null,
            "max_width": null,
            "order": null,
            "_view_module_version": "1.2.0",
            "grid_template_areas": null,
            "object_position": null,
            "object_fit": null,
            "grid_auto_columns": null,
            "margin": null,
            "display": null,
            "left": null
          }
        },
        "a35e24956022462eb736a918691c1daa": {
          "model_module": "@jupyter-widgets/controls",
          "model_name": "DescriptionStyleModel",
          "model_module_version": "1.5.0",
          "state": {
            "_view_name": "StyleView",
            "_model_name": "DescriptionStyleModel",
            "description_width": "",
            "_view_module": "@jupyter-widgets/base",
            "_model_module_version": "1.5.0",
            "_view_count": null,
            "_view_module_version": "1.2.0",
            "_model_module": "@jupyter-widgets/controls"
          }
        },
        "f5860aa22cf0458c9ca59687d0d53bcb": {
          "model_module": "@jupyter-widgets/base",
          "model_name": "LayoutModel",
          "model_module_version": "1.2.0",
          "state": {
            "_view_name": "LayoutView",
            "grid_template_rows": null,
            "right": null,
            "justify_content": null,
            "_view_module": "@jupyter-widgets/base",
            "overflow": null,
            "_model_module_version": "1.2.0",
            "_view_count": null,
            "flex_flow": null,
            "width": null,
            "min_width": null,
            "border": null,
            "align_items": null,
            "bottom": null,
            "_model_module": "@jupyter-widgets/base",
            "top": null,
            "grid_column": null,
            "overflow_y": null,
            "overflow_x": null,
            "grid_auto_flow": null,
            "grid_area": null,
            "grid_template_columns": null,
            "flex": null,
            "_model_name": "LayoutModel",
            "justify_items": null,
            "grid_row": null,
            "max_height": null,
            "align_content": null,
            "visibility": null,
            "align_self": null,
            "height": null,
            "min_height": null,
            "padding": null,
            "grid_auto_rows": null,
            "grid_gap": null,
            "max_width": null,
            "order": null,
            "_view_module_version": "1.2.0",
            "grid_template_areas": null,
            "object_position": null,
            "object_fit": null,
            "grid_auto_columns": null,
            "margin": null,
            "display": null,
            "left": null
          }
        },
        "76fb327efb7c4ff882473cefaf324352": {
          "model_module": "@jupyter-widgets/controls",
          "model_name": "HBoxModel",
          "model_module_version": "1.5.0",
          "state": {
            "_view_name": "HBoxView",
            "_dom_classes": [],
            "_model_name": "HBoxModel",
            "_view_module": "@jupyter-widgets/controls",
            "_model_module_version": "1.5.0",
            "_view_count": null,
            "_view_module_version": "1.5.0",
            "box_style": "",
            "layout": "IPY_MODEL_4b34b1b9940c44dc8ea1eefb2daf4721",
            "_model_module": "@jupyter-widgets/controls",
            "children": [
              "IPY_MODEL_a76eb38d49ab4ce780e5a8c30fcfc059",
              "IPY_MODEL_362ddeef0a8241c5afbe60d0ef9939a0",
              "IPY_MODEL_a00f8460135e46ed87cfe0fccfd7c976"
            ]
          }
        },
        "4b34b1b9940c44dc8ea1eefb2daf4721": {
          "model_module": "@jupyter-widgets/base",
          "model_name": "LayoutModel",
          "model_module_version": "1.2.0",
          "state": {
            "_view_name": "LayoutView",
            "grid_template_rows": null,
            "right": null,
            "justify_content": null,
            "_view_module": "@jupyter-widgets/base",
            "overflow": null,
            "_model_module_version": "1.2.0",
            "_view_count": null,
            "flex_flow": null,
            "width": null,
            "min_width": null,
            "border": null,
            "align_items": null,
            "bottom": null,
            "_model_module": "@jupyter-widgets/base",
            "top": null,
            "grid_column": null,
            "overflow_y": null,
            "overflow_x": null,
            "grid_auto_flow": null,
            "grid_area": null,
            "grid_template_columns": null,
            "flex": null,
            "_model_name": "LayoutModel",
            "justify_items": null,
            "grid_row": null,
            "max_height": null,
            "align_content": null,
            "visibility": null,
            "align_self": null,
            "height": null,
            "min_height": null,
            "padding": null,
            "grid_auto_rows": null,
            "grid_gap": null,
            "max_width": null,
            "order": null,
            "_view_module_version": "1.2.0",
            "grid_template_areas": null,
            "object_position": null,
            "object_fit": null,
            "grid_auto_columns": null,
            "margin": null,
            "display": null,
            "left": null
          }
        },
        "a76eb38d49ab4ce780e5a8c30fcfc059": {
          "model_module": "@jupyter-widgets/controls",
          "model_name": "HTMLModel",
          "model_module_version": "1.5.0",
          "state": {
            "_view_name": "HTMLView",
            "style": "IPY_MODEL_6b835b8dc0af427d99a15b0b4d70823f",
            "_dom_classes": [],
            "description": "",
            "_model_name": "HTMLModel",
            "placeholder": "​",
            "_view_module": "@jupyter-widgets/controls",
            "_model_module_version": "1.5.0",
            "value": "100%",
            "_view_count": null,
            "_view_module_version": "1.5.0",
            "description_tooltip": null,
            "_model_module": "@jupyter-widgets/controls",
            "layout": "IPY_MODEL_ef9f2fb654b744b495db59d22cf42fdb"
          }
        },
        "362ddeef0a8241c5afbe60d0ef9939a0": {
          "model_module": "@jupyter-widgets/controls",
          "model_name": "FloatProgressModel",
          "model_module_version": "1.5.0",
          "state": {
            "_view_name": "ProgressView",
            "style": "IPY_MODEL_bc5688e62676462d9b944f5e320e3024",
            "_dom_classes": [],
            "description": "",
            "_model_name": "FloatProgressModel",
            "bar_style": "success",
            "max": 1500,
            "_view_module": "@jupyter-widgets/controls",
            "_model_module_version": "1.5.0",
            "value": 1500,
            "_view_count": null,
            "_view_module_version": "1.5.0",
            "orientation": "horizontal",
            "min": 0,
            "description_tooltip": null,
            "_model_module": "@jupyter-widgets/controls",
            "layout": "IPY_MODEL_c00735a3c78d4807b3288a95e9f8bf1e"
          }
        },
        "a00f8460135e46ed87cfe0fccfd7c976": {
          "model_module": "@jupyter-widgets/controls",
          "model_name": "HTMLModel",
          "model_module_version": "1.5.0",
          "state": {
            "_view_name": "HTMLView",
            "style": "IPY_MODEL_fc04d44ce1ae40a7ba422032065c7086",
            "_dom_classes": [],
            "description": "",
            "_model_name": "HTMLModel",
            "placeholder": "​",
            "_view_module": "@jupyter-widgets/controls",
            "_model_module_version": "1.5.0",
            "value": " 1500/1500 [00:13&lt;00:00, 112.74epoch/s]",
            "_view_count": null,
            "_view_module_version": "1.5.0",
            "description_tooltip": null,
            "_model_module": "@jupyter-widgets/controls",
            "layout": "IPY_MODEL_ad73b64055e34aa389b75455b128ce2b"
          }
        },
        "6b835b8dc0af427d99a15b0b4d70823f": {
          "model_module": "@jupyter-widgets/controls",
          "model_name": "DescriptionStyleModel",
          "model_module_version": "1.5.0",
          "state": {
            "_view_name": "StyleView",
            "_model_name": "DescriptionStyleModel",
            "description_width": "",
            "_view_module": "@jupyter-widgets/base",
            "_model_module_version": "1.5.0",
            "_view_count": null,
            "_view_module_version": "1.2.0",
            "_model_module": "@jupyter-widgets/controls"
          }
        },
        "ef9f2fb654b744b495db59d22cf42fdb": {
          "model_module": "@jupyter-widgets/base",
          "model_name": "LayoutModel",
          "model_module_version": "1.2.0",
          "state": {
            "_view_name": "LayoutView",
            "grid_template_rows": null,
            "right": null,
            "justify_content": null,
            "_view_module": "@jupyter-widgets/base",
            "overflow": null,
            "_model_module_version": "1.2.0",
            "_view_count": null,
            "flex_flow": null,
            "width": null,
            "min_width": null,
            "border": null,
            "align_items": null,
            "bottom": null,
            "_model_module": "@jupyter-widgets/base",
            "top": null,
            "grid_column": null,
            "overflow_y": null,
            "overflow_x": null,
            "grid_auto_flow": null,
            "grid_area": null,
            "grid_template_columns": null,
            "flex": null,
            "_model_name": "LayoutModel",
            "justify_items": null,
            "grid_row": null,
            "max_height": null,
            "align_content": null,
            "visibility": null,
            "align_self": null,
            "height": null,
            "min_height": null,
            "padding": null,
            "grid_auto_rows": null,
            "grid_gap": null,
            "max_width": null,
            "order": null,
            "_view_module_version": "1.2.0",
            "grid_template_areas": null,
            "object_position": null,
            "object_fit": null,
            "grid_auto_columns": null,
            "margin": null,
            "display": null,
            "left": null
          }
        },
        "bc5688e62676462d9b944f5e320e3024": {
          "model_module": "@jupyter-widgets/controls",
          "model_name": "ProgressStyleModel",
          "model_module_version": "1.5.0",
          "state": {
            "_view_name": "StyleView",
            "_model_name": "ProgressStyleModel",
            "description_width": "",
            "_view_module": "@jupyter-widgets/base",
            "_model_module_version": "1.5.0",
            "_view_count": null,
            "_view_module_version": "1.2.0",
            "bar_color": null,
            "_model_module": "@jupyter-widgets/controls"
          }
        },
        "c00735a3c78d4807b3288a95e9f8bf1e": {
          "model_module": "@jupyter-widgets/base",
          "model_name": "LayoutModel",
          "model_module_version": "1.2.0",
          "state": {
            "_view_name": "LayoutView",
            "grid_template_rows": null,
            "right": null,
            "justify_content": null,
            "_view_module": "@jupyter-widgets/base",
            "overflow": null,
            "_model_module_version": "1.2.0",
            "_view_count": null,
            "flex_flow": null,
            "width": null,
            "min_width": null,
            "border": null,
            "align_items": null,
            "bottom": null,
            "_model_module": "@jupyter-widgets/base",
            "top": null,
            "grid_column": null,
            "overflow_y": null,
            "overflow_x": null,
            "grid_auto_flow": null,
            "grid_area": null,
            "grid_template_columns": null,
            "flex": null,
            "_model_name": "LayoutModel",
            "justify_items": null,
            "grid_row": null,
            "max_height": null,
            "align_content": null,
            "visibility": null,
            "align_self": null,
            "height": null,
            "min_height": null,
            "padding": null,
            "grid_auto_rows": null,
            "grid_gap": null,
            "max_width": null,
            "order": null,
            "_view_module_version": "1.2.0",
            "grid_template_areas": null,
            "object_position": null,
            "object_fit": null,
            "grid_auto_columns": null,
            "margin": null,
            "display": null,
            "left": null
          }
        },
        "fc04d44ce1ae40a7ba422032065c7086": {
          "model_module": "@jupyter-widgets/controls",
          "model_name": "DescriptionStyleModel",
          "model_module_version": "1.5.0",
          "state": {
            "_view_name": "StyleView",
            "_model_name": "DescriptionStyleModel",
            "description_width": "",
            "_view_module": "@jupyter-widgets/base",
            "_model_module_version": "1.5.0",
            "_view_count": null,
            "_view_module_version": "1.2.0",
            "_model_module": "@jupyter-widgets/controls"
          }
        },
        "ad73b64055e34aa389b75455b128ce2b": {
          "model_module": "@jupyter-widgets/base",
          "model_name": "LayoutModel",
          "model_module_version": "1.2.0",
          "state": {
            "_view_name": "LayoutView",
            "grid_template_rows": null,
            "right": null,
            "justify_content": null,
            "_view_module": "@jupyter-widgets/base",
            "overflow": null,
            "_model_module_version": "1.2.0",
            "_view_count": null,
            "flex_flow": null,
            "width": null,
            "min_width": null,
            "border": null,
            "align_items": null,
            "bottom": null,
            "_model_module": "@jupyter-widgets/base",
            "top": null,
            "grid_column": null,
            "overflow_y": null,
            "overflow_x": null,
            "grid_auto_flow": null,
            "grid_area": null,
            "grid_template_columns": null,
            "flex": null,
            "_model_name": "LayoutModel",
            "justify_items": null,
            "grid_row": null,
            "max_height": null,
            "align_content": null,
            "visibility": null,
            "align_self": null,
            "height": null,
            "min_height": null,
            "padding": null,
            "grid_auto_rows": null,
            "grid_gap": null,
            "max_width": null,
            "order": null,
            "_view_module_version": "1.2.0",
            "grid_template_areas": null,
            "object_position": null,
            "object_fit": null,
            "grid_auto_columns": null,
            "margin": null,
            "display": null,
            "left": null
          }
        },
        "8a50b28d37324fe8bc7d3e455671a040": {
          "model_module": "@jupyter-widgets/controls",
          "model_name": "HBoxModel",
          "model_module_version": "1.5.0",
          "state": {
            "_view_name": "HBoxView",
            "_dom_classes": [],
            "_model_name": "HBoxModel",
            "_view_module": "@jupyter-widgets/controls",
            "_model_module_version": "1.5.0",
            "_view_count": null,
            "_view_module_version": "1.5.0",
            "box_style": "",
            "layout": "IPY_MODEL_0b5d3ea4f2e94ce1ae1de869d7b44d6d",
            "_model_module": "@jupyter-widgets/controls",
            "children": [
              "IPY_MODEL_183546b51b364296b8b293d83066f8d7",
              "IPY_MODEL_175dd69dc025474c8424420ce17806bc",
              "IPY_MODEL_2aa80f308e914215b2435a34ddbf1c25"
            ]
          }
        },
        "0b5d3ea4f2e94ce1ae1de869d7b44d6d": {
          "model_module": "@jupyter-widgets/base",
          "model_name": "LayoutModel",
          "model_module_version": "1.2.0",
          "state": {
            "_view_name": "LayoutView",
            "grid_template_rows": null,
            "right": null,
            "justify_content": null,
            "_view_module": "@jupyter-widgets/base",
            "overflow": null,
            "_model_module_version": "1.2.0",
            "_view_count": null,
            "flex_flow": null,
            "width": null,
            "min_width": null,
            "border": null,
            "align_items": null,
            "bottom": null,
            "_model_module": "@jupyter-widgets/base",
            "top": null,
            "grid_column": null,
            "overflow_y": null,
            "overflow_x": null,
            "grid_auto_flow": null,
            "grid_area": null,
            "grid_template_columns": null,
            "flex": null,
            "_model_name": "LayoutModel",
            "justify_items": null,
            "grid_row": null,
            "max_height": null,
            "align_content": null,
            "visibility": null,
            "align_self": null,
            "height": null,
            "min_height": null,
            "padding": null,
            "grid_auto_rows": null,
            "grid_gap": null,
            "max_width": null,
            "order": null,
            "_view_module_version": "1.2.0",
            "grid_template_areas": null,
            "object_position": null,
            "object_fit": null,
            "grid_auto_columns": null,
            "margin": null,
            "display": null,
            "left": null
          }
        },
        "183546b51b364296b8b293d83066f8d7": {
          "model_module": "@jupyter-widgets/controls",
          "model_name": "HTMLModel",
          "model_module_version": "1.5.0",
          "state": {
            "_view_name": "HTMLView",
            "style": "IPY_MODEL_763c660fd6954c2da014aebbbd54534b",
            "_dom_classes": [],
            "description": "",
            "_model_name": "HTMLModel",
            "placeholder": "​",
            "_view_module": "@jupyter-widgets/controls",
            "_model_module_version": "1.5.0",
            "value": "100%",
            "_view_count": null,
            "_view_module_version": "1.5.0",
            "description_tooltip": null,
            "_model_module": "@jupyter-widgets/controls",
            "layout": "IPY_MODEL_94018ecf635f41b4b66a28c5cecb8f70"
          }
        },
        "175dd69dc025474c8424420ce17806bc": {
          "model_module": "@jupyter-widgets/controls",
          "model_name": "FloatProgressModel",
          "model_module_version": "1.5.0",
          "state": {
            "_view_name": "ProgressView",
            "style": "IPY_MODEL_63a4d61fc94b435e9f392cadaa3c6bc9",
            "_dom_classes": [],
            "description": "",
            "_model_name": "FloatProgressModel",
            "bar_style": "success",
            "max": 500,
            "_view_module": "@jupyter-widgets/controls",
            "_model_module_version": "1.5.0",
            "value": 500,
            "_view_count": null,
            "_view_module_version": "1.5.0",
            "orientation": "horizontal",
            "min": 0,
            "description_tooltip": null,
            "_model_module": "@jupyter-widgets/controls",
            "layout": "IPY_MODEL_9e851365e8f54158b108fb0850cd0fab"
          }
        },
        "2aa80f308e914215b2435a34ddbf1c25": {
          "model_module": "@jupyter-widgets/controls",
          "model_name": "HTMLModel",
          "model_module_version": "1.5.0",
          "state": {
            "_view_name": "HTMLView",
            "style": "IPY_MODEL_bebcb5553af142eeb530447410c3a2ac",
            "_dom_classes": [],
            "description": "",
            "_model_name": "HTMLModel",
            "placeholder": "​",
            "_view_module": "@jupyter-widgets/controls",
            "_model_module_version": "1.5.0",
            "value": " 500/500 [00:21&lt;00:00, 23.53epoch/s]",
            "_view_count": null,
            "_view_module_version": "1.5.0",
            "description_tooltip": null,
            "_model_module": "@jupyter-widgets/controls",
            "layout": "IPY_MODEL_002a7c437cc14d5f8b0370b0e3b515cc"
          }
        },
        "763c660fd6954c2da014aebbbd54534b": {
          "model_module": "@jupyter-widgets/controls",
          "model_name": "DescriptionStyleModel",
          "model_module_version": "1.5.0",
          "state": {
            "_view_name": "StyleView",
            "_model_name": "DescriptionStyleModel",
            "description_width": "",
            "_view_module": "@jupyter-widgets/base",
            "_model_module_version": "1.5.0",
            "_view_count": null,
            "_view_module_version": "1.2.0",
            "_model_module": "@jupyter-widgets/controls"
          }
        },
        "94018ecf635f41b4b66a28c5cecb8f70": {
          "model_module": "@jupyter-widgets/base",
          "model_name": "LayoutModel",
          "model_module_version": "1.2.0",
          "state": {
            "_view_name": "LayoutView",
            "grid_template_rows": null,
            "right": null,
            "justify_content": null,
            "_view_module": "@jupyter-widgets/base",
            "overflow": null,
            "_model_module_version": "1.2.0",
            "_view_count": null,
            "flex_flow": null,
            "width": null,
            "min_width": null,
            "border": null,
            "align_items": null,
            "bottom": null,
            "_model_module": "@jupyter-widgets/base",
            "top": null,
            "grid_column": null,
            "overflow_y": null,
            "overflow_x": null,
            "grid_auto_flow": null,
            "grid_area": null,
            "grid_template_columns": null,
            "flex": null,
            "_model_name": "LayoutModel",
            "justify_items": null,
            "grid_row": null,
            "max_height": null,
            "align_content": null,
            "visibility": null,
            "align_self": null,
            "height": null,
            "min_height": null,
            "padding": null,
            "grid_auto_rows": null,
            "grid_gap": null,
            "max_width": null,
            "order": null,
            "_view_module_version": "1.2.0",
            "grid_template_areas": null,
            "object_position": null,
            "object_fit": null,
            "grid_auto_columns": null,
            "margin": null,
            "display": null,
            "left": null
          }
        },
        "63a4d61fc94b435e9f392cadaa3c6bc9": {
          "model_module": "@jupyter-widgets/controls",
          "model_name": "ProgressStyleModel",
          "model_module_version": "1.5.0",
          "state": {
            "_view_name": "StyleView",
            "_model_name": "ProgressStyleModel",
            "description_width": "",
            "_view_module": "@jupyter-widgets/base",
            "_model_module_version": "1.5.0",
            "_view_count": null,
            "_view_module_version": "1.2.0",
            "bar_color": null,
            "_model_module": "@jupyter-widgets/controls"
          }
        },
        "9e851365e8f54158b108fb0850cd0fab": {
          "model_module": "@jupyter-widgets/base",
          "model_name": "LayoutModel",
          "model_module_version": "1.2.0",
          "state": {
            "_view_name": "LayoutView",
            "grid_template_rows": null,
            "right": null,
            "justify_content": null,
            "_view_module": "@jupyter-widgets/base",
            "overflow": null,
            "_model_module_version": "1.2.0",
            "_view_count": null,
            "flex_flow": null,
            "width": null,
            "min_width": null,
            "border": null,
            "align_items": null,
            "bottom": null,
            "_model_module": "@jupyter-widgets/base",
            "top": null,
            "grid_column": null,
            "overflow_y": null,
            "overflow_x": null,
            "grid_auto_flow": null,
            "grid_area": null,
            "grid_template_columns": null,
            "flex": null,
            "_model_name": "LayoutModel",
            "justify_items": null,
            "grid_row": null,
            "max_height": null,
            "align_content": null,
            "visibility": null,
            "align_self": null,
            "height": null,
            "min_height": null,
            "padding": null,
            "grid_auto_rows": null,
            "grid_gap": null,
            "max_width": null,
            "order": null,
            "_view_module_version": "1.2.0",
            "grid_template_areas": null,
            "object_position": null,
            "object_fit": null,
            "grid_auto_columns": null,
            "margin": null,
            "display": null,
            "left": null
          }
        },
        "bebcb5553af142eeb530447410c3a2ac": {
          "model_module": "@jupyter-widgets/controls",
          "model_name": "DescriptionStyleModel",
          "model_module_version": "1.5.0",
          "state": {
            "_view_name": "StyleView",
            "_model_name": "DescriptionStyleModel",
            "description_width": "",
            "_view_module": "@jupyter-widgets/base",
            "_model_module_version": "1.5.0",
            "_view_count": null,
            "_view_module_version": "1.2.0",
            "_model_module": "@jupyter-widgets/controls"
          }
        },
        "002a7c437cc14d5f8b0370b0e3b515cc": {
          "model_module": "@jupyter-widgets/base",
          "model_name": "LayoutModel",
          "model_module_version": "1.2.0",
          "state": {
            "_view_name": "LayoutView",
            "grid_template_rows": null,
            "right": null,
            "justify_content": null,
            "_view_module": "@jupyter-widgets/base",
            "overflow": null,
            "_model_module_version": "1.2.0",
            "_view_count": null,
            "flex_flow": null,
            "width": null,
            "min_width": null,
            "border": null,
            "align_items": null,
            "bottom": null,
            "_model_module": "@jupyter-widgets/base",
            "top": null,
            "grid_column": null,
            "overflow_y": null,
            "overflow_x": null,
            "grid_auto_flow": null,
            "grid_area": null,
            "grid_template_columns": null,
            "flex": null,
            "_model_name": "LayoutModel",
            "justify_items": null,
            "grid_row": null,
            "max_height": null,
            "align_content": null,
            "visibility": null,
            "align_self": null,
            "height": null,
            "min_height": null,
            "padding": null,
            "grid_auto_rows": null,
            "grid_gap": null,
            "max_width": null,
            "order": null,
            "_view_module_version": "1.2.0",
            "grid_template_areas": null,
            "object_position": null,
            "object_fit": null,
            "grid_auto_columns": null,
            "margin": null,
            "display": null,
            "left": null
          }
        },
        "c7c680c627004361adae5b199cd00895": {
          "model_module": "@jupyter-widgets/controls",
          "model_name": "HBoxModel",
          "model_module_version": "1.5.0",
          "state": {
            "_view_name": "HBoxView",
            "_dom_classes": [],
            "_model_name": "HBoxModel",
            "_view_module": "@jupyter-widgets/controls",
            "_model_module_version": "1.5.0",
            "_view_count": null,
            "_view_module_version": "1.5.0",
            "box_style": "",
            "layout": "IPY_MODEL_6f4e48b109f945099ec0d4be89412d4e",
            "_model_module": "@jupyter-widgets/controls",
            "children": [
              "IPY_MODEL_21b95dcde8044cc8a66c2455c1b69fb2",
              "IPY_MODEL_dca24c29d80741058d9a8f48bfe96f81",
              "IPY_MODEL_1bb1501e92e5478ba8102f9f830190da"
            ]
          }
        },
        "6f4e48b109f945099ec0d4be89412d4e": {
          "model_module": "@jupyter-widgets/base",
          "model_name": "LayoutModel",
          "model_module_version": "1.2.0",
          "state": {
            "_view_name": "LayoutView",
            "grid_template_rows": null,
            "right": null,
            "justify_content": null,
            "_view_module": "@jupyter-widgets/base",
            "overflow": null,
            "_model_module_version": "1.2.0",
            "_view_count": null,
            "flex_flow": null,
            "width": null,
            "min_width": null,
            "border": null,
            "align_items": null,
            "bottom": null,
            "_model_module": "@jupyter-widgets/base",
            "top": null,
            "grid_column": null,
            "overflow_y": null,
            "overflow_x": null,
            "grid_auto_flow": null,
            "grid_area": null,
            "grid_template_columns": null,
            "flex": null,
            "_model_name": "LayoutModel",
            "justify_items": null,
            "grid_row": null,
            "max_height": null,
            "align_content": null,
            "visibility": null,
            "align_self": null,
            "height": null,
            "min_height": null,
            "padding": null,
            "grid_auto_rows": null,
            "grid_gap": null,
            "max_width": null,
            "order": null,
            "_view_module_version": "1.2.0",
            "grid_template_areas": null,
            "object_position": null,
            "object_fit": null,
            "grid_auto_columns": null,
            "margin": null,
            "display": null,
            "left": null
          }
        },
        "21b95dcde8044cc8a66c2455c1b69fb2": {
          "model_module": "@jupyter-widgets/controls",
          "model_name": "HTMLModel",
          "model_module_version": "1.5.0",
          "state": {
            "_view_name": "HTMLView",
            "style": "IPY_MODEL_a687214724e04fe28142dbbcfde31152",
            "_dom_classes": [],
            "description": "",
            "_model_name": "HTMLModel",
            "placeholder": "​",
            "_view_module": "@jupyter-widgets/controls",
            "_model_module_version": "1.5.0",
            "value": "100%",
            "_view_count": null,
            "_view_module_version": "1.5.0",
            "description_tooltip": null,
            "_model_module": "@jupyter-widgets/controls",
            "layout": "IPY_MODEL_7785e884a55e4c67aa7678cb4df08e57"
          }
        },
        "dca24c29d80741058d9a8f48bfe96f81": {
          "model_module": "@jupyter-widgets/controls",
          "model_name": "FloatProgressModel",
          "model_module_version": "1.5.0",
          "state": {
            "_view_name": "ProgressView",
            "style": "IPY_MODEL_aeb38b35072841b5a11a3346506c875f",
            "_dom_classes": [],
            "description": "",
            "_model_name": "FloatProgressModel",
            "bar_style": "success",
            "max": 3000,
            "_view_module": "@jupyter-widgets/controls",
            "_model_module_version": "1.5.0",
            "value": 3000,
            "_view_count": null,
            "_view_module_version": "1.5.0",
            "orientation": "horizontal",
            "min": 0,
            "description_tooltip": null,
            "_model_module": "@jupyter-widgets/controls",
            "layout": "IPY_MODEL_faf38c394c0b48ab9527dc7612dca6ba"
          }
        },
        "1bb1501e92e5478ba8102f9f830190da": {
          "model_module": "@jupyter-widgets/controls",
          "model_name": "HTMLModel",
          "model_module_version": "1.5.0",
          "state": {
            "_view_name": "HTMLView",
            "style": "IPY_MODEL_3a3847f19caf417c8852cd4cc86f43e0",
            "_dom_classes": [],
            "description": "",
            "_model_name": "HTMLModel",
            "placeholder": "​",
            "_view_module": "@jupyter-widgets/controls",
            "_model_module_version": "1.5.0",
            "value": " 3000/3000 [00:50&lt;00:00, 61.07epoch/s]",
            "_view_count": null,
            "_view_module_version": "1.5.0",
            "description_tooltip": null,
            "_model_module": "@jupyter-widgets/controls",
            "layout": "IPY_MODEL_6000847024e94b92b5a89a2fe3089eda"
          }
        },
        "a687214724e04fe28142dbbcfde31152": {
          "model_module": "@jupyter-widgets/controls",
          "model_name": "DescriptionStyleModel",
          "model_module_version": "1.5.0",
          "state": {
            "_view_name": "StyleView",
            "_model_name": "DescriptionStyleModel",
            "description_width": "",
            "_view_module": "@jupyter-widgets/base",
            "_model_module_version": "1.5.0",
            "_view_count": null,
            "_view_module_version": "1.2.0",
            "_model_module": "@jupyter-widgets/controls"
          }
        },
        "7785e884a55e4c67aa7678cb4df08e57": {
          "model_module": "@jupyter-widgets/base",
          "model_name": "LayoutModel",
          "model_module_version": "1.2.0",
          "state": {
            "_view_name": "LayoutView",
            "grid_template_rows": null,
            "right": null,
            "justify_content": null,
            "_view_module": "@jupyter-widgets/base",
            "overflow": null,
            "_model_module_version": "1.2.0",
            "_view_count": null,
            "flex_flow": null,
            "width": null,
            "min_width": null,
            "border": null,
            "align_items": null,
            "bottom": null,
            "_model_module": "@jupyter-widgets/base",
            "top": null,
            "grid_column": null,
            "overflow_y": null,
            "overflow_x": null,
            "grid_auto_flow": null,
            "grid_area": null,
            "grid_template_columns": null,
            "flex": null,
            "_model_name": "LayoutModel",
            "justify_items": null,
            "grid_row": null,
            "max_height": null,
            "align_content": null,
            "visibility": null,
            "align_self": null,
            "height": null,
            "min_height": null,
            "padding": null,
            "grid_auto_rows": null,
            "grid_gap": null,
            "max_width": null,
            "order": null,
            "_view_module_version": "1.2.0",
            "grid_template_areas": null,
            "object_position": null,
            "object_fit": null,
            "grid_auto_columns": null,
            "margin": null,
            "display": null,
            "left": null
          }
        },
        "aeb38b35072841b5a11a3346506c875f": {
          "model_module": "@jupyter-widgets/controls",
          "model_name": "ProgressStyleModel",
          "model_module_version": "1.5.0",
          "state": {
            "_view_name": "StyleView",
            "_model_name": "ProgressStyleModel",
            "description_width": "",
            "_view_module": "@jupyter-widgets/base",
            "_model_module_version": "1.5.0",
            "_view_count": null,
            "_view_module_version": "1.2.0",
            "bar_color": null,
            "_model_module": "@jupyter-widgets/controls"
          }
        },
        "faf38c394c0b48ab9527dc7612dca6ba": {
          "model_module": "@jupyter-widgets/base",
          "model_name": "LayoutModel",
          "model_module_version": "1.2.0",
          "state": {
            "_view_name": "LayoutView",
            "grid_template_rows": null,
            "right": null,
            "justify_content": null,
            "_view_module": "@jupyter-widgets/base",
            "overflow": null,
            "_model_module_version": "1.2.0",
            "_view_count": null,
            "flex_flow": null,
            "width": null,
            "min_width": null,
            "border": null,
            "align_items": null,
            "bottom": null,
            "_model_module": "@jupyter-widgets/base",
            "top": null,
            "grid_column": null,
            "overflow_y": null,
            "overflow_x": null,
            "grid_auto_flow": null,
            "grid_area": null,
            "grid_template_columns": null,
            "flex": null,
            "_model_name": "LayoutModel",
            "justify_items": null,
            "grid_row": null,
            "max_height": null,
            "align_content": null,
            "visibility": null,
            "align_self": null,
            "height": null,
            "min_height": null,
            "padding": null,
            "grid_auto_rows": null,
            "grid_gap": null,
            "max_width": null,
            "order": null,
            "_view_module_version": "1.2.0",
            "grid_template_areas": null,
            "object_position": null,
            "object_fit": null,
            "grid_auto_columns": null,
            "margin": null,
            "display": null,
            "left": null
          }
        },
        "3a3847f19caf417c8852cd4cc86f43e0": {
          "model_module": "@jupyter-widgets/controls",
          "model_name": "DescriptionStyleModel",
          "model_module_version": "1.5.0",
          "state": {
            "_view_name": "StyleView",
            "_model_name": "DescriptionStyleModel",
            "description_width": "",
            "_view_module": "@jupyter-widgets/base",
            "_model_module_version": "1.5.0",
            "_view_count": null,
            "_view_module_version": "1.2.0",
            "_model_module": "@jupyter-widgets/controls"
          }
        },
        "6000847024e94b92b5a89a2fe3089eda": {
          "model_module": "@jupyter-widgets/base",
          "model_name": "LayoutModel",
          "model_module_version": "1.2.0",
          "state": {
            "_view_name": "LayoutView",
            "grid_template_rows": null,
            "right": null,
            "justify_content": null,
            "_view_module": "@jupyter-widgets/base",
            "overflow": null,
            "_model_module_version": "1.2.0",
            "_view_count": null,
            "flex_flow": null,
            "width": null,
            "min_width": null,
            "border": null,
            "align_items": null,
            "bottom": null,
            "_model_module": "@jupyter-widgets/base",
            "top": null,
            "grid_column": null,
            "overflow_y": null,
            "overflow_x": null,
            "grid_auto_flow": null,
            "grid_area": null,
            "grid_template_columns": null,
            "flex": null,
            "_model_name": "LayoutModel",
            "justify_items": null,
            "grid_row": null,
            "max_height": null,
            "align_content": null,
            "visibility": null,
            "align_self": null,
            "height": null,
            "min_height": null,
            "padding": null,
            "grid_auto_rows": null,
            "grid_gap": null,
            "max_width": null,
            "order": null,
            "_view_module_version": "1.2.0",
            "grid_template_areas": null,
            "object_position": null,
            "object_fit": null,
            "grid_auto_columns": null,
            "margin": null,
            "display": null,
            "left": null
          }
        },
        "6335c33947984341b80ee4cf81f8bbe5": {
          "model_module": "@jupyter-widgets/controls",
          "model_name": "HBoxModel",
          "model_module_version": "1.5.0",
          "state": {
            "_view_name": "HBoxView",
            "_dom_classes": [],
            "_model_name": "HBoxModel",
            "_view_module": "@jupyter-widgets/controls",
            "_model_module_version": "1.5.0",
            "_view_count": null,
            "_view_module_version": "1.5.0",
            "box_style": "",
            "layout": "IPY_MODEL_19d4213347e4419c82f245a82d2edb3b",
            "_model_module": "@jupyter-widgets/controls",
            "children": [
              "IPY_MODEL_d30ea0aeca8b49cdac6130c4b10cef0b",
              "IPY_MODEL_1cff3f243dbc44eba7de6e791b6fc0e8",
              "IPY_MODEL_110fe0aa2ac74768a68227a346211dbe"
            ]
          }
        },
        "19d4213347e4419c82f245a82d2edb3b": {
          "model_module": "@jupyter-widgets/base",
          "model_name": "LayoutModel",
          "model_module_version": "1.2.0",
          "state": {
            "_view_name": "LayoutView",
            "grid_template_rows": null,
            "right": null,
            "justify_content": null,
            "_view_module": "@jupyter-widgets/base",
            "overflow": null,
            "_model_module_version": "1.2.0",
            "_view_count": null,
            "flex_flow": null,
            "width": null,
            "min_width": null,
            "border": null,
            "align_items": null,
            "bottom": null,
            "_model_module": "@jupyter-widgets/base",
            "top": null,
            "grid_column": null,
            "overflow_y": null,
            "overflow_x": null,
            "grid_auto_flow": null,
            "grid_area": null,
            "grid_template_columns": null,
            "flex": null,
            "_model_name": "LayoutModel",
            "justify_items": null,
            "grid_row": null,
            "max_height": null,
            "align_content": null,
            "visibility": null,
            "align_self": null,
            "height": null,
            "min_height": null,
            "padding": null,
            "grid_auto_rows": null,
            "grid_gap": null,
            "max_width": null,
            "order": null,
            "_view_module_version": "1.2.0",
            "grid_template_areas": null,
            "object_position": null,
            "object_fit": null,
            "grid_auto_columns": null,
            "margin": null,
            "display": null,
            "left": null
          }
        },
        "d30ea0aeca8b49cdac6130c4b10cef0b": {
          "model_module": "@jupyter-widgets/controls",
          "model_name": "HTMLModel",
          "model_module_version": "1.5.0",
          "state": {
            "_view_name": "HTMLView",
            "style": "IPY_MODEL_67c0f69202724d97a51284616298acc5",
            "_dom_classes": [],
            "description": "",
            "_model_name": "HTMLModel",
            "placeholder": "​",
            "_view_module": "@jupyter-widgets/controls",
            "_model_module_version": "1.5.0",
            "value": "100%",
            "_view_count": null,
            "_view_module_version": "1.5.0",
            "description_tooltip": null,
            "_model_module": "@jupyter-widgets/controls",
            "layout": "IPY_MODEL_a22dbf81de764500a89b3666bacedd68"
          }
        },
        "1cff3f243dbc44eba7de6e791b6fc0e8": {
          "model_module": "@jupyter-widgets/controls",
          "model_name": "FloatProgressModel",
          "model_module_version": "1.5.0",
          "state": {
            "_view_name": "ProgressView",
            "style": "IPY_MODEL_da6367f0e3914833bf58627f992db6be",
            "_dom_classes": [],
            "description": "",
            "_model_name": "FloatProgressModel",
            "bar_style": "success",
            "max": 700,
            "_view_module": "@jupyter-widgets/controls",
            "_model_module_version": "1.5.0",
            "value": 700,
            "_view_count": null,
            "_view_module_version": "1.5.0",
            "orientation": "horizontal",
            "min": 0,
            "description_tooltip": null,
            "_model_module": "@jupyter-widgets/controls",
            "layout": "IPY_MODEL_53e3eaba0e614195bfbe3c2b066f6387"
          }
        },
        "110fe0aa2ac74768a68227a346211dbe": {
          "model_module": "@jupyter-widgets/controls",
          "model_name": "HTMLModel",
          "model_module_version": "1.5.0",
          "state": {
            "_view_name": "HTMLView",
            "style": "IPY_MODEL_6ad30c8d5435476ab553ef22bd17c47a",
            "_dom_classes": [],
            "description": "",
            "_model_name": "HTMLModel",
            "placeholder": "​",
            "_view_module": "@jupyter-widgets/controls",
            "_model_module_version": "1.5.0",
            "value": " 700/700 [00:28&lt;00:00, 24.46epoch/s]",
            "_view_count": null,
            "_view_module_version": "1.5.0",
            "description_tooltip": null,
            "_model_module": "@jupyter-widgets/controls",
            "layout": "IPY_MODEL_fd5176f450e9415bbab3834e939d1720"
          }
        },
        "67c0f69202724d97a51284616298acc5": {
          "model_module": "@jupyter-widgets/controls",
          "model_name": "DescriptionStyleModel",
          "model_module_version": "1.5.0",
          "state": {
            "_view_name": "StyleView",
            "_model_name": "DescriptionStyleModel",
            "description_width": "",
            "_view_module": "@jupyter-widgets/base",
            "_model_module_version": "1.5.0",
            "_view_count": null,
            "_view_module_version": "1.2.0",
            "_model_module": "@jupyter-widgets/controls"
          }
        },
        "a22dbf81de764500a89b3666bacedd68": {
          "model_module": "@jupyter-widgets/base",
          "model_name": "LayoutModel",
          "model_module_version": "1.2.0",
          "state": {
            "_view_name": "LayoutView",
            "grid_template_rows": null,
            "right": null,
            "justify_content": null,
            "_view_module": "@jupyter-widgets/base",
            "overflow": null,
            "_model_module_version": "1.2.0",
            "_view_count": null,
            "flex_flow": null,
            "width": null,
            "min_width": null,
            "border": null,
            "align_items": null,
            "bottom": null,
            "_model_module": "@jupyter-widgets/base",
            "top": null,
            "grid_column": null,
            "overflow_y": null,
            "overflow_x": null,
            "grid_auto_flow": null,
            "grid_area": null,
            "grid_template_columns": null,
            "flex": null,
            "_model_name": "LayoutModel",
            "justify_items": null,
            "grid_row": null,
            "max_height": null,
            "align_content": null,
            "visibility": null,
            "align_self": null,
            "height": null,
            "min_height": null,
            "padding": null,
            "grid_auto_rows": null,
            "grid_gap": null,
            "max_width": null,
            "order": null,
            "_view_module_version": "1.2.0",
            "grid_template_areas": null,
            "object_position": null,
            "object_fit": null,
            "grid_auto_columns": null,
            "margin": null,
            "display": null,
            "left": null
          }
        },
        "da6367f0e3914833bf58627f992db6be": {
          "model_module": "@jupyter-widgets/controls",
          "model_name": "ProgressStyleModel",
          "model_module_version": "1.5.0",
          "state": {
            "_view_name": "StyleView",
            "_model_name": "ProgressStyleModel",
            "description_width": "",
            "_view_module": "@jupyter-widgets/base",
            "_model_module_version": "1.5.0",
            "_view_count": null,
            "_view_module_version": "1.2.0",
            "bar_color": null,
            "_model_module": "@jupyter-widgets/controls"
          }
        },
        "53e3eaba0e614195bfbe3c2b066f6387": {
          "model_module": "@jupyter-widgets/base",
          "model_name": "LayoutModel",
          "model_module_version": "1.2.0",
          "state": {
            "_view_name": "LayoutView",
            "grid_template_rows": null,
            "right": null,
            "justify_content": null,
            "_view_module": "@jupyter-widgets/base",
            "overflow": null,
            "_model_module_version": "1.2.0",
            "_view_count": null,
            "flex_flow": null,
            "width": null,
            "min_width": null,
            "border": null,
            "align_items": null,
            "bottom": null,
            "_model_module": "@jupyter-widgets/base",
            "top": null,
            "grid_column": null,
            "overflow_y": null,
            "overflow_x": null,
            "grid_auto_flow": null,
            "grid_area": null,
            "grid_template_columns": null,
            "flex": null,
            "_model_name": "LayoutModel",
            "justify_items": null,
            "grid_row": null,
            "max_height": null,
            "align_content": null,
            "visibility": null,
            "align_self": null,
            "height": null,
            "min_height": null,
            "padding": null,
            "grid_auto_rows": null,
            "grid_gap": null,
            "max_width": null,
            "order": null,
            "_view_module_version": "1.2.0",
            "grid_template_areas": null,
            "object_position": null,
            "object_fit": null,
            "grid_auto_columns": null,
            "margin": null,
            "display": null,
            "left": null
          }
        },
        "6ad30c8d5435476ab553ef22bd17c47a": {
          "model_module": "@jupyter-widgets/controls",
          "model_name": "DescriptionStyleModel",
          "model_module_version": "1.5.0",
          "state": {
            "_view_name": "StyleView",
            "_model_name": "DescriptionStyleModel",
            "description_width": "",
            "_view_module": "@jupyter-widgets/base",
            "_model_module_version": "1.5.0",
            "_view_count": null,
            "_view_module_version": "1.2.0",
            "_model_module": "@jupyter-widgets/controls"
          }
        },
        "fd5176f450e9415bbab3834e939d1720": {
          "model_module": "@jupyter-widgets/base",
          "model_name": "LayoutModel",
          "model_module_version": "1.2.0",
          "state": {
            "_view_name": "LayoutView",
            "grid_template_rows": null,
            "right": null,
            "justify_content": null,
            "_view_module": "@jupyter-widgets/base",
            "overflow": null,
            "_model_module_version": "1.2.0",
            "_view_count": null,
            "flex_flow": null,
            "width": null,
            "min_width": null,
            "border": null,
            "align_items": null,
            "bottom": null,
            "_model_module": "@jupyter-widgets/base",
            "top": null,
            "grid_column": null,
            "overflow_y": null,
            "overflow_x": null,
            "grid_auto_flow": null,
            "grid_area": null,
            "grid_template_columns": null,
            "flex": null,
            "_model_name": "LayoutModel",
            "justify_items": null,
            "grid_row": null,
            "max_height": null,
            "align_content": null,
            "visibility": null,
            "align_self": null,
            "height": null,
            "min_height": null,
            "padding": null,
            "grid_auto_rows": null,
            "grid_gap": null,
            "max_width": null,
            "order": null,
            "_view_module_version": "1.2.0",
            "grid_template_areas": null,
            "object_position": null,
            "object_fit": null,
            "grid_auto_columns": null,
            "margin": null,
            "display": null,
            "left": null
          }
        },
        "bb7aae926b3c4af3a281afc476697c91": {
          "model_module": "@jupyter-widgets/controls",
          "model_name": "HBoxModel",
          "model_module_version": "1.5.0",
          "state": {
            "_view_name": "HBoxView",
            "_dom_classes": [],
            "_model_name": "HBoxModel",
            "_view_module": "@jupyter-widgets/controls",
            "_model_module_version": "1.5.0",
            "_view_count": null,
            "_view_module_version": "1.5.0",
            "box_style": "",
            "layout": "IPY_MODEL_f05a13f6a3cb4671b6b7e4d5ff8d9b7d",
            "_model_module": "@jupyter-widgets/controls",
            "children": [
              "IPY_MODEL_54e8e64050bc4cfe85069c4413e1f12e",
              "IPY_MODEL_2be7fe883720407fbfcbedab8b4a3988",
              "IPY_MODEL_0dc150258c494b6d907766d34e847bce"
            ]
          }
        },
        "f05a13f6a3cb4671b6b7e4d5ff8d9b7d": {
          "model_module": "@jupyter-widgets/base",
          "model_name": "LayoutModel",
          "model_module_version": "1.2.0",
          "state": {
            "_view_name": "LayoutView",
            "grid_template_rows": null,
            "right": null,
            "justify_content": null,
            "_view_module": "@jupyter-widgets/base",
            "overflow": null,
            "_model_module_version": "1.2.0",
            "_view_count": null,
            "flex_flow": null,
            "width": null,
            "min_width": null,
            "border": null,
            "align_items": null,
            "bottom": null,
            "_model_module": "@jupyter-widgets/base",
            "top": null,
            "grid_column": null,
            "overflow_y": null,
            "overflow_x": null,
            "grid_auto_flow": null,
            "grid_area": null,
            "grid_template_columns": null,
            "flex": null,
            "_model_name": "LayoutModel",
            "justify_items": null,
            "grid_row": null,
            "max_height": null,
            "align_content": null,
            "visibility": null,
            "align_self": null,
            "height": null,
            "min_height": null,
            "padding": null,
            "grid_auto_rows": null,
            "grid_gap": null,
            "max_width": null,
            "order": null,
            "_view_module_version": "1.2.0",
            "grid_template_areas": null,
            "object_position": null,
            "object_fit": null,
            "grid_auto_columns": null,
            "margin": null,
            "display": null,
            "left": null
          }
        },
        "54e8e64050bc4cfe85069c4413e1f12e": {
          "model_module": "@jupyter-widgets/controls",
          "model_name": "HTMLModel",
          "model_module_version": "1.5.0",
          "state": {
            "_view_name": "HTMLView",
            "style": "IPY_MODEL_a05c534559e44d8b88fd39466db6e508",
            "_dom_classes": [],
            "description": "",
            "_model_name": "HTMLModel",
            "placeholder": "​",
            "_view_module": "@jupyter-widgets/controls",
            "_model_module_version": "1.5.0",
            "value": "100%",
            "_view_count": null,
            "_view_module_version": "1.5.0",
            "description_tooltip": null,
            "_model_module": "@jupyter-widgets/controls",
            "layout": "IPY_MODEL_db6f89bed5fe4f93bd99f5aa19da8131"
          }
        },
        "2be7fe883720407fbfcbedab8b4a3988": {
          "model_module": "@jupyter-widgets/controls",
          "model_name": "FloatProgressModel",
          "model_module_version": "1.5.0",
          "state": {
            "_view_name": "ProgressView",
            "style": "IPY_MODEL_ba07b3806a1a4a7596975a55ff0bcc1c",
            "_dom_classes": [],
            "description": "",
            "_model_name": "FloatProgressModel",
            "bar_style": "success",
            "max": 5000,
            "_view_module": "@jupyter-widgets/controls",
            "_model_module_version": "1.5.0",
            "value": 5000,
            "_view_count": null,
            "_view_module_version": "1.5.0",
            "orientation": "horizontal",
            "min": 0,
            "description_tooltip": null,
            "_model_module": "@jupyter-widgets/controls",
            "layout": "IPY_MODEL_ad7afc8ea13f410384705117b531b310"
          }
        },
        "0dc150258c494b6d907766d34e847bce": {
          "model_module": "@jupyter-widgets/controls",
          "model_name": "HTMLModel",
          "model_module_version": "1.5.0",
          "state": {
            "_view_name": "HTMLView",
            "style": "IPY_MODEL_6868cc1d33ae483ca96d220fa327d8af",
            "_dom_classes": [],
            "description": "",
            "_model_name": "HTMLModel",
            "placeholder": "​",
            "_view_module": "@jupyter-widgets/controls",
            "_model_module_version": "1.5.0",
            "value": " 5000/5000 [01:23&lt;00:00, 60.17epoch/s]",
            "_view_count": null,
            "_view_module_version": "1.5.0",
            "description_tooltip": null,
            "_model_module": "@jupyter-widgets/controls",
            "layout": "IPY_MODEL_7e991a4e3ac7486880f2073dd3c31473"
          }
        },
        "a05c534559e44d8b88fd39466db6e508": {
          "model_module": "@jupyter-widgets/controls",
          "model_name": "DescriptionStyleModel",
          "model_module_version": "1.5.0",
          "state": {
            "_view_name": "StyleView",
            "_model_name": "DescriptionStyleModel",
            "description_width": "",
            "_view_module": "@jupyter-widgets/base",
            "_model_module_version": "1.5.0",
            "_view_count": null,
            "_view_module_version": "1.2.0",
            "_model_module": "@jupyter-widgets/controls"
          }
        },
        "db6f89bed5fe4f93bd99f5aa19da8131": {
          "model_module": "@jupyter-widgets/base",
          "model_name": "LayoutModel",
          "model_module_version": "1.2.0",
          "state": {
            "_view_name": "LayoutView",
            "grid_template_rows": null,
            "right": null,
            "justify_content": null,
            "_view_module": "@jupyter-widgets/base",
            "overflow": null,
            "_model_module_version": "1.2.0",
            "_view_count": null,
            "flex_flow": null,
            "width": null,
            "min_width": null,
            "border": null,
            "align_items": null,
            "bottom": null,
            "_model_module": "@jupyter-widgets/base",
            "top": null,
            "grid_column": null,
            "overflow_y": null,
            "overflow_x": null,
            "grid_auto_flow": null,
            "grid_area": null,
            "grid_template_columns": null,
            "flex": null,
            "_model_name": "LayoutModel",
            "justify_items": null,
            "grid_row": null,
            "max_height": null,
            "align_content": null,
            "visibility": null,
            "align_self": null,
            "height": null,
            "min_height": null,
            "padding": null,
            "grid_auto_rows": null,
            "grid_gap": null,
            "max_width": null,
            "order": null,
            "_view_module_version": "1.2.0",
            "grid_template_areas": null,
            "object_position": null,
            "object_fit": null,
            "grid_auto_columns": null,
            "margin": null,
            "display": null,
            "left": null
          }
        },
        "ba07b3806a1a4a7596975a55ff0bcc1c": {
          "model_module": "@jupyter-widgets/controls",
          "model_name": "ProgressStyleModel",
          "model_module_version": "1.5.0",
          "state": {
            "_view_name": "StyleView",
            "_model_name": "ProgressStyleModel",
            "description_width": "",
            "_view_module": "@jupyter-widgets/base",
            "_model_module_version": "1.5.0",
            "_view_count": null,
            "_view_module_version": "1.2.0",
            "bar_color": null,
            "_model_module": "@jupyter-widgets/controls"
          }
        },
        "ad7afc8ea13f410384705117b531b310": {
          "model_module": "@jupyter-widgets/base",
          "model_name": "LayoutModel",
          "model_module_version": "1.2.0",
          "state": {
            "_view_name": "LayoutView",
            "grid_template_rows": null,
            "right": null,
            "justify_content": null,
            "_view_module": "@jupyter-widgets/base",
            "overflow": null,
            "_model_module_version": "1.2.0",
            "_view_count": null,
            "flex_flow": null,
            "width": null,
            "min_width": null,
            "border": null,
            "align_items": null,
            "bottom": null,
            "_model_module": "@jupyter-widgets/base",
            "top": null,
            "grid_column": null,
            "overflow_y": null,
            "overflow_x": null,
            "grid_auto_flow": null,
            "grid_area": null,
            "grid_template_columns": null,
            "flex": null,
            "_model_name": "LayoutModel",
            "justify_items": null,
            "grid_row": null,
            "max_height": null,
            "align_content": null,
            "visibility": null,
            "align_self": null,
            "height": null,
            "min_height": null,
            "padding": null,
            "grid_auto_rows": null,
            "grid_gap": null,
            "max_width": null,
            "order": null,
            "_view_module_version": "1.2.0",
            "grid_template_areas": null,
            "object_position": null,
            "object_fit": null,
            "grid_auto_columns": null,
            "margin": null,
            "display": null,
            "left": null
          }
        },
        "6868cc1d33ae483ca96d220fa327d8af": {
          "model_module": "@jupyter-widgets/controls",
          "model_name": "DescriptionStyleModel",
          "model_module_version": "1.5.0",
          "state": {
            "_view_name": "StyleView",
            "_model_name": "DescriptionStyleModel",
            "description_width": "",
            "_view_module": "@jupyter-widgets/base",
            "_model_module_version": "1.5.0",
            "_view_count": null,
            "_view_module_version": "1.2.0",
            "_model_module": "@jupyter-widgets/controls"
          }
        },
        "7e991a4e3ac7486880f2073dd3c31473": {
          "model_module": "@jupyter-widgets/base",
          "model_name": "LayoutModel",
          "model_module_version": "1.2.0",
          "state": {
            "_view_name": "LayoutView",
            "grid_template_rows": null,
            "right": null,
            "justify_content": null,
            "_view_module": "@jupyter-widgets/base",
            "overflow": null,
            "_model_module_version": "1.2.0",
            "_view_count": null,
            "flex_flow": null,
            "width": null,
            "min_width": null,
            "border": null,
            "align_items": null,
            "bottom": null,
            "_model_module": "@jupyter-widgets/base",
            "top": null,
            "grid_column": null,
            "overflow_y": null,
            "overflow_x": null,
            "grid_auto_flow": null,
            "grid_area": null,
            "grid_template_columns": null,
            "flex": null,
            "_model_name": "LayoutModel",
            "justify_items": null,
            "grid_row": null,
            "max_height": null,
            "align_content": null,
            "visibility": null,
            "align_self": null,
            "height": null,
            "min_height": null,
            "padding": null,
            "grid_auto_rows": null,
            "grid_gap": null,
            "max_width": null,
            "order": null,
            "_view_module_version": "1.2.0",
            "grid_template_areas": null,
            "object_position": null,
            "object_fit": null,
            "grid_auto_columns": null,
            "margin": null,
            "display": null,
            "left": null
          }
        },
        "7f68fa2b9eb044fd894d73f0cc6b86a0": {
          "model_module": "@jupyter-widgets/controls",
          "model_name": "HBoxModel",
          "model_module_version": "1.5.0",
          "state": {
            "_view_name": "HBoxView",
            "_dom_classes": [],
            "_model_name": "HBoxModel",
            "_view_module": "@jupyter-widgets/controls",
            "_model_module_version": "1.5.0",
            "_view_count": null,
            "_view_module_version": "1.5.0",
            "box_style": "",
            "layout": "IPY_MODEL_f6454563703642e2a8f3559e5ac5ee60",
            "_model_module": "@jupyter-widgets/controls",
            "children": [
              "IPY_MODEL_89861025cb98448f98bfe2eff30ee67f",
              "IPY_MODEL_f63eef8fc6d444dcbe717cd7ac256950",
              "IPY_MODEL_62de86c53a264da3932d9a85f9995576"
            ]
          }
        },
        "f6454563703642e2a8f3559e5ac5ee60": {
          "model_module": "@jupyter-widgets/base",
          "model_name": "LayoutModel",
          "model_module_version": "1.2.0",
          "state": {
            "_view_name": "LayoutView",
            "grid_template_rows": null,
            "right": null,
            "justify_content": null,
            "_view_module": "@jupyter-widgets/base",
            "overflow": null,
            "_model_module_version": "1.2.0",
            "_view_count": null,
            "flex_flow": null,
            "width": null,
            "min_width": null,
            "border": null,
            "align_items": null,
            "bottom": null,
            "_model_module": "@jupyter-widgets/base",
            "top": null,
            "grid_column": null,
            "overflow_y": null,
            "overflow_x": null,
            "grid_auto_flow": null,
            "grid_area": null,
            "grid_template_columns": null,
            "flex": null,
            "_model_name": "LayoutModel",
            "justify_items": null,
            "grid_row": null,
            "max_height": null,
            "align_content": null,
            "visibility": null,
            "align_self": null,
            "height": null,
            "min_height": null,
            "padding": null,
            "grid_auto_rows": null,
            "grid_gap": null,
            "max_width": null,
            "order": null,
            "_view_module_version": "1.2.0",
            "grid_template_areas": null,
            "object_position": null,
            "object_fit": null,
            "grid_auto_columns": null,
            "margin": null,
            "display": null,
            "left": null
          }
        },
        "89861025cb98448f98bfe2eff30ee67f": {
          "model_module": "@jupyter-widgets/controls",
          "model_name": "HTMLModel",
          "model_module_version": "1.5.0",
          "state": {
            "_view_name": "HTMLView",
            "style": "IPY_MODEL_060ff4c3946945949db4557406a01f15",
            "_dom_classes": [],
            "description": "",
            "_model_name": "HTMLModel",
            "placeholder": "​",
            "_view_module": "@jupyter-widgets/controls",
            "_model_module_version": "1.5.0",
            "value": "100%",
            "_view_count": null,
            "_view_module_version": "1.5.0",
            "description_tooltip": null,
            "_model_module": "@jupyter-widgets/controls",
            "layout": "IPY_MODEL_8c6d1cb89dbb4f76bbad28f818ab9fb1"
          }
        },
        "f63eef8fc6d444dcbe717cd7ac256950": {
          "model_module": "@jupyter-widgets/controls",
          "model_name": "FloatProgressModel",
          "model_module_version": "1.5.0",
          "state": {
            "_view_name": "ProgressView",
            "style": "IPY_MODEL_a50c51272cda45429d443c4ee3ae824e",
            "_dom_classes": [],
            "description": "",
            "_model_name": "FloatProgressModel",
            "bar_style": "success",
            "max": 1600,
            "_view_module": "@jupyter-widgets/controls",
            "_model_module_version": "1.5.0",
            "value": 1600,
            "_view_count": null,
            "_view_module_version": "1.5.0",
            "orientation": "horizontal",
            "min": 0,
            "description_tooltip": null,
            "_model_module": "@jupyter-widgets/controls",
            "layout": "IPY_MODEL_f7c44348d2d74a369cc8536a8bf948cb"
          }
        },
        "62de86c53a264da3932d9a85f9995576": {
          "model_module": "@jupyter-widgets/controls",
          "model_name": "HTMLModel",
          "model_module_version": "1.5.0",
          "state": {
            "_view_name": "HTMLView",
            "style": "IPY_MODEL_33075944910c4457b2852a072b631afc",
            "_dom_classes": [],
            "description": "",
            "_model_name": "HTMLModel",
            "placeholder": "​",
            "_view_module": "@jupyter-widgets/controls",
            "_model_module_version": "1.5.0",
            "value": " 1600/1600 [01:07&lt;00:00, 24.00epoch/s]",
            "_view_count": null,
            "_view_module_version": "1.5.0",
            "description_tooltip": null,
            "_model_module": "@jupyter-widgets/controls",
            "layout": "IPY_MODEL_5c0419ff1466491299c069d7a1cdc1f0"
          }
        },
        "060ff4c3946945949db4557406a01f15": {
          "model_module": "@jupyter-widgets/controls",
          "model_name": "DescriptionStyleModel",
          "model_module_version": "1.5.0",
          "state": {
            "_view_name": "StyleView",
            "_model_name": "DescriptionStyleModel",
            "description_width": "",
            "_view_module": "@jupyter-widgets/base",
            "_model_module_version": "1.5.0",
            "_view_count": null,
            "_view_module_version": "1.2.0",
            "_model_module": "@jupyter-widgets/controls"
          }
        },
        "8c6d1cb89dbb4f76bbad28f818ab9fb1": {
          "model_module": "@jupyter-widgets/base",
          "model_name": "LayoutModel",
          "model_module_version": "1.2.0",
          "state": {
            "_view_name": "LayoutView",
            "grid_template_rows": null,
            "right": null,
            "justify_content": null,
            "_view_module": "@jupyter-widgets/base",
            "overflow": null,
            "_model_module_version": "1.2.0",
            "_view_count": null,
            "flex_flow": null,
            "width": null,
            "min_width": null,
            "border": null,
            "align_items": null,
            "bottom": null,
            "_model_module": "@jupyter-widgets/base",
            "top": null,
            "grid_column": null,
            "overflow_y": null,
            "overflow_x": null,
            "grid_auto_flow": null,
            "grid_area": null,
            "grid_template_columns": null,
            "flex": null,
            "_model_name": "LayoutModel",
            "justify_items": null,
            "grid_row": null,
            "max_height": null,
            "align_content": null,
            "visibility": null,
            "align_self": null,
            "height": null,
            "min_height": null,
            "padding": null,
            "grid_auto_rows": null,
            "grid_gap": null,
            "max_width": null,
            "order": null,
            "_view_module_version": "1.2.0",
            "grid_template_areas": null,
            "object_position": null,
            "object_fit": null,
            "grid_auto_columns": null,
            "margin": null,
            "display": null,
            "left": null
          }
        },
        "a50c51272cda45429d443c4ee3ae824e": {
          "model_module": "@jupyter-widgets/controls",
          "model_name": "ProgressStyleModel",
          "model_module_version": "1.5.0",
          "state": {
            "_view_name": "StyleView",
            "_model_name": "ProgressStyleModel",
            "description_width": "",
            "_view_module": "@jupyter-widgets/base",
            "_model_module_version": "1.5.0",
            "_view_count": null,
            "_view_module_version": "1.2.0",
            "bar_color": null,
            "_model_module": "@jupyter-widgets/controls"
          }
        },
        "f7c44348d2d74a369cc8536a8bf948cb": {
          "model_module": "@jupyter-widgets/base",
          "model_name": "LayoutModel",
          "model_module_version": "1.2.0",
          "state": {
            "_view_name": "LayoutView",
            "grid_template_rows": null,
            "right": null,
            "justify_content": null,
            "_view_module": "@jupyter-widgets/base",
            "overflow": null,
            "_model_module_version": "1.2.0",
            "_view_count": null,
            "flex_flow": null,
            "width": null,
            "min_width": null,
            "border": null,
            "align_items": null,
            "bottom": null,
            "_model_module": "@jupyter-widgets/base",
            "top": null,
            "grid_column": null,
            "overflow_y": null,
            "overflow_x": null,
            "grid_auto_flow": null,
            "grid_area": null,
            "grid_template_columns": null,
            "flex": null,
            "_model_name": "LayoutModel",
            "justify_items": null,
            "grid_row": null,
            "max_height": null,
            "align_content": null,
            "visibility": null,
            "align_self": null,
            "height": null,
            "min_height": null,
            "padding": null,
            "grid_auto_rows": null,
            "grid_gap": null,
            "max_width": null,
            "order": null,
            "_view_module_version": "1.2.0",
            "grid_template_areas": null,
            "object_position": null,
            "object_fit": null,
            "grid_auto_columns": null,
            "margin": null,
            "display": null,
            "left": null
          }
        },
        "33075944910c4457b2852a072b631afc": {
          "model_module": "@jupyter-widgets/controls",
          "model_name": "DescriptionStyleModel",
          "model_module_version": "1.5.0",
          "state": {
            "_view_name": "StyleView",
            "_model_name": "DescriptionStyleModel",
            "description_width": "",
            "_view_module": "@jupyter-widgets/base",
            "_model_module_version": "1.5.0",
            "_view_count": null,
            "_view_module_version": "1.2.0",
            "_model_module": "@jupyter-widgets/controls"
          }
        },
        "5c0419ff1466491299c069d7a1cdc1f0": {
          "model_module": "@jupyter-widgets/base",
          "model_name": "LayoutModel",
          "model_module_version": "1.2.0",
          "state": {
            "_view_name": "LayoutView",
            "grid_template_rows": null,
            "right": null,
            "justify_content": null,
            "_view_module": "@jupyter-widgets/base",
            "overflow": null,
            "_model_module_version": "1.2.0",
            "_view_count": null,
            "flex_flow": null,
            "width": null,
            "min_width": null,
            "border": null,
            "align_items": null,
            "bottom": null,
            "_model_module": "@jupyter-widgets/base",
            "top": null,
            "grid_column": null,
            "overflow_y": null,
            "overflow_x": null,
            "grid_auto_flow": null,
            "grid_area": null,
            "grid_template_columns": null,
            "flex": null,
            "_model_name": "LayoutModel",
            "justify_items": null,
            "grid_row": null,
            "max_height": null,
            "align_content": null,
            "visibility": null,
            "align_self": null,
            "height": null,
            "min_height": null,
            "padding": null,
            "grid_auto_rows": null,
            "grid_gap": null,
            "max_width": null,
            "order": null,
            "_view_module_version": "1.2.0",
            "grid_template_areas": null,
            "object_position": null,
            "object_fit": null,
            "grid_auto_columns": null,
            "margin": null,
            "display": null,
            "left": null
          }
        },
        "135e6353f79b4f6babc05de9700a1d7d": {
          "model_module": "@jupyter-widgets/controls",
          "model_name": "HBoxModel",
          "model_module_version": "1.5.0",
          "state": {
            "_view_name": "HBoxView",
            "_dom_classes": [],
            "_model_name": "HBoxModel",
            "_view_module": "@jupyter-widgets/controls",
            "_model_module_version": "1.5.0",
            "_view_count": null,
            "_view_module_version": "1.5.0",
            "box_style": "",
            "layout": "IPY_MODEL_72fc39c2575c4f7f8565076d95fe1703",
            "_model_module": "@jupyter-widgets/controls",
            "children": [
              "IPY_MODEL_670ce81954104221b4a0c1f22a4d2ed3",
              "IPY_MODEL_532e7fea704e48a28af0c2c60a0084dc",
              "IPY_MODEL_ff0b7d702c7f421285b8766a7219a37c"
            ]
          }
        },
        "72fc39c2575c4f7f8565076d95fe1703": {
          "model_module": "@jupyter-widgets/base",
          "model_name": "LayoutModel",
          "model_module_version": "1.2.0",
          "state": {
            "_view_name": "LayoutView",
            "grid_template_rows": null,
            "right": null,
            "justify_content": null,
            "_view_module": "@jupyter-widgets/base",
            "overflow": null,
            "_model_module_version": "1.2.0",
            "_view_count": null,
            "flex_flow": null,
            "width": null,
            "min_width": null,
            "border": null,
            "align_items": null,
            "bottom": null,
            "_model_module": "@jupyter-widgets/base",
            "top": null,
            "grid_column": null,
            "overflow_y": null,
            "overflow_x": null,
            "grid_auto_flow": null,
            "grid_area": null,
            "grid_template_columns": null,
            "flex": null,
            "_model_name": "LayoutModel",
            "justify_items": null,
            "grid_row": null,
            "max_height": null,
            "align_content": null,
            "visibility": null,
            "align_self": null,
            "height": null,
            "min_height": null,
            "padding": null,
            "grid_auto_rows": null,
            "grid_gap": null,
            "max_width": null,
            "order": null,
            "_view_module_version": "1.2.0",
            "grid_template_areas": null,
            "object_position": null,
            "object_fit": null,
            "grid_auto_columns": null,
            "margin": null,
            "display": null,
            "left": null
          }
        },
        "670ce81954104221b4a0c1f22a4d2ed3": {
          "model_module": "@jupyter-widgets/controls",
          "model_name": "HTMLModel",
          "model_module_version": "1.5.0",
          "state": {
            "_view_name": "HTMLView",
            "style": "IPY_MODEL_300b3db4b16b4ad1b29ae0f93e390d80",
            "_dom_classes": [],
            "description": "",
            "_model_name": "HTMLModel",
            "placeholder": "​",
            "_view_module": "@jupyter-widgets/controls",
            "_model_module_version": "1.5.0",
            "value": "100%",
            "_view_count": null,
            "_view_module_version": "1.5.0",
            "description_tooltip": null,
            "_model_module": "@jupyter-widgets/controls",
            "layout": "IPY_MODEL_f265394e86034ec78c59e57c1396a957"
          }
        },
        "532e7fea704e48a28af0c2c60a0084dc": {
          "model_module": "@jupyter-widgets/controls",
          "model_name": "FloatProgressModel",
          "model_module_version": "1.5.0",
          "state": {
            "_view_name": "ProgressView",
            "style": "IPY_MODEL_d7d13df858d345acb96aba36e8ce27ba",
            "_dom_classes": [],
            "description": "",
            "_model_name": "FloatProgressModel",
            "bar_style": "success",
            "max": 6700,
            "_view_module": "@jupyter-widgets/controls",
            "_model_module_version": "1.5.0",
            "value": 6700,
            "_view_count": null,
            "_view_module_version": "1.5.0",
            "orientation": "horizontal",
            "min": 0,
            "description_tooltip": null,
            "_model_module": "@jupyter-widgets/controls",
            "layout": "IPY_MODEL_4fbecd3f600a40f3b29d27cdb617185c"
          }
        },
        "ff0b7d702c7f421285b8766a7219a37c": {
          "model_module": "@jupyter-widgets/controls",
          "model_name": "HTMLModel",
          "model_module_version": "1.5.0",
          "state": {
            "_view_name": "HTMLView",
            "style": "IPY_MODEL_ef76099d38ba4bd0aeb145b5f564bdc0",
            "_dom_classes": [],
            "description": "",
            "_model_name": "HTMLModel",
            "placeholder": "​",
            "_view_module": "@jupyter-widgets/controls",
            "_model_module_version": "1.5.0",
            "value": " 6700/6700 [01:51&lt;00:00, 61.22epoch/s]",
            "_view_count": null,
            "_view_module_version": "1.5.0",
            "description_tooltip": null,
            "_model_module": "@jupyter-widgets/controls",
            "layout": "IPY_MODEL_52c220708d41458eaa1249fc443ac62a"
          }
        },
        "300b3db4b16b4ad1b29ae0f93e390d80": {
          "model_module": "@jupyter-widgets/controls",
          "model_name": "DescriptionStyleModel",
          "model_module_version": "1.5.0",
          "state": {
            "_view_name": "StyleView",
            "_model_name": "DescriptionStyleModel",
            "description_width": "",
            "_view_module": "@jupyter-widgets/base",
            "_model_module_version": "1.5.0",
            "_view_count": null,
            "_view_module_version": "1.2.0",
            "_model_module": "@jupyter-widgets/controls"
          }
        },
        "f265394e86034ec78c59e57c1396a957": {
          "model_module": "@jupyter-widgets/base",
          "model_name": "LayoutModel",
          "model_module_version": "1.2.0",
          "state": {
            "_view_name": "LayoutView",
            "grid_template_rows": null,
            "right": null,
            "justify_content": null,
            "_view_module": "@jupyter-widgets/base",
            "overflow": null,
            "_model_module_version": "1.2.0",
            "_view_count": null,
            "flex_flow": null,
            "width": null,
            "min_width": null,
            "border": null,
            "align_items": null,
            "bottom": null,
            "_model_module": "@jupyter-widgets/base",
            "top": null,
            "grid_column": null,
            "overflow_y": null,
            "overflow_x": null,
            "grid_auto_flow": null,
            "grid_area": null,
            "grid_template_columns": null,
            "flex": null,
            "_model_name": "LayoutModel",
            "justify_items": null,
            "grid_row": null,
            "max_height": null,
            "align_content": null,
            "visibility": null,
            "align_self": null,
            "height": null,
            "min_height": null,
            "padding": null,
            "grid_auto_rows": null,
            "grid_gap": null,
            "max_width": null,
            "order": null,
            "_view_module_version": "1.2.0",
            "grid_template_areas": null,
            "object_position": null,
            "object_fit": null,
            "grid_auto_columns": null,
            "margin": null,
            "display": null,
            "left": null
          }
        },
        "d7d13df858d345acb96aba36e8ce27ba": {
          "model_module": "@jupyter-widgets/controls",
          "model_name": "ProgressStyleModel",
          "model_module_version": "1.5.0",
          "state": {
            "_view_name": "StyleView",
            "_model_name": "ProgressStyleModel",
            "description_width": "",
            "_view_module": "@jupyter-widgets/base",
            "_model_module_version": "1.5.0",
            "_view_count": null,
            "_view_module_version": "1.2.0",
            "bar_color": null,
            "_model_module": "@jupyter-widgets/controls"
          }
        },
        "4fbecd3f600a40f3b29d27cdb617185c": {
          "model_module": "@jupyter-widgets/base",
          "model_name": "LayoutModel",
          "model_module_version": "1.2.0",
          "state": {
            "_view_name": "LayoutView",
            "grid_template_rows": null,
            "right": null,
            "justify_content": null,
            "_view_module": "@jupyter-widgets/base",
            "overflow": null,
            "_model_module_version": "1.2.0",
            "_view_count": null,
            "flex_flow": null,
            "width": null,
            "min_width": null,
            "border": null,
            "align_items": null,
            "bottom": null,
            "_model_module": "@jupyter-widgets/base",
            "top": null,
            "grid_column": null,
            "overflow_y": null,
            "overflow_x": null,
            "grid_auto_flow": null,
            "grid_area": null,
            "grid_template_columns": null,
            "flex": null,
            "_model_name": "LayoutModel",
            "justify_items": null,
            "grid_row": null,
            "max_height": null,
            "align_content": null,
            "visibility": null,
            "align_self": null,
            "height": null,
            "min_height": null,
            "padding": null,
            "grid_auto_rows": null,
            "grid_gap": null,
            "max_width": null,
            "order": null,
            "_view_module_version": "1.2.0",
            "grid_template_areas": null,
            "object_position": null,
            "object_fit": null,
            "grid_auto_columns": null,
            "margin": null,
            "display": null,
            "left": null
          }
        },
        "ef76099d38ba4bd0aeb145b5f564bdc0": {
          "model_module": "@jupyter-widgets/controls",
          "model_name": "DescriptionStyleModel",
          "model_module_version": "1.5.0",
          "state": {
            "_view_name": "StyleView",
            "_model_name": "DescriptionStyleModel",
            "description_width": "",
            "_view_module": "@jupyter-widgets/base",
            "_model_module_version": "1.5.0",
            "_view_count": null,
            "_view_module_version": "1.2.0",
            "_model_module": "@jupyter-widgets/controls"
          }
        },
        "52c220708d41458eaa1249fc443ac62a": {
          "model_module": "@jupyter-widgets/base",
          "model_name": "LayoutModel",
          "model_module_version": "1.2.0",
          "state": {
            "_view_name": "LayoutView",
            "grid_template_rows": null,
            "right": null,
            "justify_content": null,
            "_view_module": "@jupyter-widgets/base",
            "overflow": null,
            "_model_module_version": "1.2.0",
            "_view_count": null,
            "flex_flow": null,
            "width": null,
            "min_width": null,
            "border": null,
            "align_items": null,
            "bottom": null,
            "_model_module": "@jupyter-widgets/base",
            "top": null,
            "grid_column": null,
            "overflow_y": null,
            "overflow_x": null,
            "grid_auto_flow": null,
            "grid_area": null,
            "grid_template_columns": null,
            "flex": null,
            "_model_name": "LayoutModel",
            "justify_items": null,
            "grid_row": null,
            "max_height": null,
            "align_content": null,
            "visibility": null,
            "align_self": null,
            "height": null,
            "min_height": null,
            "padding": null,
            "grid_auto_rows": null,
            "grid_gap": null,
            "max_width": null,
            "order": null,
            "_view_module_version": "1.2.0",
            "grid_template_areas": null,
            "object_position": null,
            "object_fit": null,
            "grid_auto_columns": null,
            "margin": null,
            "display": null,
            "left": null
          }
        },
        "2038b87db67841cd95213dd23239b8bd": {
          "model_module": "@jupyter-widgets/controls",
          "model_name": "HBoxModel",
          "model_module_version": "1.5.0",
          "state": {
            "_view_name": "HBoxView",
            "_dom_classes": [],
            "_model_name": "HBoxModel",
            "_view_module": "@jupyter-widgets/controls",
            "_model_module_version": "1.5.0",
            "_view_count": null,
            "_view_module_version": "1.5.0",
            "box_style": "",
            "layout": "IPY_MODEL_e0af768ed09147c5b680e1215b3eb992",
            "_model_module": "@jupyter-widgets/controls",
            "children": [
              "IPY_MODEL_06f5d0ba240a4f61bff8a2367140d026",
              "IPY_MODEL_2a1881b867b941b89fcfac449d6b5d12",
              "IPY_MODEL_4f2c9b8d40a24e7d8f7bc4cfb0213d1f"
            ]
          }
        },
        "e0af768ed09147c5b680e1215b3eb992": {
          "model_module": "@jupyter-widgets/base",
          "model_name": "LayoutModel",
          "model_module_version": "1.2.0",
          "state": {
            "_view_name": "LayoutView",
            "grid_template_rows": null,
            "right": null,
            "justify_content": null,
            "_view_module": "@jupyter-widgets/base",
            "overflow": null,
            "_model_module_version": "1.2.0",
            "_view_count": null,
            "flex_flow": null,
            "width": null,
            "min_width": null,
            "border": null,
            "align_items": null,
            "bottom": null,
            "_model_module": "@jupyter-widgets/base",
            "top": null,
            "grid_column": null,
            "overflow_y": null,
            "overflow_x": null,
            "grid_auto_flow": null,
            "grid_area": null,
            "grid_template_columns": null,
            "flex": null,
            "_model_name": "LayoutModel",
            "justify_items": null,
            "grid_row": null,
            "max_height": null,
            "align_content": null,
            "visibility": null,
            "align_self": null,
            "height": null,
            "min_height": null,
            "padding": null,
            "grid_auto_rows": null,
            "grid_gap": null,
            "max_width": null,
            "order": null,
            "_view_module_version": "1.2.0",
            "grid_template_areas": null,
            "object_position": null,
            "object_fit": null,
            "grid_auto_columns": null,
            "margin": null,
            "display": null,
            "left": null
          }
        },
        "06f5d0ba240a4f61bff8a2367140d026": {
          "model_module": "@jupyter-widgets/controls",
          "model_name": "HTMLModel",
          "model_module_version": "1.5.0",
          "state": {
            "_view_name": "HTMLView",
            "style": "IPY_MODEL_ad73d4294b5e4a17b882e27002ba013a",
            "_dom_classes": [],
            "description": "",
            "_model_name": "HTMLModel",
            "placeholder": "​",
            "_view_module": "@jupyter-widgets/controls",
            "_model_module_version": "1.5.0",
            "value": "100%",
            "_view_count": null,
            "_view_module_version": "1.5.0",
            "description_tooltip": null,
            "_model_module": "@jupyter-widgets/controls",
            "layout": "IPY_MODEL_ec837c0919ec43159d651aec1750c7d3"
          }
        },
        "2a1881b867b941b89fcfac449d6b5d12": {
          "model_module": "@jupyter-widgets/controls",
          "model_name": "FloatProgressModel",
          "model_module_version": "1.5.0",
          "state": {
            "_view_name": "ProgressView",
            "style": "IPY_MODEL_45f597e006a945558ec7d403cb7b925b",
            "_dom_classes": [],
            "description": "",
            "_model_name": "FloatProgressModel",
            "bar_style": "success",
            "max": 2500,
            "_view_module": "@jupyter-widgets/controls",
            "_model_module_version": "1.5.0",
            "value": 2500,
            "_view_count": null,
            "_view_module_version": "1.5.0",
            "orientation": "horizontal",
            "min": 0,
            "description_tooltip": null,
            "_model_module": "@jupyter-widgets/controls",
            "layout": "IPY_MODEL_e04a65d2b66f4d0fab088261479b0d2d"
          }
        },
        "4f2c9b8d40a24e7d8f7bc4cfb0213d1f": {
          "model_module": "@jupyter-widgets/controls",
          "model_name": "HTMLModel",
          "model_module_version": "1.5.0",
          "state": {
            "_view_name": "HTMLView",
            "style": "IPY_MODEL_b42d1ab4e3dd4795b0198ad0e1ae8768",
            "_dom_classes": [],
            "description": "",
            "_model_name": "HTMLModel",
            "placeholder": "​",
            "_view_module": "@jupyter-widgets/controls",
            "_model_module_version": "1.5.0",
            "value": " 2500/2500 [01:44&lt;00:00, 25.13epoch/s]",
            "_view_count": null,
            "_view_module_version": "1.5.0",
            "description_tooltip": null,
            "_model_module": "@jupyter-widgets/controls",
            "layout": "IPY_MODEL_ac04a871d8524078a4cd916bad3ade9c"
          }
        },
        "ad73d4294b5e4a17b882e27002ba013a": {
          "model_module": "@jupyter-widgets/controls",
          "model_name": "DescriptionStyleModel",
          "model_module_version": "1.5.0",
          "state": {
            "_view_name": "StyleView",
            "_model_name": "DescriptionStyleModel",
            "description_width": "",
            "_view_module": "@jupyter-widgets/base",
            "_model_module_version": "1.5.0",
            "_view_count": null,
            "_view_module_version": "1.2.0",
            "_model_module": "@jupyter-widgets/controls"
          }
        },
        "ec837c0919ec43159d651aec1750c7d3": {
          "model_module": "@jupyter-widgets/base",
          "model_name": "LayoutModel",
          "model_module_version": "1.2.0",
          "state": {
            "_view_name": "LayoutView",
            "grid_template_rows": null,
            "right": null,
            "justify_content": null,
            "_view_module": "@jupyter-widgets/base",
            "overflow": null,
            "_model_module_version": "1.2.0",
            "_view_count": null,
            "flex_flow": null,
            "width": null,
            "min_width": null,
            "border": null,
            "align_items": null,
            "bottom": null,
            "_model_module": "@jupyter-widgets/base",
            "top": null,
            "grid_column": null,
            "overflow_y": null,
            "overflow_x": null,
            "grid_auto_flow": null,
            "grid_area": null,
            "grid_template_columns": null,
            "flex": null,
            "_model_name": "LayoutModel",
            "justify_items": null,
            "grid_row": null,
            "max_height": null,
            "align_content": null,
            "visibility": null,
            "align_self": null,
            "height": null,
            "min_height": null,
            "padding": null,
            "grid_auto_rows": null,
            "grid_gap": null,
            "max_width": null,
            "order": null,
            "_view_module_version": "1.2.0",
            "grid_template_areas": null,
            "object_position": null,
            "object_fit": null,
            "grid_auto_columns": null,
            "margin": null,
            "display": null,
            "left": null
          }
        },
        "45f597e006a945558ec7d403cb7b925b": {
          "model_module": "@jupyter-widgets/controls",
          "model_name": "ProgressStyleModel",
          "model_module_version": "1.5.0",
          "state": {
            "_view_name": "StyleView",
            "_model_name": "ProgressStyleModel",
            "description_width": "",
            "_view_module": "@jupyter-widgets/base",
            "_model_module_version": "1.5.0",
            "_view_count": null,
            "_view_module_version": "1.2.0",
            "bar_color": null,
            "_model_module": "@jupyter-widgets/controls"
          }
        },
        "e04a65d2b66f4d0fab088261479b0d2d": {
          "model_module": "@jupyter-widgets/base",
          "model_name": "LayoutModel",
          "model_module_version": "1.2.0",
          "state": {
            "_view_name": "LayoutView",
            "grid_template_rows": null,
            "right": null,
            "justify_content": null,
            "_view_module": "@jupyter-widgets/base",
            "overflow": null,
            "_model_module_version": "1.2.0",
            "_view_count": null,
            "flex_flow": null,
            "width": null,
            "min_width": null,
            "border": null,
            "align_items": null,
            "bottom": null,
            "_model_module": "@jupyter-widgets/base",
            "top": null,
            "grid_column": null,
            "overflow_y": null,
            "overflow_x": null,
            "grid_auto_flow": null,
            "grid_area": null,
            "grid_template_columns": null,
            "flex": null,
            "_model_name": "LayoutModel",
            "justify_items": null,
            "grid_row": null,
            "max_height": null,
            "align_content": null,
            "visibility": null,
            "align_self": null,
            "height": null,
            "min_height": null,
            "padding": null,
            "grid_auto_rows": null,
            "grid_gap": null,
            "max_width": null,
            "order": null,
            "_view_module_version": "1.2.0",
            "grid_template_areas": null,
            "object_position": null,
            "object_fit": null,
            "grid_auto_columns": null,
            "margin": null,
            "display": null,
            "left": null
          }
        },
        "b42d1ab4e3dd4795b0198ad0e1ae8768": {
          "model_module": "@jupyter-widgets/controls",
          "model_name": "DescriptionStyleModel",
          "model_module_version": "1.5.0",
          "state": {
            "_view_name": "StyleView",
            "_model_name": "DescriptionStyleModel",
            "description_width": "",
            "_view_module": "@jupyter-widgets/base",
            "_model_module_version": "1.5.0",
            "_view_count": null,
            "_view_module_version": "1.2.0",
            "_model_module": "@jupyter-widgets/controls"
          }
        },
        "ac04a871d8524078a4cd916bad3ade9c": {
          "model_module": "@jupyter-widgets/base",
          "model_name": "LayoutModel",
          "model_module_version": "1.2.0",
          "state": {
            "_view_name": "LayoutView",
            "grid_template_rows": null,
            "right": null,
            "justify_content": null,
            "_view_module": "@jupyter-widgets/base",
            "overflow": null,
            "_model_module_version": "1.2.0",
            "_view_count": null,
            "flex_flow": null,
            "width": null,
            "min_width": null,
            "border": null,
            "align_items": null,
            "bottom": null,
            "_model_module": "@jupyter-widgets/base",
            "top": null,
            "grid_column": null,
            "overflow_y": null,
            "overflow_x": null,
            "grid_auto_flow": null,
            "grid_area": null,
            "grid_template_columns": null,
            "flex": null,
            "_model_name": "LayoutModel",
            "justify_items": null,
            "grid_row": null,
            "max_height": null,
            "align_content": null,
            "visibility": null,
            "align_self": null,
            "height": null,
            "min_height": null,
            "padding": null,
            "grid_auto_rows": null,
            "grid_gap": null,
            "max_width": null,
            "order": null,
            "_view_module_version": "1.2.0",
            "grid_template_areas": null,
            "object_position": null,
            "object_fit": null,
            "grid_auto_columns": null,
            "margin": null,
            "display": null,
            "left": null
          }
        },
        "56f773ff5f5b4350bb253e828bf4040e": {
          "model_module": "@jupyter-widgets/controls",
          "model_name": "HBoxModel",
          "model_module_version": "1.5.0",
          "state": {
            "_view_name": "HBoxView",
            "_dom_classes": [],
            "_model_name": "HBoxModel",
            "_view_module": "@jupyter-widgets/controls",
            "_model_module_version": "1.5.0",
            "_view_count": null,
            "_view_module_version": "1.5.0",
            "box_style": "",
            "layout": "IPY_MODEL_bbf8716f3dfe4bfe82d0bde5927e7e2e",
            "_model_module": "@jupyter-widgets/controls",
            "children": [
              "IPY_MODEL_74f646ec45f94db4bd6a4c2276172323",
              "IPY_MODEL_ba18513a6e794a1da4882bd2f1c91f9a",
              "IPY_MODEL_2e7c1401602345fa871e2d5ece7b8fa7"
            ]
          }
        },
        "bbf8716f3dfe4bfe82d0bde5927e7e2e": {
          "model_module": "@jupyter-widgets/base",
          "model_name": "LayoutModel",
          "model_module_version": "1.2.0",
          "state": {
            "_view_name": "LayoutView",
            "grid_template_rows": null,
            "right": null,
            "justify_content": null,
            "_view_module": "@jupyter-widgets/base",
            "overflow": null,
            "_model_module_version": "1.2.0",
            "_view_count": null,
            "flex_flow": null,
            "width": null,
            "min_width": null,
            "border": null,
            "align_items": null,
            "bottom": null,
            "_model_module": "@jupyter-widgets/base",
            "top": null,
            "grid_column": null,
            "overflow_y": null,
            "overflow_x": null,
            "grid_auto_flow": null,
            "grid_area": null,
            "grid_template_columns": null,
            "flex": null,
            "_model_name": "LayoutModel",
            "justify_items": null,
            "grid_row": null,
            "max_height": null,
            "align_content": null,
            "visibility": null,
            "align_self": null,
            "height": null,
            "min_height": null,
            "padding": null,
            "grid_auto_rows": null,
            "grid_gap": null,
            "max_width": null,
            "order": null,
            "_view_module_version": "1.2.0",
            "grid_template_areas": null,
            "object_position": null,
            "object_fit": null,
            "grid_auto_columns": null,
            "margin": null,
            "display": null,
            "left": null
          }
        },
        "74f646ec45f94db4bd6a4c2276172323": {
          "model_module": "@jupyter-widgets/controls",
          "model_name": "HTMLModel",
          "model_module_version": "1.5.0",
          "state": {
            "_view_name": "HTMLView",
            "style": "IPY_MODEL_538bb70914d443dbab0aa50d9277f7dc",
            "_dom_classes": [],
            "description": "",
            "_model_name": "HTMLModel",
            "placeholder": "​",
            "_view_module": "@jupyter-widgets/controls",
            "_model_module_version": "1.5.0",
            "value": "100%",
            "_view_count": null,
            "_view_module_version": "1.5.0",
            "description_tooltip": null,
            "_model_module": "@jupyter-widgets/controls",
            "layout": "IPY_MODEL_f00547c6b9304a46b18383721740d439"
          }
        },
        "ba18513a6e794a1da4882bd2f1c91f9a": {
          "model_module": "@jupyter-widgets/controls",
          "model_name": "FloatProgressModel",
          "model_module_version": "1.5.0",
          "state": {
            "_view_name": "ProgressView",
            "style": "IPY_MODEL_58bfa2d4c6314e4688a210fde69895e8",
            "_dom_classes": [],
            "description": "",
            "_model_name": "FloatProgressModel",
            "bar_style": "success",
            "max": 10000,
            "_view_module": "@jupyter-widgets/controls",
            "_model_module_version": "1.5.0",
            "value": 10000,
            "_view_count": null,
            "_view_module_version": "1.5.0",
            "orientation": "horizontal",
            "min": 0,
            "description_tooltip": null,
            "_model_module": "@jupyter-widgets/controls",
            "layout": "IPY_MODEL_1234b559143241e3b36100755d788497"
          }
        },
        "2e7c1401602345fa871e2d5ece7b8fa7": {
          "model_module": "@jupyter-widgets/controls",
          "model_name": "HTMLModel",
          "model_module_version": "1.5.0",
          "state": {
            "_view_name": "HTMLView",
            "style": "IPY_MODEL_6700ff351a4745e7a25159a925c681d5",
            "_dom_classes": [],
            "description": "",
            "_model_name": "HTMLModel",
            "placeholder": "​",
            "_view_module": "@jupyter-widgets/controls",
            "_model_module_version": "1.5.0",
            "value": " 10000/10000 [02:47&lt;00:00, 59.78epoch/s]",
            "_view_count": null,
            "_view_module_version": "1.5.0",
            "description_tooltip": null,
            "_model_module": "@jupyter-widgets/controls",
            "layout": "IPY_MODEL_f79e798f8af84ecda8bf0bac54f5967e"
          }
        },
        "538bb70914d443dbab0aa50d9277f7dc": {
          "model_module": "@jupyter-widgets/controls",
          "model_name": "DescriptionStyleModel",
          "model_module_version": "1.5.0",
          "state": {
            "_view_name": "StyleView",
            "_model_name": "DescriptionStyleModel",
            "description_width": "",
            "_view_module": "@jupyter-widgets/base",
            "_model_module_version": "1.5.0",
            "_view_count": null,
            "_view_module_version": "1.2.0",
            "_model_module": "@jupyter-widgets/controls"
          }
        },
        "f00547c6b9304a46b18383721740d439": {
          "model_module": "@jupyter-widgets/base",
          "model_name": "LayoutModel",
          "model_module_version": "1.2.0",
          "state": {
            "_view_name": "LayoutView",
            "grid_template_rows": null,
            "right": null,
            "justify_content": null,
            "_view_module": "@jupyter-widgets/base",
            "overflow": null,
            "_model_module_version": "1.2.0",
            "_view_count": null,
            "flex_flow": null,
            "width": null,
            "min_width": null,
            "border": null,
            "align_items": null,
            "bottom": null,
            "_model_module": "@jupyter-widgets/base",
            "top": null,
            "grid_column": null,
            "overflow_y": null,
            "overflow_x": null,
            "grid_auto_flow": null,
            "grid_area": null,
            "grid_template_columns": null,
            "flex": null,
            "_model_name": "LayoutModel",
            "justify_items": null,
            "grid_row": null,
            "max_height": null,
            "align_content": null,
            "visibility": null,
            "align_self": null,
            "height": null,
            "min_height": null,
            "padding": null,
            "grid_auto_rows": null,
            "grid_gap": null,
            "max_width": null,
            "order": null,
            "_view_module_version": "1.2.0",
            "grid_template_areas": null,
            "object_position": null,
            "object_fit": null,
            "grid_auto_columns": null,
            "margin": null,
            "display": null,
            "left": null
          }
        },
        "58bfa2d4c6314e4688a210fde69895e8": {
          "model_module": "@jupyter-widgets/controls",
          "model_name": "ProgressStyleModel",
          "model_module_version": "1.5.0",
          "state": {
            "_view_name": "StyleView",
            "_model_name": "ProgressStyleModel",
            "description_width": "",
            "_view_module": "@jupyter-widgets/base",
            "_model_module_version": "1.5.0",
            "_view_count": null,
            "_view_module_version": "1.2.0",
            "bar_color": null,
            "_model_module": "@jupyter-widgets/controls"
          }
        },
        "1234b559143241e3b36100755d788497": {
          "model_module": "@jupyter-widgets/base",
          "model_name": "LayoutModel",
          "model_module_version": "1.2.0",
          "state": {
            "_view_name": "LayoutView",
            "grid_template_rows": null,
            "right": null,
            "justify_content": null,
            "_view_module": "@jupyter-widgets/base",
            "overflow": null,
            "_model_module_version": "1.2.0",
            "_view_count": null,
            "flex_flow": null,
            "width": null,
            "min_width": null,
            "border": null,
            "align_items": null,
            "bottom": null,
            "_model_module": "@jupyter-widgets/base",
            "top": null,
            "grid_column": null,
            "overflow_y": null,
            "overflow_x": null,
            "grid_auto_flow": null,
            "grid_area": null,
            "grid_template_columns": null,
            "flex": null,
            "_model_name": "LayoutModel",
            "justify_items": null,
            "grid_row": null,
            "max_height": null,
            "align_content": null,
            "visibility": null,
            "align_self": null,
            "height": null,
            "min_height": null,
            "padding": null,
            "grid_auto_rows": null,
            "grid_gap": null,
            "max_width": null,
            "order": null,
            "_view_module_version": "1.2.0",
            "grid_template_areas": null,
            "object_position": null,
            "object_fit": null,
            "grid_auto_columns": null,
            "margin": null,
            "display": null,
            "left": null
          }
        },
        "6700ff351a4745e7a25159a925c681d5": {
          "model_module": "@jupyter-widgets/controls",
          "model_name": "DescriptionStyleModel",
          "model_module_version": "1.5.0",
          "state": {
            "_view_name": "StyleView",
            "_model_name": "DescriptionStyleModel",
            "description_width": "",
            "_view_module": "@jupyter-widgets/base",
            "_model_module_version": "1.5.0",
            "_view_count": null,
            "_view_module_version": "1.2.0",
            "_model_module": "@jupyter-widgets/controls"
          }
        },
        "f79e798f8af84ecda8bf0bac54f5967e": {
          "model_module": "@jupyter-widgets/base",
          "model_name": "LayoutModel",
          "model_module_version": "1.2.0",
          "state": {
            "_view_name": "LayoutView",
            "grid_template_rows": null,
            "right": null,
            "justify_content": null,
            "_view_module": "@jupyter-widgets/base",
            "overflow": null,
            "_model_module_version": "1.2.0",
            "_view_count": null,
            "flex_flow": null,
            "width": null,
            "min_width": null,
            "border": null,
            "align_items": null,
            "bottom": null,
            "_model_module": "@jupyter-widgets/base",
            "top": null,
            "grid_column": null,
            "overflow_y": null,
            "overflow_x": null,
            "grid_auto_flow": null,
            "grid_area": null,
            "grid_template_columns": null,
            "flex": null,
            "_model_name": "LayoutModel",
            "justify_items": null,
            "grid_row": null,
            "max_height": null,
            "align_content": null,
            "visibility": null,
            "align_self": null,
            "height": null,
            "min_height": null,
            "padding": null,
            "grid_auto_rows": null,
            "grid_gap": null,
            "max_width": null,
            "order": null,
            "_view_module_version": "1.2.0",
            "grid_template_areas": null,
            "object_position": null,
            "object_fit": null,
            "grid_auto_columns": null,
            "margin": null,
            "display": null,
            "left": null
          }
        },
        "86af53951e7444acb1cd791f7783e2b2": {
          "model_module": "@jupyter-widgets/controls",
          "model_name": "HBoxModel",
          "model_module_version": "1.5.0",
          "state": {
            "_view_name": "HBoxView",
            "_dom_classes": [],
            "_model_name": "HBoxModel",
            "_view_module": "@jupyter-widgets/controls",
            "_model_module_version": "1.5.0",
            "_view_count": null,
            "_view_module_version": "1.5.0",
            "box_style": "",
            "layout": "IPY_MODEL_b7d1b3e262804d1087e91ab3b39b6322",
            "_model_module": "@jupyter-widgets/controls",
            "children": [
              "IPY_MODEL_d2508354060c4b2ea68e2a34394a7862",
              "IPY_MODEL_e16cc3f9dfc947a694bd93bc883d1856",
              "IPY_MODEL_93f79d2461124b0c88c6badc72a910fa"
            ]
          }
        },
        "b7d1b3e262804d1087e91ab3b39b6322": {
          "model_module": "@jupyter-widgets/base",
          "model_name": "LayoutModel",
          "model_module_version": "1.2.0",
          "state": {
            "_view_name": "LayoutView",
            "grid_template_rows": null,
            "right": null,
            "justify_content": null,
            "_view_module": "@jupyter-widgets/base",
            "overflow": null,
            "_model_module_version": "1.2.0",
            "_view_count": null,
            "flex_flow": null,
            "width": null,
            "min_width": null,
            "border": null,
            "align_items": null,
            "bottom": null,
            "_model_module": "@jupyter-widgets/base",
            "top": null,
            "grid_column": null,
            "overflow_y": null,
            "overflow_x": null,
            "grid_auto_flow": null,
            "grid_area": null,
            "grid_template_columns": null,
            "flex": null,
            "_model_name": "LayoutModel",
            "justify_items": null,
            "grid_row": null,
            "max_height": null,
            "align_content": null,
            "visibility": null,
            "align_self": null,
            "height": null,
            "min_height": null,
            "padding": null,
            "grid_auto_rows": null,
            "grid_gap": null,
            "max_width": null,
            "order": null,
            "_view_module_version": "1.2.0",
            "grid_template_areas": null,
            "object_position": null,
            "object_fit": null,
            "grid_auto_columns": null,
            "margin": null,
            "display": null,
            "left": null
          }
        },
        "d2508354060c4b2ea68e2a34394a7862": {
          "model_module": "@jupyter-widgets/controls",
          "model_name": "HTMLModel",
          "model_module_version": "1.5.0",
          "state": {
            "_view_name": "HTMLView",
            "style": "IPY_MODEL_77190f8834234a1eba67542e1c0ba81a",
            "_dom_classes": [],
            "description": "",
            "_model_name": "HTMLModel",
            "placeholder": "​",
            "_view_module": "@jupyter-widgets/controls",
            "_model_module_version": "1.5.0",
            "value": "100%",
            "_view_count": null,
            "_view_module_version": "1.5.0",
            "description_tooltip": null,
            "_model_module": "@jupyter-widgets/controls",
            "layout": "IPY_MODEL_c15b6a0a9172405a8237c4ed620cedca"
          }
        },
        "e16cc3f9dfc947a694bd93bc883d1856": {
          "model_module": "@jupyter-widgets/controls",
          "model_name": "FloatProgressModel",
          "model_module_version": "1.5.0",
          "state": {
            "_view_name": "ProgressView",
            "style": "IPY_MODEL_532e40c3cd6644d993e982557e9f4961",
            "_dom_classes": [],
            "description": "",
            "_model_name": "FloatProgressModel",
            "bar_style": "success",
            "max": 6000,
            "_view_module": "@jupyter-widgets/controls",
            "_model_module_version": "1.5.0",
            "value": 6000,
            "_view_count": null,
            "_view_module_version": "1.5.0",
            "orientation": "horizontal",
            "min": 0,
            "description_tooltip": null,
            "_model_module": "@jupyter-widgets/controls",
            "layout": "IPY_MODEL_5a1e709c63904992b4d20286db7e1a30"
          }
        },
        "93f79d2461124b0c88c6badc72a910fa": {
          "model_module": "@jupyter-widgets/controls",
          "model_name": "HTMLModel",
          "model_module_version": "1.5.0",
          "state": {
            "_view_name": "HTMLView",
            "style": "IPY_MODEL_1442ea11e2e3442fabf564d8bf7f44f6",
            "_dom_classes": [],
            "description": "",
            "_model_name": "HTMLModel",
            "placeholder": "​",
            "_view_module": "@jupyter-widgets/controls",
            "_model_module_version": "1.5.0",
            "value": " 6000/6000 [04:16&lt;00:00, 24.39epoch/s]",
            "_view_count": null,
            "_view_module_version": "1.5.0",
            "description_tooltip": null,
            "_model_module": "@jupyter-widgets/controls",
            "layout": "IPY_MODEL_2c87f5093bcb4fcfad8c1d3df2a15a6d"
          }
        },
        "77190f8834234a1eba67542e1c0ba81a": {
          "model_module": "@jupyter-widgets/controls",
          "model_name": "DescriptionStyleModel",
          "model_module_version": "1.5.0",
          "state": {
            "_view_name": "StyleView",
            "_model_name": "DescriptionStyleModel",
            "description_width": "",
            "_view_module": "@jupyter-widgets/base",
            "_model_module_version": "1.5.0",
            "_view_count": null,
            "_view_module_version": "1.2.0",
            "_model_module": "@jupyter-widgets/controls"
          }
        },
        "c15b6a0a9172405a8237c4ed620cedca": {
          "model_module": "@jupyter-widgets/base",
          "model_name": "LayoutModel",
          "model_module_version": "1.2.0",
          "state": {
            "_view_name": "LayoutView",
            "grid_template_rows": null,
            "right": null,
            "justify_content": null,
            "_view_module": "@jupyter-widgets/base",
            "overflow": null,
            "_model_module_version": "1.2.0",
            "_view_count": null,
            "flex_flow": null,
            "width": null,
            "min_width": null,
            "border": null,
            "align_items": null,
            "bottom": null,
            "_model_module": "@jupyter-widgets/base",
            "top": null,
            "grid_column": null,
            "overflow_y": null,
            "overflow_x": null,
            "grid_auto_flow": null,
            "grid_area": null,
            "grid_template_columns": null,
            "flex": null,
            "_model_name": "LayoutModel",
            "justify_items": null,
            "grid_row": null,
            "max_height": null,
            "align_content": null,
            "visibility": null,
            "align_self": null,
            "height": null,
            "min_height": null,
            "padding": null,
            "grid_auto_rows": null,
            "grid_gap": null,
            "max_width": null,
            "order": null,
            "_view_module_version": "1.2.0",
            "grid_template_areas": null,
            "object_position": null,
            "object_fit": null,
            "grid_auto_columns": null,
            "margin": null,
            "display": null,
            "left": null
          }
        },
        "532e40c3cd6644d993e982557e9f4961": {
          "model_module": "@jupyter-widgets/controls",
          "model_name": "ProgressStyleModel",
          "model_module_version": "1.5.0",
          "state": {
            "_view_name": "StyleView",
            "_model_name": "ProgressStyleModel",
            "description_width": "",
            "_view_module": "@jupyter-widgets/base",
            "_model_module_version": "1.5.0",
            "_view_count": null,
            "_view_module_version": "1.2.0",
            "bar_color": null,
            "_model_module": "@jupyter-widgets/controls"
          }
        },
        "5a1e709c63904992b4d20286db7e1a30": {
          "model_module": "@jupyter-widgets/base",
          "model_name": "LayoutModel",
          "model_module_version": "1.2.0",
          "state": {
            "_view_name": "LayoutView",
            "grid_template_rows": null,
            "right": null,
            "justify_content": null,
            "_view_module": "@jupyter-widgets/base",
            "overflow": null,
            "_model_module_version": "1.2.0",
            "_view_count": null,
            "flex_flow": null,
            "width": null,
            "min_width": null,
            "border": null,
            "align_items": null,
            "bottom": null,
            "_model_module": "@jupyter-widgets/base",
            "top": null,
            "grid_column": null,
            "overflow_y": null,
            "overflow_x": null,
            "grid_auto_flow": null,
            "grid_area": null,
            "grid_template_columns": null,
            "flex": null,
            "_model_name": "LayoutModel",
            "justify_items": null,
            "grid_row": null,
            "max_height": null,
            "align_content": null,
            "visibility": null,
            "align_self": null,
            "height": null,
            "min_height": null,
            "padding": null,
            "grid_auto_rows": null,
            "grid_gap": null,
            "max_width": null,
            "order": null,
            "_view_module_version": "1.2.0",
            "grid_template_areas": null,
            "object_position": null,
            "object_fit": null,
            "grid_auto_columns": null,
            "margin": null,
            "display": null,
            "left": null
          }
        },
        "1442ea11e2e3442fabf564d8bf7f44f6": {
          "model_module": "@jupyter-widgets/controls",
          "model_name": "DescriptionStyleModel",
          "model_module_version": "1.5.0",
          "state": {
            "_view_name": "StyleView",
            "_model_name": "DescriptionStyleModel",
            "description_width": "",
            "_view_module": "@jupyter-widgets/base",
            "_model_module_version": "1.5.0",
            "_view_count": null,
            "_view_module_version": "1.2.0",
            "_model_module": "@jupyter-widgets/controls"
          }
        },
        "2c87f5093bcb4fcfad8c1d3df2a15a6d": {
          "model_module": "@jupyter-widgets/base",
          "model_name": "LayoutModel",
          "model_module_version": "1.2.0",
          "state": {
            "_view_name": "LayoutView",
            "grid_template_rows": null,
            "right": null,
            "justify_content": null,
            "_view_module": "@jupyter-widgets/base",
            "overflow": null,
            "_model_module_version": "1.2.0",
            "_view_count": null,
            "flex_flow": null,
            "width": null,
            "min_width": null,
            "border": null,
            "align_items": null,
            "bottom": null,
            "_model_module": "@jupyter-widgets/base",
            "top": null,
            "grid_column": null,
            "overflow_y": null,
            "overflow_x": null,
            "grid_auto_flow": null,
            "grid_area": null,
            "grid_template_columns": null,
            "flex": null,
            "_model_name": "LayoutModel",
            "justify_items": null,
            "grid_row": null,
            "max_height": null,
            "align_content": null,
            "visibility": null,
            "align_self": null,
            "height": null,
            "min_height": null,
            "padding": null,
            "grid_auto_rows": null,
            "grid_gap": null,
            "max_width": null,
            "order": null,
            "_view_module_version": "1.2.0",
            "grid_template_areas": null,
            "object_position": null,
            "object_fit": null,
            "grid_auto_columns": null,
            "margin": null,
            "display": null,
            "left": null
          }
        },
        "5d147f25c6f0435ea28fee8de7df2b7e": {
          "model_module": "@jupyter-widgets/controls",
          "model_name": "HBoxModel",
          "model_module_version": "1.5.0",
          "state": {
            "_view_name": "HBoxView",
            "_dom_classes": [],
            "_model_name": "HBoxModel",
            "_view_module": "@jupyter-widgets/controls",
            "_model_module_version": "1.5.0",
            "_view_count": null,
            "_view_module_version": "1.5.0",
            "box_style": "",
            "layout": "IPY_MODEL_aa339cb87bd642e692288abe7f2ed768",
            "_model_module": "@jupyter-widgets/controls",
            "children": [
              "IPY_MODEL_001e77f9970e4015ba7589253c393067",
              "IPY_MODEL_1efa317a9a7f42018ea1f2dae7bb0901",
              "IPY_MODEL_0f577f25a5394d728f09972a24106769"
            ]
          }
        },
        "aa339cb87bd642e692288abe7f2ed768": {
          "model_module": "@jupyter-widgets/base",
          "model_name": "LayoutModel",
          "model_module_version": "1.2.0",
          "state": {
            "_view_name": "LayoutView",
            "grid_template_rows": null,
            "right": null,
            "justify_content": null,
            "_view_module": "@jupyter-widgets/base",
            "overflow": null,
            "_model_module_version": "1.2.0",
            "_view_count": null,
            "flex_flow": null,
            "width": null,
            "min_width": null,
            "border": null,
            "align_items": null,
            "bottom": null,
            "_model_module": "@jupyter-widgets/base",
            "top": null,
            "grid_column": null,
            "overflow_y": null,
            "overflow_x": null,
            "grid_auto_flow": null,
            "grid_area": null,
            "grid_template_columns": null,
            "flex": null,
            "_model_name": "LayoutModel",
            "justify_items": null,
            "grid_row": null,
            "max_height": null,
            "align_content": null,
            "visibility": null,
            "align_self": null,
            "height": null,
            "min_height": null,
            "padding": null,
            "grid_auto_rows": null,
            "grid_gap": null,
            "max_width": null,
            "order": null,
            "_view_module_version": "1.2.0",
            "grid_template_areas": null,
            "object_position": null,
            "object_fit": null,
            "grid_auto_columns": null,
            "margin": null,
            "display": null,
            "left": null
          }
        },
        "001e77f9970e4015ba7589253c393067": {
          "model_module": "@jupyter-widgets/controls",
          "model_name": "HTMLModel",
          "model_module_version": "1.5.0",
          "state": {
            "_view_name": "HTMLView",
            "style": "IPY_MODEL_63d5b3255a6d49678125fe37118b33ae",
            "_dom_classes": [],
            "description": "",
            "_model_name": "HTMLModel",
            "placeholder": "​",
            "_view_module": "@jupyter-widgets/controls",
            "_model_module_version": "1.5.0",
            "value": "100%",
            "_view_count": null,
            "_view_module_version": "1.5.0",
            "description_tooltip": null,
            "_model_module": "@jupyter-widgets/controls",
            "layout": "IPY_MODEL_698efd26024a4c58a9f1a06407338c81"
          }
        },
        "1efa317a9a7f42018ea1f2dae7bb0901": {
          "model_module": "@jupyter-widgets/controls",
          "model_name": "FloatProgressModel",
          "model_module_version": "1.5.0",
          "state": {
            "_view_name": "ProgressView",
            "style": "IPY_MODEL_9b707fe903f0476e8b4805b53dd90c8d",
            "_dom_classes": [],
            "description": "",
            "_model_name": "FloatProgressModel",
            "bar_style": "success",
            "max": 6000,
            "_view_module": "@jupyter-widgets/controls",
            "_model_module_version": "1.5.0",
            "value": 6000,
            "_view_count": null,
            "_view_module_version": "1.5.0",
            "orientation": "horizontal",
            "min": 0,
            "description_tooltip": null,
            "_model_module": "@jupyter-widgets/controls",
            "layout": "IPY_MODEL_212f2d70fe1d453198d22ffc5fd0af5a"
          }
        },
        "0f577f25a5394d728f09972a24106769": {
          "model_module": "@jupyter-widgets/controls",
          "model_name": "HTMLModel",
          "model_module_version": "1.5.0",
          "state": {
            "_view_name": "HTMLView",
            "style": "IPY_MODEL_739b99fa2c2e49738041ece5cea9e342",
            "_dom_classes": [],
            "description": "",
            "_model_name": "HTMLModel",
            "placeholder": "​",
            "_view_module": "@jupyter-widgets/controls",
            "_model_module_version": "1.5.0",
            "value": " 6000/6000 [01:40&lt;00:00, 58.10epoch/s]",
            "_view_count": null,
            "_view_module_version": "1.5.0",
            "description_tooltip": null,
            "_model_module": "@jupyter-widgets/controls",
            "layout": "IPY_MODEL_dc313518042c440a9cb5c940effa00bd"
          }
        },
        "63d5b3255a6d49678125fe37118b33ae": {
          "model_module": "@jupyter-widgets/controls",
          "model_name": "DescriptionStyleModel",
          "model_module_version": "1.5.0",
          "state": {
            "_view_name": "StyleView",
            "_model_name": "DescriptionStyleModel",
            "description_width": "",
            "_view_module": "@jupyter-widgets/base",
            "_model_module_version": "1.5.0",
            "_view_count": null,
            "_view_module_version": "1.2.0",
            "_model_module": "@jupyter-widgets/controls"
          }
        },
        "698efd26024a4c58a9f1a06407338c81": {
          "model_module": "@jupyter-widgets/base",
          "model_name": "LayoutModel",
          "model_module_version": "1.2.0",
          "state": {
            "_view_name": "LayoutView",
            "grid_template_rows": null,
            "right": null,
            "justify_content": null,
            "_view_module": "@jupyter-widgets/base",
            "overflow": null,
            "_model_module_version": "1.2.0",
            "_view_count": null,
            "flex_flow": null,
            "width": null,
            "min_width": null,
            "border": null,
            "align_items": null,
            "bottom": null,
            "_model_module": "@jupyter-widgets/base",
            "top": null,
            "grid_column": null,
            "overflow_y": null,
            "overflow_x": null,
            "grid_auto_flow": null,
            "grid_area": null,
            "grid_template_columns": null,
            "flex": null,
            "_model_name": "LayoutModel",
            "justify_items": null,
            "grid_row": null,
            "max_height": null,
            "align_content": null,
            "visibility": null,
            "align_self": null,
            "height": null,
            "min_height": null,
            "padding": null,
            "grid_auto_rows": null,
            "grid_gap": null,
            "max_width": null,
            "order": null,
            "_view_module_version": "1.2.0",
            "grid_template_areas": null,
            "object_position": null,
            "object_fit": null,
            "grid_auto_columns": null,
            "margin": null,
            "display": null,
            "left": null
          }
        },
        "9b707fe903f0476e8b4805b53dd90c8d": {
          "model_module": "@jupyter-widgets/controls",
          "model_name": "ProgressStyleModel",
          "model_module_version": "1.5.0",
          "state": {
            "_view_name": "StyleView",
            "_model_name": "ProgressStyleModel",
            "description_width": "",
            "_view_module": "@jupyter-widgets/base",
            "_model_module_version": "1.5.0",
            "_view_count": null,
            "_view_module_version": "1.2.0",
            "bar_color": null,
            "_model_module": "@jupyter-widgets/controls"
          }
        },
        "212f2d70fe1d453198d22ffc5fd0af5a": {
          "model_module": "@jupyter-widgets/base",
          "model_name": "LayoutModel",
          "model_module_version": "1.2.0",
          "state": {
            "_view_name": "LayoutView",
            "grid_template_rows": null,
            "right": null,
            "justify_content": null,
            "_view_module": "@jupyter-widgets/base",
            "overflow": null,
            "_model_module_version": "1.2.0",
            "_view_count": null,
            "flex_flow": null,
            "width": null,
            "min_width": null,
            "border": null,
            "align_items": null,
            "bottom": null,
            "_model_module": "@jupyter-widgets/base",
            "top": null,
            "grid_column": null,
            "overflow_y": null,
            "overflow_x": null,
            "grid_auto_flow": null,
            "grid_area": null,
            "grid_template_columns": null,
            "flex": null,
            "_model_name": "LayoutModel",
            "justify_items": null,
            "grid_row": null,
            "max_height": null,
            "align_content": null,
            "visibility": null,
            "align_self": null,
            "height": null,
            "min_height": null,
            "padding": null,
            "grid_auto_rows": null,
            "grid_gap": null,
            "max_width": null,
            "order": null,
            "_view_module_version": "1.2.0",
            "grid_template_areas": null,
            "object_position": null,
            "object_fit": null,
            "grid_auto_columns": null,
            "margin": null,
            "display": null,
            "left": null
          }
        },
        "739b99fa2c2e49738041ece5cea9e342": {
          "model_module": "@jupyter-widgets/controls",
          "model_name": "DescriptionStyleModel",
          "model_module_version": "1.5.0",
          "state": {
            "_view_name": "StyleView",
            "_model_name": "DescriptionStyleModel",
            "description_width": "",
            "_view_module": "@jupyter-widgets/base",
            "_model_module_version": "1.5.0",
            "_view_count": null,
            "_view_module_version": "1.2.0",
            "_model_module": "@jupyter-widgets/controls"
          }
        },
        "dc313518042c440a9cb5c940effa00bd": {
          "model_module": "@jupyter-widgets/base",
          "model_name": "LayoutModel",
          "model_module_version": "1.2.0",
          "state": {
            "_view_name": "LayoutView",
            "grid_template_rows": null,
            "right": null,
            "justify_content": null,
            "_view_module": "@jupyter-widgets/base",
            "overflow": null,
            "_model_module_version": "1.2.0",
            "_view_count": null,
            "flex_flow": null,
            "width": null,
            "min_width": null,
            "border": null,
            "align_items": null,
            "bottom": null,
            "_model_module": "@jupyter-widgets/base",
            "top": null,
            "grid_column": null,
            "overflow_y": null,
            "overflow_x": null,
            "grid_auto_flow": null,
            "grid_area": null,
            "grid_template_columns": null,
            "flex": null,
            "_model_name": "LayoutModel",
            "justify_items": null,
            "grid_row": null,
            "max_height": null,
            "align_content": null,
            "visibility": null,
            "align_self": null,
            "height": null,
            "min_height": null,
            "padding": null,
            "grid_auto_rows": null,
            "grid_gap": null,
            "max_width": null,
            "order": null,
            "_view_module_version": "1.2.0",
            "grid_template_areas": null,
            "object_position": null,
            "object_fit": null,
            "grid_auto_columns": null,
            "margin": null,
            "display": null,
            "left": null
          }
        }
      }
    }
  },
  "cells": [
    {
      "cell_type": "markdown",
      "metadata": {
        "id": "view-in-github",
        "colab_type": "text"
      },
      "source": [
        "<a href=\"https://colab.research.google.com/github/vineet891/FODS-Assignment/blob/PartA/Assignment1/FODS_A1_a.ipynb\" target=\"_parent\"><img src=\"https://colab.research.google.com/assets/colab-badge.svg\" alt=\"Open In Colab\"/></a>"
      ]
    },
    {
      "cell_type": "markdown",
      "metadata": {
        "id": "luSk7IFxq1CO"
      },
      "source": [
        "# Polynomial Regression"
      ]
    },
    {
      "cell_type": "code",
      "metadata": {
        "id": "qIj94aepeYuy"
      },
      "source": [
        "import numpy as np\n",
        "import pandas as pd\n",
        "import matplotlib.pyplot as plt\n",
        "import os\n",
        "import pickle\n",
        "\n",
        "import tqdm\n",
        "from tqdm import notebook"
      ],
      "execution_count": 100,
      "outputs": []
    },
    {
      "cell_type": "markdown",
      "metadata": {
        "id": "-so_WV53rDRW"
      },
      "source": [
        "**Loading Dataset**"
      ]
    },
    {
      "cell_type": "code",
      "metadata": {
        "colab": {
          "base_uri": "https://localhost:8080/"
        },
        "id": "1o_6oHSild-t",
        "outputId": "d4daa495-d415-4279-e2b7-539a0952b798"
      },
      "source": [
        "from google.colab import drive\n",
        "drive.mount(\"/content/gdrive\")\n"
      ],
      "execution_count": 2,
      "outputs": [
        {
          "output_type": "stream",
          "name": "stdout",
          "text": [
            "Mounted at /content/gdrive\n"
          ]
        }
      ]
    },
    {
      "cell_type": "code",
      "metadata": {
        "colab": {
          "base_uri": "https://localhost:8080/",
          "height": 415
        },
        "id": "qjWpZ13BniN-",
        "outputId": "8e341d3a-35ed-47fc-fee5-27769660955f"
      },
      "source": [
        "df = pd.read_csv('/content/gdrive/My Drive/FODSAssignment/FoDS-A1.csv')\n",
        "df"
      ],
      "execution_count": 3,
      "outputs": [
        {
          "output_type": "execute_result",
          "data": {
            "text/html": [
              "<div>\n",
              "<style scoped>\n",
              "    .dataframe tbody tr th:only-of-type {\n",
              "        vertical-align: middle;\n",
              "    }\n",
              "\n",
              "    .dataframe tbody tr th {\n",
              "        vertical-align: top;\n",
              "    }\n",
              "\n",
              "    .dataframe thead th {\n",
              "        text-align: right;\n",
              "    }\n",
              "</style>\n",
              "<table border=\"1\" class=\"dataframe\">\n",
              "  <thead>\n",
              "    <tr style=\"text-align: right;\">\n",
              "      <th></th>\n",
              "      <th>Strength</th>\n",
              "      <th>Temperature</th>\n",
              "      <th>Pressure</th>\n",
              "    </tr>\n",
              "  </thead>\n",
              "  <tbody>\n",
              "    <tr>\n",
              "      <th>0</th>\n",
              "      <td>30.7</td>\n",
              "      <td>240</td>\n",
              "      <td>16</td>\n",
              "    </tr>\n",
              "    <tr>\n",
              "      <th>1</th>\n",
              "      <td>24.7</td>\n",
              "      <td>250</td>\n",
              "      <td>18</td>\n",
              "    </tr>\n",
              "    <tr>\n",
              "      <th>2</th>\n",
              "      <td>30.6</td>\n",
              "      <td>260</td>\n",
              "      <td>16</td>\n",
              "    </tr>\n",
              "    <tr>\n",
              "      <th>3</th>\n",
              "      <td>32.8</td>\n",
              "      <td>240</td>\n",
              "      <td>10</td>\n",
              "    </tr>\n",
              "    <tr>\n",
              "      <th>4</th>\n",
              "      <td>20.7</td>\n",
              "      <td>240</td>\n",
              "      <td>20</td>\n",
              "    </tr>\n",
              "    <tr>\n",
              "      <th>...</th>\n",
              "      <td>...</td>\n",
              "      <td>...</td>\n",
              "      <td>...</td>\n",
              "    </tr>\n",
              "    <tr>\n",
              "      <th>1645</th>\n",
              "      <td>32.5</td>\n",
              "      <td>270</td>\n",
              "      <td>20</td>\n",
              "    </tr>\n",
              "    <tr>\n",
              "      <th>1646</th>\n",
              "      <td>38.6</td>\n",
              "      <td>290</td>\n",
              "      <td>14</td>\n",
              "    </tr>\n",
              "    <tr>\n",
              "      <th>1647</th>\n",
              "      <td>39.7</td>\n",
              "      <td>290</td>\n",
              "      <td>12</td>\n",
              "    </tr>\n",
              "    <tr>\n",
              "      <th>1648</th>\n",
              "      <td>14.6</td>\n",
              "      <td>200</td>\n",
              "      <td>20</td>\n",
              "    </tr>\n",
              "    <tr>\n",
              "      <th>1649</th>\n",
              "      <td>19.8</td>\n",
              "      <td>210</td>\n",
              "      <td>20</td>\n",
              "    </tr>\n",
              "  </tbody>\n",
              "</table>\n",
              "<p>1650 rows × 3 columns</p>\n",
              "</div>"
            ],
            "text/plain": [
              "      Strength  Temperature  Pressure\n",
              "0         30.7          240        16\n",
              "1         24.7          250        18\n",
              "2         30.6          260        16\n",
              "3         32.8          240        10\n",
              "4         20.7          240        20\n",
              "...        ...          ...       ...\n",
              "1645      32.5          270        20\n",
              "1646      38.6          290        14\n",
              "1647      39.7          290        12\n",
              "1648      14.6          200        20\n",
              "1649      19.8          210        20\n",
              "\n",
              "[1650 rows x 3 columns]"
            ]
          },
          "metadata": {},
          "execution_count": 3
        }
      ]
    },
    {
      "cell_type": "markdown",
      "metadata": {
        "id": "1pieENjwrNsN"
      },
      "source": [
        "Data Preprocessing"
      ]
    },
    {
      "cell_type": "code",
      "metadata": {
        "colab": {
          "base_uri": "https://localhost:8080/",
          "height": 415
        },
        "id": "k64s8wNppsgI",
        "outputId": "bec40e55-7eae-406d-cc73-98006539f8a7"
      },
      "source": [
        "#shuffle the dataset\n",
        "df = df.sample(frac=1).reset_index(drop=True)\n",
        "df"
      ],
      "execution_count": 4,
      "outputs": [
        {
          "output_type": "execute_result",
          "data": {
            "text/html": [
              "<div>\n",
              "<style scoped>\n",
              "    .dataframe tbody tr th:only-of-type {\n",
              "        vertical-align: middle;\n",
              "    }\n",
              "\n",
              "    .dataframe tbody tr th {\n",
              "        vertical-align: top;\n",
              "    }\n",
              "\n",
              "    .dataframe thead th {\n",
              "        text-align: right;\n",
              "    }\n",
              "</style>\n",
              "<table border=\"1\" class=\"dataframe\">\n",
              "  <thead>\n",
              "    <tr style=\"text-align: right;\">\n",
              "      <th></th>\n",
              "      <th>Strength</th>\n",
              "      <th>Temperature</th>\n",
              "      <th>Pressure</th>\n",
              "    </tr>\n",
              "  </thead>\n",
              "  <tbody>\n",
              "    <tr>\n",
              "      <th>0</th>\n",
              "      <td>43.8</td>\n",
              "      <td>290</td>\n",
              "      <td>12</td>\n",
              "    </tr>\n",
              "    <tr>\n",
              "      <th>1</th>\n",
              "      <td>31.2</td>\n",
              "      <td>270</td>\n",
              "      <td>16</td>\n",
              "    </tr>\n",
              "    <tr>\n",
              "      <th>2</th>\n",
              "      <td>34.7</td>\n",
              "      <td>300</td>\n",
              "      <td>18</td>\n",
              "    </tr>\n",
              "    <tr>\n",
              "      <th>3</th>\n",
              "      <td>31.7</td>\n",
              "      <td>280</td>\n",
              "      <td>18</td>\n",
              "    </tr>\n",
              "    <tr>\n",
              "      <th>4</th>\n",
              "      <td>40.2</td>\n",
              "      <td>290</td>\n",
              "      <td>12</td>\n",
              "    </tr>\n",
              "    <tr>\n",
              "      <th>...</th>\n",
              "      <td>...</td>\n",
              "      <td>...</td>\n",
              "      <td>...</td>\n",
              "    </tr>\n",
              "    <tr>\n",
              "      <th>1645</th>\n",
              "      <td>20.7</td>\n",
              "      <td>210</td>\n",
              "      <td>20</td>\n",
              "    </tr>\n",
              "    <tr>\n",
              "      <th>1646</th>\n",
              "      <td>25.2</td>\n",
              "      <td>260</td>\n",
              "      <td>20</td>\n",
              "    </tr>\n",
              "    <tr>\n",
              "      <th>1647</th>\n",
              "      <td>22.4</td>\n",
              "      <td>200</td>\n",
              "      <td>10</td>\n",
              "    </tr>\n",
              "    <tr>\n",
              "      <th>1648</th>\n",
              "      <td>22.7</td>\n",
              "      <td>220</td>\n",
              "      <td>14</td>\n",
              "    </tr>\n",
              "    <tr>\n",
              "      <th>1649</th>\n",
              "      <td>30.8</td>\n",
              "      <td>230</td>\n",
              "      <td>10</td>\n",
              "    </tr>\n",
              "  </tbody>\n",
              "</table>\n",
              "<p>1650 rows × 3 columns</p>\n",
              "</div>"
            ],
            "text/plain": [
              "      Strength  Temperature  Pressure\n",
              "0         43.8          290        12\n",
              "1         31.2          270        16\n",
              "2         34.7          300        18\n",
              "3         31.7          280        18\n",
              "4         40.2          290        12\n",
              "...        ...          ...       ...\n",
              "1645      20.7          210        20\n",
              "1646      25.2          260        20\n",
              "1647      22.4          200        10\n",
              "1648      22.7          220        14\n",
              "1649      30.8          230        10\n",
              "\n",
              "[1650 rows x 3 columns]"
            ]
          },
          "metadata": {},
          "execution_count": 4
        }
      ]
    },
    {
      "cell_type": "code",
      "metadata": {
        "colab": {
          "base_uri": "https://localhost:8080/",
          "height": 294
        },
        "id": "WVfR04VurwRM",
        "outputId": "e174e65a-9e66-4714-dc3e-497c5fe56864"
      },
      "source": [
        "df.describe()"
      ],
      "execution_count": 5,
      "outputs": [
        {
          "output_type": "execute_result",
          "data": {
            "text/html": [
              "<div>\n",
              "<style scoped>\n",
              "    .dataframe tbody tr th:only-of-type {\n",
              "        vertical-align: middle;\n",
              "    }\n",
              "\n",
              "    .dataframe tbody tr th {\n",
              "        vertical-align: top;\n",
              "    }\n",
              "\n",
              "    .dataframe thead th {\n",
              "        text-align: right;\n",
              "    }\n",
              "</style>\n",
              "<table border=\"1\" class=\"dataframe\">\n",
              "  <thead>\n",
              "    <tr style=\"text-align: right;\">\n",
              "      <th></th>\n",
              "      <th>Strength</th>\n",
              "      <th>Temperature</th>\n",
              "      <th>Pressure</th>\n",
              "    </tr>\n",
              "  </thead>\n",
              "  <tbody>\n",
              "    <tr>\n",
              "      <th>count</th>\n",
              "      <td>1650.000000</td>\n",
              "      <td>1650.000000</td>\n",
              "      <td>1650.000000</td>\n",
              "    </tr>\n",
              "    <tr>\n",
              "      <th>mean</th>\n",
              "      <td>30.000000</td>\n",
              "      <td>250.000000</td>\n",
              "      <td>15.000000</td>\n",
              "    </tr>\n",
              "    <tr>\n",
              "      <th>std</th>\n",
              "      <td>7.390248</td>\n",
              "      <td>31.632364</td>\n",
              "      <td>3.416686</td>\n",
              "    </tr>\n",
              "    <tr>\n",
              "      <th>min</th>\n",
              "      <td>12.400000</td>\n",
              "      <td>200.000000</td>\n",
              "      <td>10.000000</td>\n",
              "    </tr>\n",
              "    <tr>\n",
              "      <th>25%</th>\n",
              "      <td>24.400000</td>\n",
              "      <td>220.000000</td>\n",
              "      <td>12.000000</td>\n",
              "    </tr>\n",
              "    <tr>\n",
              "      <th>50%</th>\n",
              "      <td>30.200000</td>\n",
              "      <td>250.000000</td>\n",
              "      <td>15.000000</td>\n",
              "    </tr>\n",
              "    <tr>\n",
              "      <th>75%</th>\n",
              "      <td>35.700000</td>\n",
              "      <td>280.000000</td>\n",
              "      <td>18.000000</td>\n",
              "    </tr>\n",
              "    <tr>\n",
              "      <th>max</th>\n",
              "      <td>48.700000</td>\n",
              "      <td>300.000000</td>\n",
              "      <td>20.000000</td>\n",
              "    </tr>\n",
              "  </tbody>\n",
              "</table>\n",
              "</div>"
            ],
            "text/plain": [
              "          Strength  Temperature     Pressure\n",
              "count  1650.000000  1650.000000  1650.000000\n",
              "mean     30.000000   250.000000    15.000000\n",
              "std       7.390248    31.632364     3.416686\n",
              "min      12.400000   200.000000    10.000000\n",
              "25%      24.400000   220.000000    12.000000\n",
              "50%      30.200000   250.000000    15.000000\n",
              "75%      35.700000   280.000000    18.000000\n",
              "max      48.700000   300.000000    20.000000"
            ]
          },
          "metadata": {},
          "execution_count": 5
        }
      ]
    },
    {
      "cell_type": "code",
      "metadata": {
        "colab": {
          "base_uri": "https://localhost:8080/",
          "height": 415
        },
        "id": "AP1Cpj2ExrhL",
        "outputId": "60833dac-0419-4e40-af4f-0994e552fe41"
      },
      "source": [
        "# standardize the dataset\n",
        "df = (df-np.mean(df,axis=0))/np.std(df,axis=0)\n",
        "df"
      ],
      "execution_count": 6,
      "outputs": [
        {
          "output_type": "execute_result",
          "data": {
            "text/html": [
              "<div>\n",
              "<style scoped>\n",
              "    .dataframe tbody tr th:only-of-type {\n",
              "        vertical-align: middle;\n",
              "    }\n",
              "\n",
              "    .dataframe tbody tr th {\n",
              "        vertical-align: top;\n",
              "    }\n",
              "\n",
              "    .dataframe thead th {\n",
              "        text-align: right;\n",
              "    }\n",
              "</style>\n",
              "<table border=\"1\" class=\"dataframe\">\n",
              "  <thead>\n",
              "    <tr style=\"text-align: right;\">\n",
              "      <th></th>\n",
              "      <th>Strength</th>\n",
              "      <th>Temperature</th>\n",
              "      <th>Pressure</th>\n",
              "    </tr>\n",
              "  </thead>\n",
              "  <tbody>\n",
              "    <tr>\n",
              "      <th>0</th>\n",
              "      <td>1.867892</td>\n",
              "      <td>1.264911</td>\n",
              "      <td>-0.87831</td>\n",
              "    </tr>\n",
              "    <tr>\n",
              "      <th>1</th>\n",
              "      <td>0.162425</td>\n",
              "      <td>0.632456</td>\n",
              "      <td>0.29277</td>\n",
              "    </tr>\n",
              "    <tr>\n",
              "      <th>2</th>\n",
              "      <td>0.636166</td>\n",
              "      <td>1.581139</td>\n",
              "      <td>0.87831</td>\n",
              "    </tr>\n",
              "    <tr>\n",
              "      <th>3</th>\n",
              "      <td>0.230103</td>\n",
              "      <td>0.948683</td>\n",
              "      <td>0.87831</td>\n",
              "    </tr>\n",
              "    <tr>\n",
              "      <th>4</th>\n",
              "      <td>1.380616</td>\n",
              "      <td>1.264911</td>\n",
              "      <td>-0.87831</td>\n",
              "    </tr>\n",
              "    <tr>\n",
              "      <th>...</th>\n",
              "      <td>...</td>\n",
              "      <td>...</td>\n",
              "      <td>...</td>\n",
              "    </tr>\n",
              "    <tr>\n",
              "      <th>1645</th>\n",
              "      <td>-1.258797</td>\n",
              "      <td>-1.264911</td>\n",
              "      <td>1.46385</td>\n",
              "    </tr>\n",
              "    <tr>\n",
              "      <th>1646</th>\n",
              "      <td>-0.649701</td>\n",
              "      <td>0.316228</td>\n",
              "      <td>1.46385</td>\n",
              "    </tr>\n",
              "    <tr>\n",
              "      <th>1647</th>\n",
              "      <td>-1.028694</td>\n",
              "      <td>-1.581139</td>\n",
              "      <td>-1.46385</td>\n",
              "    </tr>\n",
              "    <tr>\n",
              "      <th>1648</th>\n",
              "      <td>-0.988088</td>\n",
              "      <td>-0.948683</td>\n",
              "      <td>-0.29277</td>\n",
              "    </tr>\n",
              "    <tr>\n",
              "      <th>1649</th>\n",
              "      <td>0.108284</td>\n",
              "      <td>-0.632456</td>\n",
              "      <td>-1.46385</td>\n",
              "    </tr>\n",
              "  </tbody>\n",
              "</table>\n",
              "<p>1650 rows × 3 columns</p>\n",
              "</div>"
            ],
            "text/plain": [
              "      Strength  Temperature  Pressure\n",
              "0     1.867892     1.264911  -0.87831\n",
              "1     0.162425     0.632456   0.29277\n",
              "2     0.636166     1.581139   0.87831\n",
              "3     0.230103     0.948683   0.87831\n",
              "4     1.380616     1.264911  -0.87831\n",
              "...        ...          ...       ...\n",
              "1645 -1.258797    -1.264911   1.46385\n",
              "1646 -0.649701     0.316228   1.46385\n",
              "1647 -1.028694    -1.581139  -1.46385\n",
              "1648 -0.988088    -0.948683  -0.29277\n",
              "1649  0.108284    -0.632456  -1.46385\n",
              "\n",
              "[1650 rows x 3 columns]"
            ]
          },
          "metadata": {},
          "execution_count": 6
        }
      ]
    },
    {
      "cell_type": "code",
      "metadata": {
        "colab": {
          "base_uri": "https://localhost:8080/"
        },
        "id": "4kGwOdGY2Ti5",
        "outputId": "36f32940-0100-4426-9170-58588dc8c709"
      },
      "source": [
        "# split the data set into 70:30 train:test \n",
        "split_index = int(0.7*len(df))\n",
        "\n",
        "data = df.values\n",
        "X = data[:,:-1]\n",
        "y = data[:,-1]\n",
        "\n",
        "train_X = X[:split_index]\n",
        "train_y = y[:split_index]\n",
        "\n",
        "test_X = X[split_index:]\n",
        "test_y = y[split_index:]\n"
      ],
      "execution_count": 7,
      "outputs": [
        {
          "output_type": "execute_result",
          "data": {
            "text/plain": [
              "array([[ 1.86789178,  1.26491106],\n",
              "       [ 0.16242537,  0.63245553],\n",
              "       [ 0.63616604,  1.58113883],\n",
              "       ...,\n",
              "       [ 1.05576492,  1.26491106],\n",
              "       [ 0.09474813,  0.9486833 ],\n",
              "       [ 0.23010261, -0.31622777]])"
            ]
          },
          "metadata": {},
          "execution_count": 7
        }
      ]
    },
    {
      "cell_type": "code",
      "metadata": {
        "id": "5ZtamTeV4apo"
      },
      "source": [
        "#transform the data to degree n\n",
        "def transform(X,degree):\n",
        "  X_trans = np.ones((len(X[:,1]), 1), dtype=int)\n",
        "  for i in range(degree+1):\n",
        "    for j in range(degree+1-i):\n",
        "      if i!=0 or j!=0:\n",
        "        t = np.array([np.multiply(np.power(X[:,0],i),np.power(X[:,-1],j))])\n",
        "        X_trans = np.concatenate((X_trans, t.T), axis=1)\n",
        "  return X_trans"
      ],
      "execution_count": 8,
      "outputs": []
    },
    {
      "cell_type": "markdown",
      "metadata": {
        "id": "hyiFiEvEP5bC"
      },
      "source": [
        "**MODEL**"
      ]
    },
    {
      "cell_type": "code",
      "metadata": {
        "id": "khedMzn1P4VV"
      },
      "source": [
        "class Regression():\n",
        "\n",
        "    def __init__(self, X_train, X_test, y_train, y_test):\n",
        "        self.w = None\n",
        "        self.X_train, self.X_test, self.y_train, self.y_test = X_train,X_test,y_train, y_test\n",
        "\n",
        "    def polynomial(self, X):    \n",
        "        return np.dot(X, self.w.T) \n",
        "    \n",
        "    def mean_squared_error(self, y_pred, y):\n",
        "        '''\n",
        "        Evaluates the Mean Squared error of the predicted values by comparing it with the true values.\n",
        "        Parameters:\n",
        "            y_pred: Predicted values.\n",
        "            y: True output values.\n",
        "        '''\n",
        "        return sum([(y1-y2)**2 for y1, y2 in zip(y, y_pred)])/len([(y1-y2)**2 for y1, y2 in zip(y, y_pred)])  \n",
        "\n",
        "    def grad_w(self, x, y):    \n",
        "        '''\n",
        "        Calculates the gradient of the weight values.\n",
        "        Parameters:\n",
        "            x: Training point\n",
        "            y:  \n",
        "        '''\n",
        "        y_pred = self.polynomial(x)  \n",
        "        return (y_pred - y)*x\n",
        "\n",
        "    def predict(self, X):\n",
        "        '''\n",
        "        Evaluates the sigmoid function value of the given data.\n",
        "        Parameters:\n",
        "            X: testing sample\n",
        "        '''\n",
        "        return self.polynomial(X)\n",
        "\n",
        "    def evaluate(self, x_test, y_test):\n",
        "        '''\n",
        "        Evaluates the model for a given testing data\n",
        "        Parameters:\n",
        "            x_test: testing samples\n",
        "            y_test: testing labels\n",
        "        '''\n",
        "        y_pred = self.predict(x_test)\n",
        "        test_loss = self.mean_squared_error(y_pred, y_test)[0]\n",
        "        print(\"Testing Error is \", test_loss)\n",
        "\n",
        "    def fit(self, X,Y, epochs = 1, learning='GD', learning_rate = 1, display_loss=True, printValues=True):\n",
        "\n",
        "        self.w = np.random.randn(1, X.shape[1])     \n",
        "\n",
        "        if display_loss:\n",
        "            loss={}\n",
        "            accuracy={}\n",
        "        \n",
        "        print(\"Training...\")\n",
        "\n",
        "        count=0\n",
        "        for i in tqdm.notebook.tqdm(range(epochs), total=epochs, unit=\"epoch\"):\n",
        "            dw = 0\n",
        "\n",
        "            if learning == 'GD':\n",
        "                for x, y in zip(X, Y):\n",
        "                    dw += self.grad_w(x,y)   \n",
        "                    self.w -= learning_rate * (dw/X.shape[0])   \n",
        "\n",
        "            if learning == 'SGD':\n",
        "                randInt = np.random.randint(0,X.shape[0])\n",
        "                x = X[randInt, :]\n",
        "                y = Y[randInt]\n",
        "                dw += self.grad_w(x,y)   \n",
        "                self.w -= learning_rate * dw   \n",
        "\n",
        "            if display_loss:\n",
        "                Y_pred = self.polynomial(X)   \n",
        "                loss[i] = self.mean_squared_error(Y_pred,Y)[0]  \n",
        "                if printValues and i%50==0:\n",
        "                    print('Epoch:', i,'Loss:', loss[i])\n",
        "\n",
        "        if display_loss and count%50==0:\n",
        "            plt.subplot(2, 1, 1)\n",
        "            plt.plot(list(loss.values()))\n",
        "            plt.xlabel('Epochs')\n",
        "            plt.ylabel('Mean Squared Error')\n",
        "            \n",
        "            plt.show()\n",
        "        count=count+1\n",
        "\n",
        "        print(\"Testing\")\n",
        "\n",
        "        self.evaluate(self.X_test,self.y_test)\n"
      ],
      "execution_count": 27,
      "outputs": []
    },
    {
      "cell_type": "markdown",
      "metadata": {
        "id": "SlCRMI8Hcbv3"
      },
      "source": [
        "**0 Degree Polynomial**"
      ]
    },
    {
      "cell_type": "code",
      "metadata": {
        "id": "8rJSf9SGcbv3"
      },
      "source": [
        "# transform the dataset to degree 0\n",
        "x_train_trans_0 = transform(train_X,0)\n",
        "x_test_trans_0 = transform(test_X,0)"
      ],
      "execution_count": 49,
      "outputs": []
    },
    {
      "cell_type": "code",
      "metadata": {
        "colab": {
          "base_uri": "https://localhost:8080/",
          "height": 310,
          "referenced_widgets": [
            "148feda91df748d887d0f099d5b651b8",
            "5503de340ef648c4ad70c859aae215a2",
            "01020522151b4dc09d82d09eaaaa264b",
            "a3ab2741cfbb4a989c01c6df6193c3de",
            "69008a38c6e74809a68e7cd1eb832102",
            "a39e1352149c477eab01133b89647ce6",
            "d4d9313d1bf045a9a4722b2732aee24c",
            "c7f0fb6a814c49e08ac628675ee4e471",
            "62fac8dcffe6456eb3dd4bd1ea779be5",
            "c6c26e8cf6a341fa9684c72c2976c1b5",
            "436989a2f3c54f2ca71f7e453ada87e8"
          ]
        },
        "id": "2Eql0Mpucbv3",
        "outputId": "1ede9a27-d25f-4538-f2e1-4e047f4fd4d2"
      },
      "source": [
        "# Train and Test the 0-degree regression model with Gradient Descent\n",
        "GD0 = Regression(x_train_trans_0, x_test_trans_0, train_y, test_y)\n",
        "GD0.fit(x_train_trans_0, train_y,epochs = 200, learning='GD', learning_rate=0.01)"
      ],
      "execution_count": 50,
      "outputs": [
        {
          "output_type": "stream",
          "name": "stdout",
          "text": [
            "Training...\n"
          ]
        },
        {
          "output_type": "display_data",
          "data": {
            "application/vnd.jupyter.widget-view+json": {
              "model_id": "148feda91df748d887d0f099d5b651b8",
              "version_minor": 0,
              "version_major": 2
            },
            "text/plain": [
              "  0%|          | 0/200 [00:00<?, ?epoch/s]"
            ]
          },
          "metadata": {}
        },
        {
          "output_type": "stream",
          "name": "stdout",
          "text": [
            "Epoch: 0 Loss: 1.5021189146339171\n",
            "Epoch: 50 Loss: 0.9950930052152606\n",
            "Epoch: 100 Loss: 0.9784077888972602\n",
            "Epoch: 150 Loss: 0.9779557310007672\n"
          ]
        },
        {
          "output_type": "display_data",
          "data": {
            "image/png": "[encoded data removed]",
            "text/plain": [
              "<Figure size 432x288 with 1 Axes>"
            ]
          },
          "metadata": {
            "needs_background": "light"
          }
        },
        {
          "output_type": "stream",
          "name": "stdout",
          "text": [
            "Testing\n",
            "Testing Error is  1.0519845204836467\n"
          ]
        }
      ]
    },
    {
      "cell_type": "code",
      "metadata": {
        "id": "Y5d2qe3ZBOO4"
      },
      "source": [
        "\"\"\"file = open('/content/gdrive/My Drive/FODSAssignment/GD0.pickle', 'wb')\n",
        "pickle.dump(GD0, file)\n",
        "file.close()\"\"\""
      ],
      "execution_count": 101,
      "outputs": []
    },
    {
      "cell_type": "code",
      "metadata": {
        "id": "KQRfpDDLEhr5"
      },
      "source": [
        "\"\"\"file = open('/content/gdrive/My Drive/FODSAssignment/GD0.pickle', 'rb')      #use this code\n",
        "temp = pickle.load(file)\n",
        "file.close()\"\"\""
      ],
      "execution_count": 102,
      "outputs": []
    },
    {
      "cell_type": "code",
      "metadata": {
        "colab": {
          "base_uri": "https://localhost:8080/"
        },
        "id": "r8vIeR5tE20k",
        "outputId": "7922d8fc-c69d-4c42-ef13-835ddfb6b199"
      },
      "source": [
        "# temp.evaluate(x_test_trans_0, test_y)"
      ],
      "execution_count": 103,
      "outputs": [
        {
          "output_type": "stream",
          "name": "stdout",
          "text": [
            "Testing Error is  1.0519845204836467\n"
          ]
        }
      ]
    },
    {
      "cell_type": "code",
      "metadata": {
        "colab": {
          "base_uri": "https://localhost:8080/",
          "height": 577,
          "referenced_widgets": [
            "4a032afbe829482a9fbce06e3ace4779",
            "54516662e7484dba81475c4bca75942d",
            "f63e957156b148b399a376563c81d61d",
            "c96330d706f64e95b8b940d29bad5388",
            "6ae7d69e1660482abd871822d0424437",
            "e3cb47ac1b0d4b56b28dbc222a605f60",
            "127a5d0480b24d9f98f5744abd32afd6",
            "cf53c5133aa14cada34017f23a4ebd31",
            "0ec3512c423644ba9ba9a937e5f608b9",
            "508eb3f1331a442fbcc063a0c8a8df0c",
            "67c140345c444c7dba970702cfd40e0c"
          ]
        },
        "id": "Cl47C6AUi8uM",
        "outputId": "a64152df-a6aa-4c14-8bc0-b492bac92b81"
      },
      "source": [
        "# Train and Test the 0-degree regression model with Stochastic Gradient Descent\n",
        "SGD0 = Regression(x_train_trans_0, x_test_trans_0, train_y, test_y)\n",
        "SGD0.fit(x_train_trans_0, train_y,epochs = 1000, learning='SGD', learning_rate=0.01)"
      ],
      "execution_count": 51,
      "outputs": [
        {
          "output_type": "stream",
          "name": "stdout",
          "text": [
            "Training...\n"
          ]
        },
        {
          "output_type": "display_data",
          "data": {
            "application/vnd.jupyter.widget-view+json": {
              "model_id": "4a032afbe829482a9fbce06e3ace4779",
              "version_minor": 0,
              "version_major": 2
            },
            "text/plain": [
              "  0%|          | 0/1000 [00:00<?, ?epoch/s]"
            ]
          },
          "metadata": {}
        },
        {
          "output_type": "stream",
          "name": "stdout",
          "text": [
            "Epoch: 0 Loss: 4.3776116370775116\n",
            "Epoch: 50 Loss: 2.2709813989361365\n",
            "Epoch: 100 Loss: 1.3502645308879544\n",
            "Epoch: 150 Loss: 1.1507002769827306\n",
            "Epoch: 200 Loss: 1.0093672405079206\n",
            "Epoch: 250 Loss: 0.984348016744303\n",
            "Epoch: 300 Loss: 0.982216274459865\n",
            "Epoch: 350 Loss: 0.983682471224987\n",
            "Epoch: 400 Loss: 0.9779636885695441\n",
            "Epoch: 450 Loss: 0.9807910392721535\n",
            "Epoch: 500 Loss: 0.9794939231812685\n",
            "Epoch: 550 Loss: 0.9841378277619376\n",
            "Epoch: 600 Loss: 0.9864295900169082\n",
            "Epoch: 650 Loss: 0.9859501663069614\n",
            "Epoch: 700 Loss: 0.9800908305090767\n",
            "Epoch: 750 Loss: 0.9840838579484353\n",
            "Epoch: 800 Loss: 0.9903941225613353\n",
            "Epoch: 850 Loss: 0.9833668456826588\n",
            "Epoch: 900 Loss: 0.984905335899361\n",
            "Epoch: 950 Loss: 0.983057276995097\n"
          ]
        },
        {
          "output_type": "display_data",
          "data": {
            "image/png": "[encoded data removed]",
            "text/plain": [
              "<Figure size 432x288 with 1 Axes>"
            ]
          },
          "metadata": {
            "needs_background": "light"
          }
        },
        {
          "output_type": "stream",
          "name": "stdout",
          "text": [
            "Testing\n",
            "Testing Error is  1.053706772612511\n"
          ]
        }
      ]
    },
    {
      "cell_type": "code",
      "metadata": {
        "id": "dq1acqa2FYe5"
      },
      "source": [
        "# file = open('/content/gdrive/My Drive/FODSAssignment/SGD0.pickle', 'wb')\n",
        "# pickle.dump(SGD0, file)\n",
        "# file.close()"
      ],
      "execution_count": 104,
      "outputs": []
    },
    {
      "cell_type": "markdown",
      "metadata": {
        "id": "AXo2on6onuTd"
      },
      "source": [
        "**1 Degree Polynomial**"
      ]
    },
    {
      "cell_type": "code",
      "metadata": {
        "id": "pWd6WaL9nuTf"
      },
      "source": [
        "x_train_trans_1 = transform(train_X,1)\n",
        "x_test_trans_1 = transform(test_X,1)"
      ],
      "execution_count": 37,
      "outputs": []
    },
    {
      "cell_type": "code",
      "metadata": {
        "colab": {
          "base_uri": "https://localhost:8080/",
          "height": 410,
          "referenced_widgets": [
            "baa50b556bb64689b82374fbdc760381",
            "3173cead0a6143fd94f540fbdc6f58a4",
            "fc095e5ac7514e9e844e5ff6ac30c7dc",
            "9aaa935ea28a403f927a377162f452d8",
            "927c1e4e672a4a10a09014375d1e31de",
            "00d2491df4474b3fa15917732d6045c4",
            "928354761b3a48259da3820eb179913c",
            "ff1278de7a2342f798423cb03262dd31",
            "b57729799bb8451a80c722f2b1925888",
            "98a368c86e404d1c9b580bd6d45e42d9",
            "3261154907bb4af38bd408243346ee03"
          ]
        },
        "id": "uzk542AAnuTf",
        "outputId": "ea48ce0a-57a0-48e0-bc6b-1a6df734ba4a"
      },
      "source": [
        "GD1 = Regression(x_train_trans_1, x_test_trans_1, train_y, test_y)\n",
        "GD1.fit(x_train_trans_1, train_y,epochs = 500, learning='GD', learning_rate=0.01)"
      ],
      "execution_count": 39,
      "outputs": [
        {
          "output_type": "stream",
          "name": "stdout",
          "text": [
            "Training...\n"
          ]
        },
        {
          "output_type": "display_data",
          "data": {
            "application/vnd.jupyter.widget-view+json": {
              "model_id": "baa50b556bb64689b82374fbdc760381",
              "version_minor": 0,
              "version_major": 2
            },
            "text/plain": [
              "  0%|          | 0/500 [00:00<?, ?epoch/s]"
            ]
          },
          "metadata": {}
        },
        {
          "output_type": "stream",
          "name": "stdout",
          "text": [
            "Epoch: 0 Loss: 1.252748137330445\n",
            "Epoch: 50 Loss: 0.24270729448673964\n",
            "Epoch: 100 Loss: 0.20014098936504052\n",
            "Epoch: 150 Loss: 0.19851822626093277\n",
            "Epoch: 200 Loss: 0.19852739017922655\n",
            "Epoch: 250 Loss: 0.1985465734225003\n",
            "Epoch: 300 Loss: 0.19855156541217886\n",
            "Epoch: 350 Loss: 0.19855269103288486\n",
            "Epoch: 400 Loss: 0.19855293796350737\n",
            "Epoch: 450 Loss: 0.19855299181835812\n"
          ]
        },
        {
          "output_type": "display_data",
          "data": {
            "image/png": "[encoded data removed]",
            "text/plain": [
              "<Figure size 432x288 with 1 Axes>"
            ]
          },
          "metadata": {
            "needs_background": "light"
          }
        },
        {
          "output_type": "stream",
          "name": "stdout",
          "text": [
            "Testing\n",
            "Testing Error is  0.20851111611268489\n"
          ]
        }
      ]
    },
    {
      "cell_type": "code",
      "metadata": {
        "id": "cf8l9F9SFh69"
      },
      "source": [
        "# file = open('/content/gdrive/My Drive/FODSAssignment/GD1.pickle', 'wb')\n",
        "# pickle.dump(GD1, file)\n",
        "# file.close()"
      ],
      "execution_count": 105,
      "outputs": []
    },
    {
      "cell_type": "code",
      "metadata": {
        "colab": {
          "base_uri": "https://localhost:8080/",
          "height": 745,
          "referenced_widgets": [
            "9a5b4dc193bd46c39a910f7c4a6e06e1",
            "5af1de6c40c54f3087d3ef122d4885c9",
            "4d809db00770495c940c838a04f4b4ce",
            "6f9290c0748c4947869adaa9cc082f87",
            "a4a935b8bb1d43849292b3489ce0e5a0",
            "8c13c67de7f1434d833886a874bff278",
            "45b69f08873241d19facad42967b4eb1",
            "02b4e16289e4453abbe3217ce152f64a",
            "5497844d102d462f92f96fa312bfc6d3",
            "7dedffaadb0843c3b91be6279952daae",
            "57d96edd1bb641ea841d793a778a4e7c"
          ]
        },
        "id": "99_5vYR_nuTf",
        "outputId": "3f3f22ec-5067-4dd5-e6ec-088fafcdbd74"
      },
      "source": [
        "SGD1 = Regression(x_train_trans_1, x_test_trans_1, train_y, test_y)\n",
        "SGD1.fit(x_train_trans_1, train_y,epochs = 1500, learning='SGD', learning_rate=0.01)"
      ],
      "execution_count": 47,
      "outputs": [
        {
          "output_type": "stream",
          "name": "stdout",
          "text": [
            "Training...\n"
          ]
        },
        {
          "output_type": "display_data",
          "data": {
            "application/vnd.jupyter.widget-view+json": {
              "model_id": "9a5b4dc193bd46c39a910f7c4a6e06e1",
              "version_minor": 0,
              "version_major": 2
            },
            "text/plain": [
              "  0%|          | 0/1500 [00:00<?, ?epoch/s]"
            ]
          },
          "metadata": {}
        },
        {
          "output_type": "stream",
          "name": "stdout",
          "text": [
            "Epoch: 0 Loss: 6.68044685254399\n",
            "Epoch: 50 Loss: 3.1928243718200093\n",
            "Epoch: 100 Loss: 1.906651452273841\n",
            "Epoch: 150 Loss: 1.3250209795786323\n",
            "Epoch: 200 Loss: 1.067310434645728\n",
            "Epoch: 250 Loss: 0.9671162847866018\n",
            "Epoch: 300 Loss: 0.8719829291550042\n",
            "Epoch: 350 Loss: 0.7337824828139363\n",
            "Epoch: 400 Loss: 0.629897745022932\n",
            "Epoch: 450 Loss: 0.57036209656886\n",
            "Epoch: 500 Loss: 0.5256355414905443\n",
            "Epoch: 550 Loss: 0.47631793778154474\n",
            "Epoch: 600 Loss: 0.4379089358698669\n",
            "Epoch: 650 Loss: 0.42056835670835924\n",
            "Epoch: 700 Loss: 0.37027991427594587\n",
            "Epoch: 750 Loss: 0.3564577720263416\n",
            "Epoch: 800 Loss: 0.333194272460368\n",
            "Epoch: 850 Loss: 0.32509318246073454\n",
            "Epoch: 900 Loss: 0.29751696110350534\n",
            "Epoch: 950 Loss: 0.28302196168677407\n",
            "Epoch: 1000 Loss: 0.26965718437793135\n",
            "Epoch: 1050 Loss: 0.25943371065420945\n",
            "Epoch: 1100 Loss: 0.25097707445606354\n",
            "Epoch: 1150 Loss: 0.24448759284372784\n",
            "Epoch: 1200 Loss: 0.24063595346816954\n",
            "Epoch: 1250 Loss: 0.23617648542753078\n",
            "Epoch: 1300 Loss: 0.22823692432163872\n",
            "Epoch: 1350 Loss: 0.22486208305171587\n",
            "Epoch: 1400 Loss: 0.22108016412646447\n",
            "Epoch: 1450 Loss: 0.21695982446037781\n"
          ]
        },
        {
          "output_type": "display_data",
          "data": {
            "image/png": "[encoded data removed]",
            "text/plain": [
              "<Figure size 432x288 with 1 Axes>"
            ]
          },
          "metadata": {
            "needs_background": "light"
          }
        },
        {
          "output_type": "stream",
          "name": "stdout",
          "text": [
            "Testing\n",
            "Testing Error is  0.23038992092019328\n"
          ]
        }
      ]
    },
    {
      "cell_type": "code",
      "metadata": {
        "id": "g-gP-Fz8FowI"
      },
      "source": [
        "# file = open('/content/gdrive/My Drive/FODSAssignment/SGD1.pickle', 'wb')\n",
        "# pickle.dump(SGD1, file)\n",
        "# file.close()"
      ],
      "execution_count": 106,
      "outputs": []
    },
    {
      "cell_type": "markdown",
      "metadata": {
        "id": "XcHbHcIQV_Uq"
      },
      "source": [
        "**2 Degree Polynomial**"
      ]
    },
    {
      "cell_type": "code",
      "metadata": {
        "id": "S4Y-lKjUV9PL"
      },
      "source": [
        "x_train_trans_2 = transform(train_X,2)\n",
        "x_test_trans_2 = transform(test_X,2)"
      ],
      "execution_count": 31,
      "outputs": []
    },
    {
      "cell_type": "code",
      "metadata": {
        "colab": {
          "base_uri": "https://localhost:8080/",
          "height": 410,
          "referenced_widgets": [
            "c638cd60701f43d69bd2f1994acfac9a",
            "8bfdaf1a79a444d6b01e49afa0151523",
            "e521d96932894282bd303f4d34e20d7e",
            "9e9da60900cb4d7eaa7ecedf2057adfb",
            "19767b40bfa6404c91bdd6f07b524f0c",
            "78b50b0af2824b15b55e37d5cc5e4e29",
            "ea5f72e51ef54555b7c8b567631f2551",
            "5ac6597271294682bf0abc314492c514",
            "7bd6b6fe5e2947209db2839f0ff41313",
            "a35e24956022462eb736a918691c1daa",
            "f5860aa22cf0458c9ca59687d0d53bcb"
          ]
        },
        "id": "csIT2xV7WyQD",
        "outputId": "22fb0d4d-a983-4754-cb3d-dc609a58dfdf"
      },
      "source": [
        "GD2 = Regression(x_train_trans_2, x_test_trans_2, train_y, test_y)\n",
        "GD2.fit(x_train_trans_2, train_y,epochs = 500, learning='GD', learning_rate=0.001)"
      ],
      "execution_count": 68,
      "outputs": [
        {
          "output_type": "stream",
          "name": "stdout",
          "text": [
            "Training...\n"
          ]
        },
        {
          "output_type": "display_data",
          "data": {
            "application/vnd.jupyter.widget-view+json": {
              "model_id": "c638cd60701f43d69bd2f1994acfac9a",
              "version_minor": 0,
              "version_major": 2
            },
            "text/plain": [
              "  0%|          | 0/500 [00:00<?, ?epoch/s]"
            ]
          },
          "metadata": {}
        },
        {
          "output_type": "stream",
          "name": "stdout",
          "text": [
            "Epoch: 0 Loss: 11.444081659990067\n",
            "Epoch: 50 Loss: 0.20478488774322232\n",
            "Epoch: 100 Loss: 0.19818331039584428\n",
            "Epoch: 150 Loss: 0.19598545914472992\n",
            "Epoch: 200 Loss: 0.19525258794522993\n",
            "Epoch: 250 Loss: 0.19503498255031654\n",
            "Epoch: 300 Loss: 0.19498890532316382\n",
            "Epoch: 350 Loss: 0.19499358317259682\n",
            "Epoch: 400 Loss: 0.19500887152451302\n",
            "Epoch: 450 Loss: 0.1950229333702624\n"
          ]
        },
        {
          "output_type": "display_data",
          "data": {
            "image/png": "[encoded data removed]",
            "text/plain": [
              "<Figure size 432x288 with 1 Axes>"
            ]
          },
          "metadata": {
            "needs_background": "light"
          }
        },
        {
          "output_type": "stream",
          "name": "stdout",
          "text": [
            "Testing\n",
            "Testing Error is  0.20628454184055797\n"
          ]
        }
      ]
    },
    {
      "cell_type": "code",
      "metadata": {
        "id": "U8hXyRPiFvAQ"
      },
      "source": [
        "# file = open('/content/gdrive/My Drive/FODSAssignment/GD2.pickle', 'wb')\n",
        "# pickle.dump(GD2, file)\n",
        "# file.close()"
      ],
      "execution_count": 107,
      "outputs": []
    },
    {
      "cell_type": "code",
      "metadata": {
        "colab": {
          "base_uri": "https://localhost:8080/",
          "height": 745,
          "referenced_widgets": [
            "76fb327efb7c4ff882473cefaf324352",
            "4b34b1b9940c44dc8ea1eefb2daf4721",
            "a76eb38d49ab4ce780e5a8c30fcfc059",
            "362ddeef0a8241c5afbe60d0ef9939a0",
            "a00f8460135e46ed87cfe0fccfd7c976",
            "6b835b8dc0af427d99a15b0b4d70823f",
            "ef9f2fb654b744b495db59d22cf42fdb",
            "bc5688e62676462d9b944f5e320e3024",
            "c00735a3c78d4807b3288a95e9f8bf1e",
            "fc04d44ce1ae40a7ba422032065c7086",
            "ad73b64055e34aa389b75455b128ce2b"
          ]
        },
        "id": "MliWirpaY6VI",
        "outputId": "1fd36e42-5847-4ad2-9e22-14ed1267107e"
      },
      "source": [
        "SGD2 = Regression(x_train_trans_2, x_test_trans_2, train_y, test_y)\n",
        "SGD2.fit(x_train_trans_2, train_y,epochs = 1500, learning='SGD', learning_rate=0.01)"
      ],
      "execution_count": 44,
      "outputs": [
        {
          "output_type": "stream",
          "name": "stdout",
          "text": [
            "Training...\n"
          ]
        },
        {
          "output_type": "display_data",
          "data": {
            "application/vnd.jupyter.widget-view+json": {
              "model_id": "76fb327efb7c4ff882473cefaf324352",
              "version_minor": 0,
              "version_major": 2
            },
            "text/plain": [
              "  0%|          | 0/1500 [00:00<?, ?epoch/s]"
            ]
          },
          "metadata": {}
        },
        {
          "output_type": "stream",
          "name": "stdout",
          "text": [
            "Epoch: 0 Loss: 8.303424510412103\n",
            "Epoch: 50 Loss: 0.6815724996482869\n",
            "Epoch: 100 Loss: 0.6082629472305087\n",
            "Epoch: 150 Loss: 0.5489232192254534\n",
            "Epoch: 200 Loss: 0.48875848670051397\n",
            "Epoch: 250 Loss: 0.48650843138294264\n",
            "Epoch: 300 Loss: 0.413218138547025\n",
            "Epoch: 350 Loss: 0.3862917491777189\n",
            "Epoch: 400 Loss: 0.3536133020742487\n",
            "Epoch: 450 Loss: 0.32439076630551644\n",
            "Epoch: 500 Loss: 0.31700648593924985\n",
            "Epoch: 550 Loss: 0.3081810652647152\n",
            "Epoch: 600 Loss: 0.2760652451553324\n",
            "Epoch: 650 Loss: 0.298497574326398\n",
            "Epoch: 700 Loss: 0.27140700767429937\n",
            "Epoch: 750 Loss: 0.27796453554334893\n",
            "Epoch: 800 Loss: 0.23809921809180945\n",
            "Epoch: 850 Loss: 0.23296243092199306\n",
            "Epoch: 900 Loss: 0.2419760309117905\n",
            "Epoch: 950 Loss: 0.2260062335408222\n",
            "Epoch: 1000 Loss: 0.23649410404083418\n",
            "Epoch: 1050 Loss: 0.2303013570203943\n",
            "Epoch: 1100 Loss: 0.2275252041379468\n",
            "Epoch: 1150 Loss: 0.21882228098391834\n",
            "Epoch: 1200 Loss: 0.20893788144252196\n",
            "Epoch: 1250 Loss: 0.22792188645373787\n",
            "Epoch: 1300 Loss: 0.2137306098542141\n",
            "Epoch: 1350 Loss: 0.2086063776610008\n",
            "Epoch: 1400 Loss: 0.21025795784268217\n",
            "Epoch: 1450 Loss: 0.20391871153237523\n"
          ]
        },
        {
          "output_type": "display_data",
          "data": {
            "image/png": "[encoded data removed]",
            "text/plain": [
              "<Figure size 432x288 with 1 Axes>"
            ]
          },
          "metadata": {
            "needs_background": "light"
          }
        },
        {
          "output_type": "stream",
          "name": "stdout",
          "text": [
            "Testing\n",
            "Testing Error is  0.22000291226802682\n"
          ]
        }
      ]
    },
    {
      "cell_type": "code",
      "metadata": {
        "id": "hrkLiB7PFzTC"
      },
      "source": [
        "# file = open('/content/gdrive/My Drive/FODSAssignment/SGD2.pickle', 'wb')\n",
        "# pickle.dump(SGD2, file)\n",
        "# file.close()"
      ],
      "execution_count": 108,
      "outputs": []
    },
    {
      "cell_type": "markdown",
      "metadata": {
        "id": "hS4x8k23urjj"
      },
      "source": [
        "**3 Degree Polynomial**"
      ]
    },
    {
      "cell_type": "code",
      "metadata": {
        "id": "WD2lOQMSurjj"
      },
      "source": [
        "x_train_trans_3 = transform(train_X,3)\n",
        "x_test_trans_3 = transform(test_X,3)\n"
      ],
      "execution_count": 60,
      "outputs": []
    },
    {
      "cell_type": "code",
      "metadata": {
        "colab": {
          "base_uri": "https://localhost:8080/",
          "height": 410,
          "referenced_widgets": [
            "8a50b28d37324fe8bc7d3e455671a040",
            "0b5d3ea4f2e94ce1ae1de869d7b44d6d",
            "183546b51b364296b8b293d83066f8d7",
            "175dd69dc025474c8424420ce17806bc",
            "2aa80f308e914215b2435a34ddbf1c25",
            "763c660fd6954c2da014aebbbd54534b",
            "94018ecf635f41b4b66a28c5cecb8f70",
            "63a4d61fc94b435e9f392cadaa3c6bc9",
            "9e851365e8f54158b108fb0850cd0fab",
            "bebcb5553af142eeb530447410c3a2ac",
            "002a7c437cc14d5f8b0370b0e3b515cc"
          ]
        },
        "id": "JbAVicHzurjj",
        "outputId": "42ff5c29-130d-4b1c-a4af-58ff2286a1a6"
      },
      "source": [
        "GD3 = Regression(x_train_trans_3, x_test_trans_3, train_y, test_y)\n",
        "GD3.fit(x_train_trans_3, train_y,epochs = 500, learning='GD', learning_rate=0.001)"
      ],
      "execution_count": 65,
      "outputs": [
        {
          "output_type": "stream",
          "name": "stdout",
          "text": [
            "Training...\n"
          ]
        },
        {
          "output_type": "display_data",
          "data": {
            "application/vnd.jupyter.widget-view+json": {
              "model_id": "8a50b28d37324fe8bc7d3e455671a040",
              "version_minor": 0,
              "version_major": 2
            },
            "text/plain": [
              "  0%|          | 0/500 [00:00<?, ?epoch/s]"
            ]
          },
          "metadata": {}
        },
        {
          "output_type": "stream",
          "name": "stdout",
          "text": [
            "Epoch: 0 Loss: 1.5744551029760947\n",
            "Epoch: 50 Loss: 0.23987406904963837\n",
            "Epoch: 100 Loss: 0.20346105838812129\n",
            "Epoch: 150 Loss: 0.19186619926558277\n",
            "Epoch: 200 Loss: 0.1878145931754138\n",
            "Epoch: 250 Loss: 0.1863827296574105\n",
            "Epoch: 300 Loss: 0.18586071997021714\n",
            "Epoch: 350 Loss: 0.18564523754628962\n",
            "Epoch: 400 Loss: 0.18552787914819982\n",
            "Epoch: 450 Loss: 0.18544012196574017\n"
          ]
        },
        {
          "output_type": "display_data",
          "data": {
            "image/png": "[encoded data removed]",
            "text/plain": [
              "<Figure size 432x288 with 1 Axes>"
            ]
          },
          "metadata": {
            "needs_background": "light"
          }
        },
        {
          "output_type": "stream",
          "name": "stdout",
          "text": [
            "Testing\n",
            "Testing Error is  0.19576571356460148\n"
          ]
        }
      ]
    },
    {
      "cell_type": "code",
      "metadata": {
        "id": "7ZrZ2EmYF4BA"
      },
      "source": [
        "# file = open('/content/gdrive/My Drive/FODSAssignment/GD3.pickle', 'wb')\n",
        "# pickle.dump(GD3, file)\n",
        "# file.close()"
      ],
      "execution_count": 109,
      "outputs": []
    },
    {
      "cell_type": "code",
      "metadata": {
        "colab": {
          "base_uri": "https://localhost:8080/",
          "height": 1000,
          "referenced_widgets": [
            "c7c680c627004361adae5b199cd00895",
            "6f4e48b109f945099ec0d4be89412d4e",
            "21b95dcde8044cc8a66c2455c1b69fb2",
            "dca24c29d80741058d9a8f48bfe96f81",
            "1bb1501e92e5478ba8102f9f830190da",
            "a687214724e04fe28142dbbcfde31152",
            "7785e884a55e4c67aa7678cb4df08e57",
            "aeb38b35072841b5a11a3346506c875f",
            "faf38c394c0b48ab9527dc7612dca6ba",
            "3a3847f19caf417c8852cd4cc86f43e0",
            "6000847024e94b92b5a89a2fe3089eda"
          ]
        },
        "id": "rwmnQKXqurjj",
        "outputId": "bfa9b070-4686-441a-fd8d-037721ffd536"
      },
      "source": [
        "SGD3 = Regression(x_train_trans_3, x_test_trans_3, train_y, test_y)\n",
        "SGD3.fit(x_train_trans_3, train_y,epochs = 3000, learning='SGD', learning_rate=0.01)"
      ],
      "execution_count": 79,
      "outputs": [
        {
          "output_type": "stream",
          "name": "stdout",
          "text": [
            "Training...\n"
          ]
        },
        {
          "output_type": "display_data",
          "data": {
            "application/vnd.jupyter.widget-view+json": {
              "model_id": "c7c680c627004361adae5b199cd00895",
              "version_minor": 0,
              "version_major": 2
            },
            "text/plain": [
              "  0%|          | 0/3000 [00:00<?, ?epoch/s]"
            ]
          },
          "metadata": {}
        },
        {
          "output_type": "stream",
          "name": "stdout",
          "text": [
            "Epoch: 0 Loss: 7.123438137979889\n",
            "Epoch: 50 Loss: 0.7064694604594428\n",
            "Epoch: 100 Loss: 0.48465373399024475\n",
            "Epoch: 150 Loss: 0.4331473479354547\n",
            "Epoch: 200 Loss: 0.4684451625529419\n",
            "Epoch: 250 Loss: 0.45268051735654863\n",
            "Epoch: 300 Loss: 0.548253942206508\n",
            "Epoch: 350 Loss: 0.3730467303554703\n",
            "Epoch: 400 Loss: 0.3876718363401456\n",
            "Epoch: 450 Loss: 0.2854073369124503\n",
            "Epoch: 500 Loss: 0.3197968880267297\n",
            "Epoch: 550 Loss: 0.39122914871212433\n",
            "Epoch: 600 Loss: 6.122585127063473\n",
            "Epoch: 650 Loss: 0.2819438744831445\n",
            "Epoch: 700 Loss: 0.2577809020335824\n",
            "Epoch: 750 Loss: 0.3020686076511504\n",
            "Epoch: 800 Loss: 0.2612474621451373\n",
            "Epoch: 850 Loss: 0.2921598489665734\n",
            "Epoch: 900 Loss: 0.29159047254221837\n",
            "Epoch: 950 Loss: 0.3295502097607922\n",
            "Epoch: 1000 Loss: 0.23448897766887833\n",
            "Epoch: 1050 Loss: 0.29261194162551696\n",
            "Epoch: 1100 Loss: 0.30874835572542403\n",
            "Epoch: 1150 Loss: 0.6921802595944462\n",
            "Epoch: 1200 Loss: 0.2443405201857931\n",
            "Epoch: 1250 Loss: 0.23401250199326415\n",
            "Epoch: 1300 Loss: 0.27107855479260823\n",
            "Epoch: 1350 Loss: 0.23885897766966507\n",
            "Epoch: 1400 Loss: 0.22294202294570623\n",
            "Epoch: 1450 Loss: 0.3421171222779632\n",
            "Epoch: 1500 Loss: 0.36672679239127765\n",
            "Epoch: 1550 Loss: 0.2186173044237501\n",
            "Epoch: 1600 Loss: 0.3423335877524719\n",
            "Epoch: 1650 Loss: 0.26889222807103846\n",
            "Epoch: 1700 Loss: 0.2141438310628485\n",
            "Epoch: 1750 Loss: 0.22947560047324453\n",
            "Epoch: 1800 Loss: 0.4187811235030794\n",
            "Epoch: 1850 Loss: 0.2889586233999775\n",
            "Epoch: 1900 Loss: 0.3034542160028972\n",
            "Epoch: 1950 Loss: 0.22170989798344162\n",
            "Epoch: 2000 Loss: 0.22316424675112953\n",
            "Epoch: 2050 Loss: 0.26090586378293773\n",
            "Epoch: 2100 Loss: 0.2738422470402202\n",
            "Epoch: 2150 Loss: 0.21315156558083953\n",
            "Epoch: 2200 Loss: 0.3384678096204504\n",
            "Epoch: 2250 Loss: 0.35083722131317285\n",
            "Epoch: 2300 Loss: 0.2270093553610702\n",
            "Epoch: 2350 Loss: 0.24756643114963758\n",
            "Epoch: 2400 Loss: 0.20649007302311523\n",
            "Epoch: 2450 Loss: 0.2354054194437947\n",
            "Epoch: 2500 Loss: 0.26644519022066787\n",
            "Epoch: 2550 Loss: 0.20971820688063217\n",
            "Epoch: 2600 Loss: 0.30805051201502437\n",
            "Epoch: 2650 Loss: 0.23096964686326596\n",
            "Epoch: 2700 Loss: 0.22607919398796572\n",
            "Epoch: 2750 Loss: 0.24257231583358996\n",
            "Epoch: 2800 Loss: 0.26305198728330553\n",
            "Epoch: 2850 Loss: 0.2548171470071686\n",
            "Epoch: 2900 Loss: 0.22593155701836787\n",
            "Epoch: 2950 Loss: 0.2073041365853636\n"
          ]
        },
        {
          "output_type": "display_data",
          "data": {
            "image/png": "[encoded data removed]",
            "text/plain": [
              "<Figure size 432x288 with 1 Axes>"
            ]
          },
          "metadata": {
            "needs_background": "light"
          }
        },
        {
          "output_type": "stream",
          "name": "stdout",
          "text": [
            "Testing\n",
            "Testing Error is  0.263491283034752\n"
          ]
        }
      ]
    },
    {
      "cell_type": "code",
      "metadata": {
        "id": "pOm3hk-4F8x5"
      },
      "source": [
        "# file = open('/content/gdrive/My Drive/FODSAssignment/SGD3.pickle', 'wb')\n",
        "# pickle.dump(SGD3, file)\n",
        "# file.close()"
      ],
      "execution_count": 110,
      "outputs": []
    },
    {
      "cell_type": "markdown",
      "metadata": {
        "id": "YupDfQWp3zlW"
      },
      "source": [
        "**4 Degree Polynomial**"
      ]
    },
    {
      "cell_type": "code",
      "metadata": {
        "id": "k62XJNOv3zlW"
      },
      "source": [
        "x_train_trans_4 = transform(train_X,4)\n",
        "x_test_trans_4 = transform(test_X,4)\n"
      ],
      "execution_count": 71,
      "outputs": []
    },
    {
      "cell_type": "code",
      "metadata": {
        "colab": {
          "base_uri": "https://localhost:8080/",
          "height": 477,
          "referenced_widgets": [
            "6335c33947984341b80ee4cf81f8bbe5",
            "19d4213347e4419c82f245a82d2edb3b",
            "d30ea0aeca8b49cdac6130c4b10cef0b",
            "1cff3f243dbc44eba7de6e791b6fc0e8",
            "110fe0aa2ac74768a68227a346211dbe",
            "67c0f69202724d97a51284616298acc5",
            "a22dbf81de764500a89b3666bacedd68",
            "da6367f0e3914833bf58627f992db6be",
            "53e3eaba0e614195bfbe3c2b066f6387",
            "6ad30c8d5435476ab553ef22bd17c47a",
            "fd5176f450e9415bbab3834e939d1720"
          ]
        },
        "id": "9F87MSEc3zlW",
        "outputId": "abc358eb-b186-4d0e-87a5-718d8edab8ec"
      },
      "source": [
        "GD4 = Regression(x_train_trans_4, x_test_trans_4, train_y, test_y)\n",
        "GD4.fit(x_train_trans_4, train_y,epochs = 700, learning='GD', learning_rate=0.00005)"
      ],
      "execution_count": 80,
      "outputs": [
        {
          "output_type": "stream",
          "name": "stdout",
          "text": [
            "Training...\n"
          ]
        },
        {
          "output_type": "display_data",
          "data": {
            "application/vnd.jupyter.widget-view+json": {
              "model_id": "6335c33947984341b80ee4cf81f8bbe5",
              "version_minor": 0,
              "version_major": 2
            },
            "text/plain": [
              "  0%|          | 0/700 [00:00<?, ?epoch/s]"
            ]
          },
          "metadata": {}
        },
        {
          "output_type": "stream",
          "name": "stdout",
          "text": [
            "Epoch: 0 Loss: 22.562478994010842\n",
            "Epoch: 50 Loss: 0.8191809188136185\n",
            "Epoch: 100 Loss: 0.46820421649931654\n",
            "Epoch: 150 Loss: 0.37240271040875017\n",
            "Epoch: 200 Loss: 0.3228102445357056\n",
            "Epoch: 250 Loss: 0.2915977458574706\n",
            "Epoch: 300 Loss: 0.27055315309403677\n",
            "Epoch: 350 Loss: 0.2558149650727552\n",
            "Epoch: 400 Loss: 0.24522388043276386\n",
            "Epoch: 450 Loss: 0.23746408447986622\n",
            "Epoch: 500 Loss: 0.23168797156850554\n",
            "Epoch: 550 Loss: 0.2273281391790216\n",
            "Epoch: 600 Loss: 0.22399420921598864\n",
            "Epoch: 650 Loss: 0.22141210678798934\n"
          ]
        },
        {
          "output_type": "display_data",
          "data": {
            "image/png": "[encoded data removed]",
            "text/plain": [
              "<Figure size 432x288 with 1 Axes>"
            ]
          },
          "metadata": {
            "needs_background": "light"
          }
        },
        {
          "output_type": "stream",
          "name": "stdout",
          "text": [
            "Testing\n",
            "Testing Error is  0.2291862745944117\n"
          ]
        }
      ]
    },
    {
      "cell_type": "code",
      "metadata": {
        "id": "YZYBaOt6GEUw"
      },
      "source": [
        "# file = open('/content/gdrive/My Drive/FODSAssignment/GD4.pickle', 'wb')\n",
        "# pickle.dump(GD4, file)\n",
        "# file.close()"
      ],
      "execution_count": 112,
      "outputs": []
    },
    {
      "cell_type": "code",
      "metadata": {
        "colab": {
          "base_uri": "https://localhost:8080/",
          "height": 1000,
          "referenced_widgets": [
            "bb7aae926b3c4af3a281afc476697c91",
            "f05a13f6a3cb4671b6b7e4d5ff8d9b7d",
            "54e8e64050bc4cfe85069c4413e1f12e",
            "2be7fe883720407fbfcbedab8b4a3988",
            "0dc150258c494b6d907766d34e847bce",
            "a05c534559e44d8b88fd39466db6e508",
            "db6f89bed5fe4f93bd99f5aa19da8131",
            "ba07b3806a1a4a7596975a55ff0bcc1c",
            "ad7afc8ea13f410384705117b531b310",
            "6868cc1d33ae483ca96d220fa327d8af",
            "7e991a4e3ac7486880f2073dd3c31473"
          ]
        },
        "id": "Drqe6qyw3zlW",
        "outputId": "d36a5d94-aa39-4c57-c1b0-c9cfa7f6288c"
      },
      "source": [
        "SGD4 = Regression(x_train_trans_4, x_test_trans_4, train_y, test_y)\n",
        "SGD4.fit(x_train_trans_4, train_y,epochs = 5000, learning='SGD', learning_rate=0.001)"
      ],
      "execution_count": 92,
      "outputs": [
        {
          "output_type": "stream",
          "name": "stdout",
          "text": [
            "Training...\n"
          ]
        },
        {
          "output_type": "display_data",
          "data": {
            "application/vnd.jupyter.widget-view+json": {
              "model_id": "bb7aae926b3c4af3a281afc476697c91",
              "version_minor": 0,
              "version_major": 2
            },
            "text/plain": [
              "  0%|          | 0/5000 [00:00<?, ?epoch/s]"
            ]
          },
          "metadata": {}
        },
        {
          "output_type": "stream",
          "name": "stdout",
          "text": [
            "Epoch: 0 Loss: 46.478667764752004\n",
            "Epoch: 50 Loss: 20.70551291465929\n",
            "Epoch: 100 Loss: 9.778862783512919\n",
            "Epoch: 150 Loss: 5.940713205751675\n",
            "Epoch: 200 Loss: 2.899191619355129\n",
            "Epoch: 250 Loss: 3.030084563079767\n",
            "Epoch: 300 Loss: 2.037394117585261\n",
            "Epoch: 350 Loss: 1.9886282622482103\n",
            "Epoch: 400 Loss: 1.5870671122147149\n",
            "Epoch: 450 Loss: 2.018019180627736\n",
            "Epoch: 500 Loss: 2.0560204731206047\n",
            "Epoch: 550 Loss: 1.3947816695735558\n",
            "Epoch: 600 Loss: 1.3550718586854409\n",
            "Epoch: 650 Loss: 1.3077483454037777\n",
            "Epoch: 700 Loss: 1.3392760397435448\n",
            "Epoch: 750 Loss: 1.2297658285052535\n",
            "Epoch: 800 Loss: 1.232151856555914\n",
            "Epoch: 850 Loss: 1.3165602404799577\n",
            "Epoch: 900 Loss: 1.060035378840631\n",
            "Epoch: 950 Loss: 1.0162106352937512\n",
            "Epoch: 1000 Loss: 1.1036936944301392\n",
            "Epoch: 1050 Loss: 1.246099021656432\n",
            "Epoch: 1100 Loss: 0.9567651709740407\n",
            "Epoch: 1150 Loss: 0.9196706434011251\n",
            "Epoch: 1200 Loss: 1.0130616809179323\n",
            "Epoch: 1250 Loss: 0.927718147547144\n",
            "Epoch: 1300 Loss: 1.0955635162213835\n",
            "Epoch: 1350 Loss: 0.9116492255987059\n",
            "Epoch: 1400 Loss: 0.889206489919562\n",
            "Epoch: 1450 Loss: 0.8497963085163962\n",
            "Epoch: 1500 Loss: 0.8790017420399365\n",
            "Epoch: 1550 Loss: 2.6020451475951183\n",
            "Epoch: 1600 Loss: 0.8268418287383771\n",
            "Epoch: 1650 Loss: 0.7831240384394162\n",
            "Epoch: 1700 Loss: 0.7649481814077904\n",
            "Epoch: 1750 Loss: 0.7567112736236986\n",
            "Epoch: 1800 Loss: 0.8597885757479108\n",
            "Epoch: 1850 Loss: 0.805036208664151\n",
            "Epoch: 1900 Loss: 0.6949865844597596\n",
            "Epoch: 1950 Loss: 0.6937243292317944\n",
            "Epoch: 2000 Loss: 0.7059816481649446\n",
            "Epoch: 2050 Loss: 0.8355256099911016\n",
            "Epoch: 2100 Loss: 0.6270618491692277\n",
            "Epoch: 2150 Loss: 2.5156607731555938\n",
            "Epoch: 2200 Loss: 0.7550050522974858\n",
            "Epoch: 2250 Loss: 0.6288515258996342\n",
            "Epoch: 2300 Loss: 0.599999077176674\n",
            "Epoch: 2350 Loss: 0.6108909157226017\n",
            "Epoch: 2400 Loss: 0.906174087158459\n",
            "Epoch: 2450 Loss: 0.5798700657020012\n",
            "Epoch: 2500 Loss: 0.6008563450080942\n",
            "Epoch: 2550 Loss: 0.5547063785710498\n",
            "Epoch: 2600 Loss: 0.6180348759385014\n",
            "Epoch: 2650 Loss: 0.5991348969208515\n",
            "Epoch: 2700 Loss: 0.7766407190319803\n",
            "Epoch: 2750 Loss: 0.5542396967497708\n",
            "Epoch: 2800 Loss: 0.5278727896168508\n",
            "Epoch: 2850 Loss: 0.572859872601028\n",
            "Epoch: 2900 Loss: 0.513092047541376\n",
            "Epoch: 2950 Loss: 0.5229103151071071\n",
            "Epoch: 3000 Loss: 0.5128895877009468\n",
            "Epoch: 3050 Loss: 0.5122935848191871\n",
            "Epoch: 3100 Loss: 0.5009183909953578\n",
            "Epoch: 3150 Loss: 0.517684001080331\n",
            "Epoch: 3200 Loss: 0.5527381407932551\n",
            "Epoch: 3250 Loss: 0.4883132705136038\n",
            "Epoch: 3300 Loss: 0.5131682035944508\n",
            "Epoch: 3350 Loss: 0.4854477778693764\n",
            "Epoch: 3400 Loss: 0.927727408414155\n",
            "Epoch: 3450 Loss: 0.5097499255064876\n",
            "Epoch: 3500 Loss: 0.49315106318465435\n",
            "Epoch: 3550 Loss: 0.47372060050752784\n",
            "Epoch: 3600 Loss: 0.47474790355362456\n",
            "Epoch: 3650 Loss: 0.5966064738964292\n",
            "Epoch: 3700 Loss: 0.4661054687620397\n",
            "Epoch: 3750 Loss: 0.45108029398375726\n",
            "Epoch: 3800 Loss: 0.6142804130345114\n",
            "Epoch: 3850 Loss: 0.5117442208554298\n",
            "Epoch: 3900 Loss: 0.43968989430605443\n",
            "Epoch: 3950 Loss: 0.434450764639084\n",
            "Epoch: 4000 Loss: 0.4463159030670392\n",
            "Epoch: 4050 Loss: 0.43016040767848374\n",
            "Epoch: 4100 Loss: 0.45060187647187255\n",
            "Epoch: 4150 Loss: 0.4253919645584624\n",
            "Epoch: 4200 Loss: 0.4593279387052912\n",
            "Epoch: 4250 Loss: 0.4567683475434356\n",
            "Epoch: 4300 Loss: 0.4384775944776094\n",
            "Epoch: 4350 Loss: 0.4339521874918551\n",
            "Epoch: 4400 Loss: 0.4917954725784717\n",
            "Epoch: 4450 Loss: 0.4091733405933955\n",
            "Epoch: 4500 Loss: 0.42368414875033167\n",
            "Epoch: 4550 Loss: 0.4053694926354829\n",
            "Epoch: 4600 Loss: 0.40250504563625983\n",
            "Epoch: 4650 Loss: 0.4017378867553414\n",
            "Epoch: 4700 Loss: 0.4121931550185485\n",
            "Epoch: 4750 Loss: 0.4023011996490501\n",
            "Epoch: 4800 Loss: 0.4181093641885862\n",
            "Epoch: 4850 Loss: 0.4127590484715933\n",
            "Epoch: 4900 Loss: 0.4026048415463538\n",
            "Epoch: 4950 Loss: 0.3885129909200092\n"
          ]
        },
        {
          "output_type": "display_data",
          "data": {
            "image/png": "[encoded data removed]",
            "text/plain": [
              "<Figure size 432x288 with 1 Axes>"
            ]
          },
          "metadata": {
            "needs_background": "light"
          }
        },
        {
          "output_type": "stream",
          "name": "stdout",
          "text": [
            "Testing\n",
            "Testing Error is  0.4585511055731931\n"
          ]
        }
      ]
    },
    {
      "cell_type": "code",
      "metadata": {
        "id": "jSmBbmp0GJE1"
      },
      "source": [
        "# file = open('/content/gdrive/My Drive/FODSAssignment/SGD4.pickle', 'wb')\n",
        "# pickle.dump(SGD4, file)\n",
        "# file.close()"
      ],
      "execution_count": 113,
      "outputs": []
    },
    {
      "cell_type": "markdown",
      "metadata": {
        "id": "_yJWH491Q5mO"
      },
      "source": [
        "**MODIFIED MODEL**"
      ]
    },
    {
      "cell_type": "code",
      "metadata": {
        "id": "Np6blEyfQXjt"
      },
      "source": [
        "class PolynomialRegression():\n",
        "\n",
        "    def __init__(self, degree):\n",
        "        self.w = None\n",
        "        #self.X_train, self.X_test, self.y_train, self.y_test = X_train,X_test,y_train, y_test\n",
        "        self.degree = degree\n",
        "\n",
        "    def transform(self,X):\n",
        "        '''\n",
        "        Transforms the features to degre d polynomial features\n",
        "        '''\n",
        "        X_trans = np.ones((len(X[:,1]), 1), dtype=int)\n",
        "        for i in range(self.degree+1):\n",
        "            for j in range(self.degree+1-i):\n",
        "                if i!=0 or j!=0:\n",
        "                    t = np.array([np.multiply(np.power(X[:,0],i),np.power(X[:,-1],j))])\n",
        "                    X_trans = np.concatenate((X_trans, t.T), axis=1)\n",
        "        return X_trans\n",
        "\n",
        "    def polynomial(self, X):    \n",
        "        return np.dot(X, self.w.T) \n",
        "    \n",
        "    def mean_squared_error(self, y_pred, y):\n",
        "        '''\n",
        "        Evaluates the Mean Squared error of the predicted values by comparing it with the true values.\n",
        "        Parameters:\n",
        "            y_pred: Predicted values.\n",
        "            y: True output values.\n",
        "        '''\n",
        "        return sum([(y1-y2)**2 for y1, y2 in zip(y, y_pred)])/len([(y1-y2)**2 for y1, y2 in zip(y, y_pred)])  \n",
        "\n",
        "    def grad_w(self, x, y):    \n",
        "        '''\n",
        "        Calculates the gradient of the weight values.\n",
        "        Parameters:\n",
        "            x: Training point\n",
        "            y:  \n",
        "        '''\n",
        "        y_pred = self.polynomial(x)  \n",
        "        return (y_pred - y)*x\n",
        "\n",
        "    def predict(self, X):\n",
        "        '''\n",
        "        Evaluates the sigmoid function value of the given data.\n",
        "        Parameters:\n",
        "            X: testing sample\n",
        "        '''\n",
        "        return self.polynomial(X)\n",
        "\n",
        "    def evaluate(self, x_test, y_test):\n",
        "        '''\n",
        "        Evaluates the model for a given testing data\n",
        "        Parameters:\n",
        "            x_test: testing samples\n",
        "            y_test: testing labels\n",
        "        '''\n",
        "        y_pred = self.predict(x_test)\n",
        "        test_loss = self.mean_squared_error(y_pred, y_test)[0]\n",
        "        print(\"Testing Error is \", test_loss)\n",
        "\n",
        "    def fit(self, X,Y, epochs = 1, learning='GD', learning_rate = 1, display_loss=True, printValues=True):\n",
        "\n",
        "        self.w = np.random.randn(1, X.shape[1])     \n",
        "\n",
        "        if display_loss:\n",
        "            loss={}\n",
        "            accuracy={}\n",
        "        \n",
        "        print(\"Training...\")\n",
        "\n",
        "        count=0\n",
        "        for i in tqdm.notebook.tqdm(range(epochs), total=epochs, unit=\"epoch\"):\n",
        "            dw = 0\n",
        "\n",
        "            if learning == 'GD':\n",
        "                for x, y in zip(X, Y):\n",
        "                    dw += self.grad_w(x,y)   \n",
        "                    self.w -= learning_rate * (dw/X.shape[0])   \n",
        "\n",
        "            if learning == 'SGD':\n",
        "                randInt = np.random.randint(0,X.shape[0])\n",
        "                x = X[randInt, :]\n",
        "                y = Y[randInt]\n",
        "                dw += self.grad_w(x,y)   \n",
        "                self.w -= learning_rate * dw   \n",
        "\n",
        "            if display_loss:\n",
        "                Y_pred = self.polynomial(X)   \n",
        "                loss[i] = self.mean_squared_error(Y_pred,Y)[0]  \n",
        "                if printValues and i%50==0:\n",
        "                    print('Epoch:', i,'Loss:', loss[i])\n",
        "\n",
        "        if display_loss and count%50==0:\n",
        "            plt.subplot(2, 1, 1)\n",
        "            plt.plot(list(loss.values()))\n",
        "            plt.xlabel('Epochs')\n",
        "            plt.ylabel('Mean Squared Error')\n",
        "            \n",
        "            plt.show()\n",
        "        count=count+1\n",
        "\n",
        "        print(\"Testing\")\n",
        "\n",
        "        #self.evaluate(self.X_test,self.y_test)"
      ],
      "execution_count": 115,
      "outputs": []
    },
    {
      "cell_type": "markdown",
      "metadata": {
        "id": "9Nni0GuVPpSm"
      },
      "source": [
        "**5 Degree Polynomial**"
      ]
    },
    {
      "cell_type": "code",
      "metadata": {
        "id": "6Vhd2_ASPpSm"
      },
      "source": [
        "#x_train_trans_5 = transform(train_X,5)\n",
        "#x_test_trans_5 = transform(test_X,5)\n"
      ],
      "execution_count": null,
      "outputs": []
    },
    {
      "cell_type": "code",
      "metadata": {
        "colab": {
          "base_uri": "https://localhost:8080/",
          "height": 778,
          "referenced_widgets": [
            "7f68fa2b9eb044fd894d73f0cc6b86a0",
            "f6454563703642e2a8f3559e5ac5ee60",
            "89861025cb98448f98bfe2eff30ee67f",
            "f63eef8fc6d444dcbe717cd7ac256950",
            "62de86c53a264da3932d9a85f9995576",
            "060ff4c3946945949db4557406a01f15",
            "8c6d1cb89dbb4f76bbad28f818ab9fb1",
            "a50c51272cda45429d443c4ee3ae824e",
            "f7c44348d2d74a369cc8536a8bf948cb",
            "33075944910c4457b2852a072b631afc",
            "5c0419ff1466491299c069d7a1cdc1f0"
          ]
        },
        "id": "jQwF_up7PpSn",
        "outputId": "6a934e70-48a2-4885-ce20-902989b49f4a"
      },
      "source": [
        "GD5 = PolynomialRegression(5)\n",
        "x_train_trans_5 = GD5.transform(train_X)\n",
        "x_test_trans_5 = GD5.transform(test_X)\n",
        "GD5.fit(x_train_trans_5, train_y,epochs = 1600, learning='GD', learning_rate=0.00002)\n",
        "GD5.evaluate(x_test_trans_5,test_y)"
      ],
      "execution_count": 122,
      "outputs": [
        {
          "output_type": "stream",
          "name": "stdout",
          "text": [
            "Training...\n"
          ]
        },
        {
          "output_type": "display_data",
          "data": {
            "application/vnd.jupyter.widget-view+json": {
              "model_id": "7f68fa2b9eb044fd894d73f0cc6b86a0",
              "version_minor": 0,
              "version_major": 2
            },
            "text/plain": [
              "  0%|          | 0/1600 [00:00<?, ?epoch/s]"
            ]
          },
          "metadata": {}
        },
        {
          "output_type": "stream",
          "name": "stdout",
          "text": [
            "Epoch: 0 Loss: 178.32920055192253\n",
            "Epoch: 50 Loss: 4.484403662387639\n",
            "Epoch: 100 Loss: 0.79376563067338\n",
            "Epoch: 150 Loss: 0.5052203753845566\n",
            "Epoch: 200 Loss: 0.4227930345687382\n",
            "Epoch: 250 Loss: 0.38650401787937416\n",
            "Epoch: 300 Loss: 0.36566897285739663\n",
            "Epoch: 350 Loss: 0.35108065955043466\n",
            "Epoch: 400 Loss: 0.33954316682861296\n",
            "Epoch: 450 Loss: 0.3298010626175652\n",
            "Epoch: 500 Loss: 0.32128562099725155\n",
            "Epoch: 550 Loss: 0.3136956036215143\n",
            "Epoch: 600 Loss: 0.30684678188756653\n",
            "Epoch: 650 Loss: 0.3006134070360163\n",
            "Epoch: 700 Loss: 0.2949030479107186\n",
            "Epoch: 750 Loss: 0.28964442365235027\n",
            "Epoch: 800 Loss: 0.28478077443607125\n",
            "Epoch: 850 Loss: 0.2802658592889168\n",
            "Epoch: 900 Loss: 0.27606134530378906\n",
            "Epoch: 950 Loss: 0.27213500840474714\n",
            "Epoch: 1000 Loss: 0.2684594439087043\n",
            "Epoch: 1050 Loss: 0.265011114896931\n",
            "Epoch: 1100 Loss: 0.26176963324612784\n",
            "Epoch: 1150 Loss: 0.2587172057019609\n",
            "Epoch: 1200 Loss: 0.2558381999012801\n",
            "Epoch: 1250 Loss: 0.25311879941876997\n",
            "Epoch: 1300 Loss: 0.2505467261310103\n",
            "Epoch: 1350 Loss: 0.24811101434022273\n",
            "Epoch: 1400 Loss: 0.24580182528956104\n",
            "Epoch: 1450 Loss: 0.243610293611376\n",
            "Epoch: 1500 Loss: 0.24152839930827077\n",
            "Epoch: 1550 Loss: 0.239548860349336\n"
          ]
        },
        {
          "output_type": "display_data",
          "data": {
            "image/png": "[encoded data removed]",
            "text/plain": [
              "<Figure size 432x288 with 1 Axes>"
            ]
          },
          "metadata": {
            "needs_background": "light"
          }
        },
        {
          "output_type": "stream",
          "name": "stdout",
          "text": [
            "Testing\n",
            "Testing Error is  0.24310860078286026\n"
          ]
        }
      ]
    },
    {
      "cell_type": "code",
      "metadata": {
        "id": "0bkFk5skPpSn"
      },
      "source": [
        "#  file = open('/content/gdrive/My Drive/FODSAssignment/GD5.pickle', 'wb')\n",
        "#  pickle.dump(GD5, file)\n",
        "#  file.close()"
      ],
      "execution_count": 123,
      "outputs": []
    },
    {
      "cell_type": "code",
      "metadata": {
        "colab": {
          "base_uri": "https://localhost:8080/",
          "height": 1000,
          "referenced_widgets": [
            "135e6353f79b4f6babc05de9700a1d7d",
            "72fc39c2575c4f7f8565076d95fe1703",
            "670ce81954104221b4a0c1f22a4d2ed3",
            "532e7fea704e48a28af0c2c60a0084dc",
            "ff0b7d702c7f421285b8766a7219a37c",
            "300b3db4b16b4ad1b29ae0f93e390d80",
            "f265394e86034ec78c59e57c1396a957",
            "d7d13df858d345acb96aba36e8ce27ba",
            "4fbecd3f600a40f3b29d27cdb617185c",
            "ef76099d38ba4bd0aeb145b5f564bdc0",
            "52c220708d41458eaa1249fc443ac62a"
          ]
        },
        "id": "iGlIvC3xPpSn",
        "outputId": "e5cc2b66-c2b6-4760-c9bc-22ab8dc04e60"
      },
      "source": [
        "SGD5 = PolynomialRegression(5)\n",
        "x_train_trans_5 = SGD5.transform(train_X)\n",
        "x_test_trans_5 = SGD5.transform(test_X)\n",
        "SGD5.fit(x_train_trans_5, train_y,epochs = 6700, learning='SGD', learning_rate=0.0005)\n",
        "SGD5.evaluate(x_test_trans_5,test_y)"
      ],
      "execution_count": 148,
      "outputs": [
        {
          "output_type": "stream",
          "name": "stdout",
          "text": [
            "Training...\n"
          ]
        },
        {
          "output_type": "display_data",
          "data": {
            "application/vnd.jupyter.widget-view+json": {
              "model_id": "135e6353f79b4f6babc05de9700a1d7d",
              "version_minor": 0,
              "version_major": 2
            },
            "text/plain": [
              "  0%|          | 0/6700 [00:00<?, ?epoch/s]"
            ]
          },
          "metadata": {}
        },
        {
          "output_type": "stream",
          "name": "stdout",
          "text": [
            "Epoch: 0 Loss: 115.72104788341666\n",
            "Epoch: 50 Loss: 44.38545811069039\n",
            "Epoch: 100 Loss: 29.990864353576438\n",
            "Epoch: 150 Loss: 17.449747971700642\n",
            "Epoch: 200 Loss: 20.515988604124136\n",
            "Epoch: 250 Loss: 23.226426881951742\n",
            "Epoch: 300 Loss: 25.559187668402824\n",
            "Epoch: 350 Loss: 19.69835319094302\n",
            "Epoch: 400 Loss: 13.043078656935123\n",
            "Epoch: 450 Loss: 13.866492912113467\n",
            "Epoch: 500 Loss: 7.572432570798894\n",
            "Epoch: 550 Loss: 13.717312709583084\n",
            "Epoch: 600 Loss: 9.716241678827997\n",
            "Epoch: 650 Loss: 11.63545617791523\n",
            "Epoch: 700 Loss: 395.6686742165036\n",
            "Epoch: 750 Loss: 103.22577208750074\n",
            "Epoch: 800 Loss: 10.222712452344059\n",
            "Epoch: 850 Loss: 4.43849269135157\n",
            "Epoch: 900 Loss: 2.544674375333904\n",
            "Epoch: 950 Loss: 4.062321846877831\n",
            "Epoch: 1000 Loss: 5.441253044139432\n",
            "Epoch: 1050 Loss: 2.0865638359095118\n",
            "Epoch: 1100 Loss: 5.730812127630716\n",
            "Epoch: 1150 Loss: 1.6323084423030019\n",
            "Epoch: 1200 Loss: 2.1370707736097962\n",
            "Epoch: 1250 Loss: 1.6903913288749273\n",
            "Epoch: 1300 Loss: 2.138615320274761\n",
            "Epoch: 1350 Loss: 3.0314973452685328\n",
            "Epoch: 1400 Loss: 2863.358384824226\n",
            "Epoch: 1450 Loss: 21.12009240379096\n",
            "Epoch: 1500 Loss: 6.511820081436499\n",
            "Epoch: 1550 Loss: 67.80954911642924\n",
            "Epoch: 1600 Loss: 47.30693272584199\n",
            "Epoch: 1650 Loss: 3.9802535210531076\n",
            "Epoch: 1700 Loss: 3.360663849707981\n",
            "Epoch: 1750 Loss: 1.1031209440895697\n",
            "Epoch: 1800 Loss: 1.279948104003827\n",
            "Epoch: 1850 Loss: 0.9299198365915823\n",
            "Epoch: 1900 Loss: 0.7174416216121237\n",
            "Epoch: 1950 Loss: 0.8839580894629765\n",
            "Epoch: 2000 Loss: 0.6209319278757721\n",
            "Epoch: 2050 Loss: 0.8153015211237585\n",
            "Epoch: 2100 Loss: 0.5437297665272767\n",
            "Epoch: 2150 Loss: 0.6842669933078119\n",
            "Epoch: 2200 Loss: 0.5118898316062924\n",
            "Epoch: 2250 Loss: 0.8920905539654946\n",
            "Epoch: 2300 Loss: 0.5924547169082941\n",
            "Epoch: 2350 Loss: 1.6903653743487332\n",
            "Epoch: 2400 Loss: 1.1140536267546663\n",
            "Epoch: 2450 Loss: 0.5658873833855828\n",
            "Epoch: 2500 Loss: 0.4775927942059072\n",
            "Epoch: 2550 Loss: 0.515070305516652\n",
            "Epoch: 2600 Loss: 0.483655549847865\n",
            "Epoch: 2650 Loss: 0.6231589400442408\n",
            "Epoch: 2700 Loss: 0.6320591829980412\n",
            "Epoch: 2750 Loss: 0.6474879819560673\n",
            "Epoch: 2800 Loss: 0.5866673990877349\n",
            "Epoch: 2850 Loss: 0.47798735689540806\n",
            "Epoch: 2900 Loss: 0.6374432311220564\n",
            "Epoch: 2950 Loss: 0.4283322358140209\n",
            "Epoch: 3000 Loss: 0.4242800146823713\n",
            "Epoch: 3050 Loss: 0.4660833294367066\n",
            "Epoch: 3100 Loss: 0.43324623259208067\n",
            "Epoch: 3150 Loss: 0.5573640675856234\n",
            "Epoch: 3200 Loss: 0.4454093005117392\n",
            "Epoch: 3250 Loss: 2.455825158244986\n",
            "Epoch: 3300 Loss: 0.5507070444358313\n",
            "Epoch: 3350 Loss: 2.688913522523014\n",
            "Epoch: 3400 Loss: 0.9019711456569378\n",
            "Epoch: 3450 Loss: 0.6049082613338267\n",
            "Epoch: 3500 Loss: 0.4363331595831586\n",
            "Epoch: 3550 Loss: 0.39875073463288035\n",
            "Epoch: 3600 Loss: 0.46985129384137925\n",
            "Epoch: 3650 Loss: 0.37121445969981887\n",
            "Epoch: 3700 Loss: 1.2436890944588894\n",
            "Epoch: 3750 Loss: 0.40842029815841024\n",
            "Epoch: 3800 Loss: 0.4719094808165189\n",
            "Epoch: 3850 Loss: 0.8837137677895719\n",
            "Epoch: 3900 Loss: 0.40070410744130175\n",
            "Epoch: 3950 Loss: 0.4394324457283178\n",
            "Epoch: 4000 Loss: 0.3658589360609265\n",
            "Epoch: 4050 Loss: 0.37020149109525413\n",
            "Epoch: 4100 Loss: 0.6276363533545124\n",
            "Epoch: 4150 Loss: 0.37192084773076267\n",
            "Epoch: 4200 Loss: 0.4056846520564343\n",
            "Epoch: 4250 Loss: 0.3573442055887673\n",
            "Epoch: 4300 Loss: 0.3660000775820234\n",
            "Epoch: 4350 Loss: 0.3561370887300426\n",
            "Epoch: 4400 Loss: 2.456084141566734\n",
            "Epoch: 4450 Loss: 0.49184965706006734\n",
            "Epoch: 4500 Loss: 0.4315238085618356\n",
            "Epoch: 4550 Loss: 0.3469228378638616\n",
            "Epoch: 4600 Loss: 0.3736207275345168\n",
            "Epoch: 4650 Loss: 0.3870612798490506\n",
            "Epoch: 4700 Loss: 3.116681307715109\n",
            "Epoch: 4750 Loss: 1.0260633187643775\n",
            "Epoch: 4800 Loss: 689.0009322141767\n",
            "Epoch: 4850 Loss: 8.98607836270272\n",
            "Epoch: 4900 Loss: 3.0337368721635714\n",
            "Epoch: 4950 Loss: 0.9346980205993182\n",
            "Epoch: 5000 Loss: 0.541286308698839\n",
            "Epoch: 5050 Loss: 0.9054888534682652\n",
            "Epoch: 5100 Loss: 0.42909195600672984\n",
            "Epoch: 5150 Loss: 0.6231787920915486\n",
            "Epoch: 5200 Loss: 0.3765258637629087\n",
            "Epoch: 5250 Loss: 0.4479430776326744\n",
            "Epoch: 5300 Loss: 0.42187749568673005\n",
            "Epoch: 5350 Loss: 0.3742823325674903\n",
            "Epoch: 5400 Loss: 0.4272582129322918\n",
            "Epoch: 5450 Loss: 3.0695980706943238\n",
            "Epoch: 5500 Loss: 0.3352333532949761\n",
            "Epoch: 5550 Loss: 0.3346420040186854\n",
            "Epoch: 5600 Loss: 1.9443820607892783\n",
            "Epoch: 5650 Loss: 0.6241325349511007\n",
            "Epoch: 5700 Loss: 0.33065269553705956\n",
            "Epoch: 5750 Loss: 0.4223602463325372\n",
            "Epoch: 5800 Loss: 0.36371977968581054\n",
            "Epoch: 5850 Loss: 0.3795993449457027\n",
            "Epoch: 5900 Loss: 0.500611964214839\n",
            "Epoch: 5950 Loss: 0.8194388049725156\n",
            "Epoch: 6000 Loss: 0.6275628316985207\n",
            "Epoch: 6050 Loss: 0.8920336099903174\n",
            "Epoch: 6100 Loss: 0.39083049475744874\n",
            "Epoch: 6150 Loss: 0.3607775657876853\n",
            "Epoch: 6200 Loss: 0.3618314205610204\n",
            "Epoch: 6250 Loss: 0.413342717128687\n",
            "Epoch: 6300 Loss: 0.3220725393970207\n",
            "Epoch: 6350 Loss: 0.7991189825328694\n",
            "Epoch: 6400 Loss: 0.3880216448779442\n",
            "Epoch: 6450 Loss: 0.34935181773160606\n",
            "Epoch: 6500 Loss: 0.32546214522592887\n",
            "Epoch: 6550 Loss: 0.374210643907047\n",
            "Epoch: 6600 Loss: 0.40849712803605814\n",
            "Epoch: 6650 Loss: 0.39116250265895086\n"
          ]
        },
        {
          "output_type": "display_data",
          "data": {
            "image/png": "[encoded data removed]",
            "text/plain": [
              "<Figure size 432x288 with 1 Axes>"
            ]
          },
          "metadata": {
            "needs_background": "light"
          }
        },
        {
          "output_type": "stream",
          "name": "stdout",
          "text": [
            "Testing\n",
            "Testing Error is  0.3599693471272299\n"
          ]
        }
      ]
    },
    {
      "cell_type": "code",
      "metadata": {
        "id": "LjkMbNGsPpSn"
      },
      "source": [
        " file = open('/content/gdrive/My Drive/FODSAssignment/SGD5.pickle', 'wb')\n",
        " pickle.dump(SGD5, file)\n",
        " file.close()"
      ],
      "execution_count": 149,
      "outputs": []
    },
    {
      "cell_type": "markdown",
      "metadata": {
        "id": "ccv-JMf3dPJa"
      },
      "source": [
        "**6 Degree Polynomial**"
      ]
    },
    {
      "cell_type": "code",
      "metadata": {
        "colab": {
          "base_uri": "https://localhost:8080/",
          "height": 1000,
          "referenced_widgets": [
            "2038b87db67841cd95213dd23239b8bd",
            "e0af768ed09147c5b680e1215b3eb992",
            "06f5d0ba240a4f61bff8a2367140d026",
            "2a1881b867b941b89fcfac449d6b5d12",
            "4f2c9b8d40a24e7d8f7bc4cfb0213d1f",
            "ad73d4294b5e4a17b882e27002ba013a",
            "ec837c0919ec43159d651aec1750c7d3",
            "45f597e006a945558ec7d403cb7b925b",
            "e04a65d2b66f4d0fab088261479b0d2d",
            "b42d1ab4e3dd4795b0198ad0e1ae8768",
            "ac04a871d8524078a4cd916bad3ade9c"
          ]
        },
        "id": "v20JVYLndPJa",
        "outputId": "9ecee12a-bb4d-4f7f-8b26-6d214925933b"
      },
      "source": [
        "GD6 = PolynomialRegression(6)\n",
        "x_train_trans_6 = GD6.transform(train_X)\n",
        "x_test_trans_6 = GD6.transform(test_X)\n",
        "GD6.fit(x_train_trans_6, train_y,epochs = 2500, learning='GD', learning_rate=0.00002)\n",
        "GD6.evaluate(x_test_trans_6,test_y)"
      ],
      "execution_count": 155,
      "outputs": [
        {
          "output_type": "stream",
          "name": "stdout",
          "text": [
            "Training...\n"
          ]
        },
        {
          "output_type": "display_data",
          "data": {
            "application/vnd.jupyter.widget-view+json": {
              "model_id": "2038b87db67841cd95213dd23239b8bd",
              "version_minor": 0,
              "version_major": 2
            },
            "text/plain": [
              "  0%|          | 0/2500 [00:00<?, ?epoch/s]"
            ]
          },
          "metadata": {}
        },
        {
          "output_type": "stream",
          "name": "stdout",
          "text": [
            "Epoch: 0 Loss: 348.3631663769241\n",
            "Epoch: 50 Loss: 10.766551057557013\n",
            "Epoch: 100 Loss: 2.160472342681156\n",
            "Epoch: 150 Loss: 1.2537053024720946\n",
            "Epoch: 200 Loss: 0.9401642887142072\n",
            "Epoch: 250 Loss: 0.7595744217841007\n",
            "Epoch: 300 Loss: 0.6414047246132792\n",
            "Epoch: 350 Loss: 0.5592742614958647\n",
            "Epoch: 400 Loss: 0.4998364894956587\n",
            "Epoch: 450 Loss: 0.45551481293322255\n",
            "Epoch: 500 Loss: 0.4216670600056526\n",
            "Epoch: 550 Loss: 0.39528495285414195\n",
            "Epoch: 600 Loss: 0.37433772786178754\n",
            "Epoch: 650 Loss: 0.3574132353293408\n",
            "Epoch: 700 Loss: 0.3435079599502579\n",
            "Epoch: 750 Loss: 0.33189715033131334\n",
            "Epoch: 800 Loss: 0.3220508425986437\n",
            "Epoch: 850 Loss: 0.31357763625713403\n",
            "Epoch: 900 Loss: 0.30618602880103507\n",
            "Epoch: 950 Loss: 0.29965727760833066\n",
            "Epoch: 1000 Loss: 0.2938260556053406\n",
            "Epoch: 1050 Loss: 0.28856649942990453\n",
            "Epoch: 1100 Loss: 0.2837820560475416\n",
            "Epoch: 1150 Loss: 0.2793980422415274\n",
            "Epoch: 1200 Loss: 0.2753561624728712\n",
            "Epoch: 1250 Loss: 0.27161045221661684\n",
            "Epoch: 1300 Loss: 0.2681242656076275\n",
            "Epoch: 1350 Loss: 0.26486803202658243\n",
            "Epoch: 1400 Loss: 0.2618175811175174\n",
            "Epoch: 1450 Loss: 0.2589528893251971\n",
            "Epoch: 1500 Loss: 0.25625713978064213\n",
            "Epoch: 1550 Loss: 0.2537160155733822\n",
            "Epoch: 1600 Loss: 0.2513171671229329\n",
            "Epoch: 1650 Loss: 0.24904980958328457\n",
            "Epoch: 1700 Loss: 0.24690441746817682\n",
            "Epoch: 1750 Loss: 0.24487249203126518\n",
            "Epoch: 1800 Loss: 0.2429463831397889\n",
            "Epoch: 1850 Loss: 0.24111915200352527\n",
            "Epoch: 1900 Loss: 0.2393844645685528\n",
            "Epoch: 1950 Loss: 0.23773650796107015\n",
            "Epoch: 2000 Loss: 0.23616992429066416\n",
            "Epoch: 2050 Loss: 0.23467975756121864\n",
            "Epoch: 2100 Loss: 0.233261410513441\n",
            "Epoch: 2150 Loss: 0.23191060902644967\n",
            "Epoch: 2200 Loss: 0.23062337230721336\n",
            "Epoch: 2250 Loss: 0.2293959875443403\n",
            "Epoch: 2300 Loss: 0.22822498803815017\n",
            "Epoch: 2350 Loss: 0.22710713406762398\n",
            "Epoch: 2400 Loss: 0.22603939594089045\n",
            "Epoch: 2450 Loss: 0.22501893881361806\n"
          ]
        },
        {
          "output_type": "display_data",
          "data": {
            "image/png": "[encoded data removed]",
            "text/plain": [
              "<Figure size 432x288 with 1 Axes>"
            ]
          },
          "metadata": {
            "needs_background": "light"
          }
        },
        {
          "output_type": "stream",
          "name": "stdout",
          "text": [
            "Testing\n",
            "Testing Error is  0.23972206869894122\n"
          ]
        }
      ]
    },
    {
      "cell_type": "code",
      "metadata": {
        "id": "dUlbDPK4dPJa"
      },
      "source": [
        "#  file = open('/content/gdrive/My Drive/FODSAssignment/GD6.pickle', 'wb')\n",
        "#  pickle.dump(GD6, file)\n",
        "#  file.close()"
      ],
      "execution_count": 156,
      "outputs": []
    },
    {
      "cell_type": "code",
      "metadata": {
        "colab": {
          "base_uri": "https://localhost:8080/",
          "height": 1000,
          "referenced_widgets": [
            "56f773ff5f5b4350bb253e828bf4040e",
            "bbf8716f3dfe4bfe82d0bde5927e7e2e",
            "74f646ec45f94db4bd6a4c2276172323",
            "ba18513a6e794a1da4882bd2f1c91f9a",
            "2e7c1401602345fa871e2d5ece7b8fa7",
            "538bb70914d443dbab0aa50d9277f7dc",
            "f00547c6b9304a46b18383721740d439",
            "58bfa2d4c6314e4688a210fde69895e8",
            "1234b559143241e3b36100755d788497",
            "6700ff351a4745e7a25159a925c681d5",
            "f79e798f8af84ecda8bf0bac54f5967e"
          ]
        },
        "id": "yXD9q-XCdPJa",
        "outputId": "f72055ce-1aa7-4ccf-9b76-874e170bde0a"
      },
      "source": [
        "#### NOT FINISHED ###\n",
        "SGD6 = PolynomialRegression(6)\n",
        "x_train_trans_6 = SGD6.transform(train_X)\n",
        "x_test_trans_6 = SGD6.transform(test_X)\n",
        "SGD6.fit(x_train_trans_6, train_y,epochs = 10000, learning='SGD', learning_rate=0.000076)\n",
        "SGD6.evaluate(x_test_trans_6,test_y)"
      ],
      "execution_count": 169,
      "outputs": [
        {
          "output_type": "stream",
          "name": "stdout",
          "text": [
            "Training...\n"
          ]
        },
        {
          "output_type": "display_data",
          "data": {
            "application/vnd.jupyter.widget-view+json": {
              "model_id": "56f773ff5f5b4350bb253e828bf4040e",
              "version_minor": 0,
              "version_major": 2
            },
            "text/plain": [
              "  0%|          | 0/10000 [00:00<?, ?epoch/s]"
            ]
          },
          "metadata": {}
        },
        {
          "output_type": "stream",
          "name": "stdout",
          "text": [
            "Epoch: 0 Loss: 507.7767145684795\n",
            "Epoch: 50 Loss: 190.09217174521166\n",
            "Epoch: 100 Loss: 5324.368426897578\n",
            "Epoch: 150 Loss: 1081.8958143874677\n",
            "Epoch: 200 Loss: 1224.273887521919\n",
            "Epoch: 250 Loss: 493.76878735642384\n",
            "Epoch: 300 Loss: 497.76731115543885\n",
            "Epoch: 350 Loss: 233.71078013446154\n",
            "Epoch: 400 Loss: 230.42737598053534\n",
            "Epoch: 450 Loss: 98.91158536420454\n",
            "Epoch: 500 Loss: 82.35245473359196\n",
            "Epoch: 550 Loss: 49.96776019000027\n",
            "Epoch: 600 Loss: 50.108447064416005\n",
            "Epoch: 650 Loss: 80.21743964607755\n",
            "Epoch: 700 Loss: 37.888710596636685\n",
            "Epoch: 750 Loss: 35.18804813740855\n",
            "Epoch: 800 Loss: 33.02633774321641\n",
            "Epoch: 850 Loss: 29.043118068481547\n",
            "Epoch: 900 Loss: 28.79043460459949\n",
            "Epoch: 950 Loss: 30.517882622533353\n",
            "Epoch: 1000 Loss: 22.660422920985702\n",
            "Epoch: 1050 Loss: 32.25420881586401\n",
            "Epoch: 1100 Loss: 14.834482909103073\n",
            "Epoch: 1150 Loss: 81.78642193818297\n",
            "Epoch: 1200 Loss: 14.905412528383163\n",
            "Epoch: 1250 Loss: 16.69754093789754\n",
            "Epoch: 1300 Loss: 12.906193483832212\n",
            "Epoch: 1350 Loss: 20.493640210428076\n",
            "Epoch: 1400 Loss: 17.184675415048247\n",
            "Epoch: 1450 Loss: 110.65210073429157\n",
            "Epoch: 1500 Loss: 1618.494665093376\n",
            "Epoch: 1550 Loss: 47.066313046679994\n",
            "Epoch: 1600 Loss: 20.993765353835546\n",
            "Epoch: 1650 Loss: 22.439213265746815\n",
            "Epoch: 1700 Loss: 11.67741358399725\n",
            "Epoch: 1750 Loss: 8.309830791529027\n",
            "Epoch: 1800 Loss: 8.47955598508341\n",
            "Epoch: 1850 Loss: 7.704910831484975\n",
            "Epoch: 1900 Loss: 9.395811186562158\n",
            "Epoch: 1950 Loss: 8.880401905075503\n",
            "Epoch: 2000 Loss: 8.525562587405526\n",
            "Epoch: 2050 Loss: 6.656182966922854\n",
            "Epoch: 2100 Loss: 136.7032430131977\n",
            "Epoch: 2150 Loss: 6.702408616074912\n",
            "Epoch: 2200 Loss: 6.054804519494617\n",
            "Epoch: 2250 Loss: 7.1461741450621945\n",
            "Epoch: 2300 Loss: 7.626557660315031\n",
            "Epoch: 2350 Loss: 7.119494452995064\n",
            "Epoch: 2400 Loss: 5.992721567538811\n",
            "Epoch: 2450 Loss: 382.27985270553575\n",
            "Epoch: 2500 Loss: 20.512578389841806\n",
            "Epoch: 2550 Loss: 12.199178157571092\n",
            "Epoch: 2600 Loss: 418.97799780568306\n",
            "Epoch: 2650 Loss: 1664.5116535204436\n",
            "Epoch: 2700 Loss: 722.8205187466268\n",
            "Epoch: 2750 Loss: 320.1595401480615\n",
            "Epoch: 2800 Loss: 48.775732280545476\n",
            "Epoch: 2850 Loss: 73.16426832248997\n",
            "Epoch: 2900 Loss: 988.9411754666096\n",
            "Epoch: 2950 Loss: 1014.8657768271592\n",
            "Epoch: 3000 Loss: 187.15703290534526\n",
            "Epoch: 3050 Loss: 114.23289543793086\n",
            "Epoch: 3100 Loss: 40.10668989637907\n",
            "Epoch: 3150 Loss: 59.57879389112216\n",
            "Epoch: 3200 Loss: 11.35662109876584\n",
            "Epoch: 3250 Loss: 6.08389999962595\n",
            "Epoch: 3300 Loss: 5.441309061839765\n",
            "Epoch: 3350 Loss: 4.560816310196265\n",
            "Epoch: 3400 Loss: 4.638782357394113\n",
            "Epoch: 3450 Loss: 4.341236518695619\n",
            "Epoch: 3500 Loss: 4.3169683441402205\n",
            "Epoch: 3550 Loss: 4.379579950068789\n",
            "Epoch: 3600 Loss: 5.241570770300354\n",
            "Epoch: 3650 Loss: 4.756340533960405\n",
            "Epoch: 3700 Loss: 4.514544487976468\n",
            "Epoch: 3750 Loss: 3.9628584546928716\n",
            "Epoch: 3800 Loss: 24.03864702215034\n",
            "Epoch: 3850 Loss: 4.359338056268377\n",
            "Epoch: 3900 Loss: 15.739408802925663\n",
            "Epoch: 3950 Loss: 3.63213103018772\n",
            "Epoch: 4000 Loss: 3.629639100007734\n",
            "Epoch: 4050 Loss: 3.450600388083936\n",
            "Epoch: 4100 Loss: 4.053863593010397\n",
            "Epoch: 4150 Loss: 3.8055450709785537\n",
            "Epoch: 4200 Loss: 3.4669655513931077\n",
            "Epoch: 4250 Loss: 3.333991161107712\n",
            "Epoch: 4300 Loss: 3.7491450119429532\n",
            "Epoch: 4350 Loss: 3.7118032079953416\n",
            "Epoch: 4400 Loss: 3.2440395143221306\n",
            "Epoch: 4450 Loss: 3.2380951967633127\n",
            "Epoch: 4500 Loss: 3.1639239390037472\n",
            "Epoch: 4550 Loss: 3.1158690600243606\n",
            "Epoch: 4600 Loss: 3.2398492911094054\n",
            "Epoch: 4650 Loss: 3.118140084718227\n",
            "Epoch: 4700 Loss: 3.6164734503382268\n",
            "Epoch: 4750 Loss: 10.966188429940866\n",
            "Epoch: 4800 Loss: 5.470218385171163\n",
            "Epoch: 4850 Loss: 6.190696916751569\n",
            "Epoch: 4900 Loss: 3.2077111421453046\n",
            "Epoch: 4950 Loss: 3.261958713291624\n",
            "Epoch: 5000 Loss: 3.077189697769673\n",
            "Epoch: 5050 Loss: 3.0178559000181724\n",
            "Epoch: 5100 Loss: 3.57742805746149\n",
            "Epoch: 5150 Loss: 3.0734041814834843\n",
            "Epoch: 5200 Loss: 2.9327357528405966\n",
            "Epoch: 5250 Loss: 3.3540575072793826\n",
            "Epoch: 5300 Loss: 3.0973492971904033\n",
            "Epoch: 5350 Loss: 8.601834429856872\n",
            "Epoch: 5400 Loss: 3.193815720079432\n",
            "Epoch: 5450 Loss: 2.8687532727877803\n",
            "Epoch: 5500 Loss: 3.1664774060316585\n",
            "Epoch: 5550 Loss: 3.169045172127413\n",
            "Epoch: 5600 Loss: 2.8324857154174965\n",
            "Epoch: 5650 Loss: 2.7875722113971517\n",
            "Epoch: 5700 Loss: 2.8290047495219017\n",
            "Epoch: 5750 Loss: 3.0434801924552684\n",
            "Epoch: 5800 Loss: 3.264754704934593\n",
            "Epoch: 5850 Loss: 2.7396055973908253\n",
            "Epoch: 5900 Loss: 2.773600312810239\n",
            "Epoch: 5950 Loss: 2.7953108623719256\n",
            "Epoch: 6000 Loss: 2.9372596782270644\n",
            "Epoch: 6050 Loss: 2.868573890843964\n",
            "Epoch: 6100 Loss: 11.158615708958822\n",
            "Epoch: 6150 Loss: 2.714012227037656\n",
            "Epoch: 6200 Loss: 2.831555766257403\n",
            "Epoch: 6250 Loss: 4.040539495812742\n",
            "Epoch: 6300 Loss: 2.986463542358919\n",
            "Epoch: 6350 Loss: 2.910854946897558\n",
            "Epoch: 6400 Loss: 2.7332184898916596\n",
            "Epoch: 6450 Loss: 2.6514435810429586\n",
            "Epoch: 6500 Loss: 2.8784016481894463\n",
            "Epoch: 6550 Loss: 3.3340047182288464\n",
            "Epoch: 6600 Loss: 3.484207573934314\n",
            "Epoch: 6650 Loss: 2.583664329730429\n",
            "Epoch: 6700 Loss: 14.912711693498666\n",
            "Epoch: 6750 Loss: 5.639669517574461\n",
            "Epoch: 6800 Loss: 4.139875169455814\n",
            "Epoch: 6850 Loss: 2.6968295966155833\n",
            "Epoch: 6900 Loss: 3.8816774193699075\n",
            "Epoch: 6950 Loss: 2.7449171656312954\n",
            "Epoch: 7000 Loss: 3.038298166140602\n",
            "Epoch: 7050 Loss: 2.582806389265125\n",
            "Epoch: 7100 Loss: 2.6373794294567294\n",
            "Epoch: 7150 Loss: 3.299489632420231\n",
            "Epoch: 7200 Loss: 2.5926346411541\n",
            "Epoch: 7250 Loss: 2.6497180784688763\n",
            "Epoch: 7300 Loss: 2.6856449322674067\n",
            "Epoch: 7350 Loss: 2.566915287264803\n",
            "Epoch: 7400 Loss: 4.620089541680343\n",
            "Epoch: 7450 Loss: 3.4900489885274855\n",
            "Epoch: 7500 Loss: 2.6953820945969684\n",
            "Epoch: 7550 Loss: 4.935187881527388\n",
            "Epoch: 7600 Loss: 2.634847762156532\n",
            "Epoch: 7650 Loss: 2.5323319874465016\n",
            "Epoch: 7700 Loss: 2.6340110084204795\n",
            "Epoch: 7750 Loss: 2.661556718621887\n",
            "Epoch: 7800 Loss: 3.37871998821368\n",
            "Epoch: 7850 Loss: 2.7698157415904077\n",
            "Epoch: 7900 Loss: 5.217934372466698\n",
            "Epoch: 7950 Loss: 2.613832455441674\n",
            "Epoch: 8000 Loss: 2.5802216823160573\n",
            "Epoch: 8050 Loss: 2.510688950346732\n",
            "Epoch: 8100 Loss: 2.4862431527943323\n",
            "Epoch: 8150 Loss: 2.471395050223066\n",
            "Epoch: 8200 Loss: 2.5150203672278475\n",
            "Epoch: 8250 Loss: 2.4585160075453265\n",
            "Epoch: 8300 Loss: 2.5388867964959556\n",
            "Epoch: 8350 Loss: 2.432204613949776\n",
            "Epoch: 8400 Loss: 2.797788872028889\n",
            "Epoch: 8450 Loss: 2.483953196377329\n",
            "Epoch: 8500 Loss: 2.43206567859376\n",
            "Epoch: 8550 Loss: 2.4125425174889163\n",
            "Epoch: 8600 Loss: 3.0992172956189736\n",
            "Epoch: 8650 Loss: 2.545512562790805\n",
            "Epoch: 8700 Loss: 2.9535842616723738\n",
            "Epoch: 8750 Loss: 2.5847906313206104\n",
            "Epoch: 8800 Loss: 2.803960707068085\n",
            "Epoch: 8850 Loss: 2.447846008073633\n",
            "Epoch: 8900 Loss: 2.499156743744049\n",
            "Epoch: 8950 Loss: 2.5180209856777123\n",
            "Epoch: 9000 Loss: 2.4982863865437412\n",
            "Epoch: 9050 Loss: 5.047503753137307\n",
            "Epoch: 9100 Loss: 2.3999590727299407\n",
            "Epoch: 9150 Loss: 2.407660094763886\n",
            "Epoch: 9200 Loss: 2.410063298537767\n",
            "Epoch: 9250 Loss: 2.4156376749000525\n",
            "Epoch: 9300 Loss: 2.397773802008442\n",
            "Epoch: 9350 Loss: 3.3328600958403247\n",
            "Epoch: 9400 Loss: 2.7557404044795657\n",
            "Epoch: 9450 Loss: 2.4120127393720217\n",
            "Epoch: 9500 Loss: 2.3602850817446233\n",
            "Epoch: 9550 Loss: 2.4449447118606926\n",
            "Epoch: 9600 Loss: 2.3943399948129107\n",
            "Epoch: 9650 Loss: 2.3802326896466117\n",
            "Epoch: 9700 Loss: 2.6429036539178834\n",
            "Epoch: 9750 Loss: 2.393316684462445\n",
            "Epoch: 9800 Loss: 2.5638835101243447\n",
            "Epoch: 9850 Loss: 2.4273270626810355\n",
            "Epoch: 9900 Loss: 2.360298984477025\n",
            "Epoch: 9950 Loss: 2.359280470280206\n"
          ]
        },
        {
          "output_type": "display_data",
          "data": {
            "image/png": "[encoded data removed]",
            "text/plain": [
              "<Figure size 432x288 with 1 Axes>"
            ]
          },
          "metadata": {
            "needs_background": "light"
          }
        },
        {
          "output_type": "stream",
          "name": "stdout",
          "text": [
            "Testing\n",
            "Testing Error is  2.385960818043685\n"
          ]
        }
      ]
    },
    {
      "cell_type": "code",
      "metadata": {
        "id": "rKkNdYxYdPJa"
      },
      "source": [
        "# file = open('/content/gdrive/My Drive/FODSAssignment/SGD6.pickle', 'wb')\n",
        "# pickle.dump(SGD6, file)\n",
        "# file.close()"
      ],
      "execution_count": null,
      "outputs": []
    },
    {
      "cell_type": "markdown",
      "metadata": {
        "id": "txkpeiy9eYSW"
      },
      "source": [
        "**7 Degree Polynomial**[[NOT COMPLETE]]"
      ]
    },
    {
      "cell_type": "code",
      "metadata": {
        "colab": {
          "base_uri": "https://localhost:8080/",
          "height": 1000,
          "referenced_widgets": [
            "86af53951e7444acb1cd791f7783e2b2",
            "b7d1b3e262804d1087e91ab3b39b6322",
            "d2508354060c4b2ea68e2a34394a7862",
            "e16cc3f9dfc947a694bd93bc883d1856",
            "93f79d2461124b0c88c6badc72a910fa",
            "77190f8834234a1eba67542e1c0ba81a",
            "c15b6a0a9172405a8237c4ed620cedca",
            "532e40c3cd6644d993e982557e9f4961",
            "5a1e709c63904992b4d20286db7e1a30",
            "1442ea11e2e3442fabf564d8bf7f44f6",
            "2c87f5093bcb4fcfad8c1d3df2a15a6d"
          ]
        },
        "id": "w_LIjWdOeYSW",
        "outputId": "e163f45e-80bd-4861-d04f-face4e41a44e"
      },
      "source": [
        "GD7 = PolynomialRegression(7)\n",
        "x_train_trans_7 = GD7.transform(train_X)\n",
        "x_test_trans_7 = GD7.transform(test_X)\n",
        "GD7.fit(x_train_trans_7, train_y,epochs = 6000, learning='GD', learning_rate=0.00000085) #max possible learning rate , can be run for more epochs\n",
        "GD7.evaluate(x_test_trans_7,test_y)"
      ],
      "execution_count": 182,
      "outputs": [
        {
          "output_type": "stream",
          "name": "stdout",
          "text": [
            "Training...\n"
          ]
        },
        {
          "output_type": "display_data",
          "data": {
            "application/vnd.jupyter.widget-view+json": {
              "model_id": "86af53951e7444acb1cd791f7783e2b2",
              "version_minor": 0,
              "version_major": 2
            },
            "text/plain": [
              "  0%|          | 0/6000 [00:00<?, ?epoch/s]"
            ]
          },
          "metadata": {}
        },
        {
          "output_type": "stream",
          "name": "stdout",
          "text": [
            "Epoch: 0 Loss: 5119.620088633711\n",
            "Epoch: 50 Loss: 1693.7852710149998\n",
            "Epoch: 100 Loss: 586.9976188052327\n",
            "Epoch: 150 Loss: 206.1259818233095\n",
            "Epoch: 200 Loss: 73.87910231466681\n",
            "Epoch: 250 Loss: 27.619408136983125\n",
            "Epoch: 300 Loss: 11.24871644562639\n",
            "Epoch: 350 Loss: 5.3290207829084135\n",
            "Epoch: 400 Loss: 3.099747017401745\n",
            "Epoch: 450 Loss: 2.1970810957990397\n",
            "Epoch: 500 Loss: 1.7869325618589205\n",
            "Epoch: 550 Loss: 1.5700906884639056\n",
            "Epoch: 600 Loss: 1.436028141692625\n",
            "Epoch: 650 Loss: 1.3418459542608987\n",
            "Epoch: 700 Loss: 1.2695739023935149\n",
            "Epoch: 750 Loss: 1.2108703216388461\n",
            "Epoch: 800 Loss: 1.161386667010696\n",
            "Epoch: 850 Loss: 1.1185952703825415\n",
            "Epoch: 900 Loss: 1.0808926385406796\n",
            "Epoch: 950 Loss: 1.0471942066562996\n",
            "Epoch: 1000 Loss: 1.0167316327852178\n",
            "Epoch: 1050 Loss: 0.9889412562306443\n",
            "Epoch: 1100 Loss: 0.9633978090980869\n",
            "Epoch: 1150 Loss: 0.9397727381789932\n",
            "Epoch: 1200 Loss: 0.9178069246182251\n",
            "Epoch: 1250 Loss: 0.8972922828344667\n",
            "Epoch: 1300 Loss: 0.8780590409575135\n",
            "Epoch: 1350 Loss: 0.859966755439514\n",
            "Epoch: 1400 Loss: 0.8428978330398446\n",
            "Epoch: 1450 Loss: 0.8267527686461253\n",
            "Epoch: 1500 Loss: 0.8114465787431125\n",
            "Epoch: 1550 Loss: 0.7969060831679596\n",
            "Epoch: 1600 Loss: 0.7830677996307199\n",
            "Epoch: 1650 Loss: 0.7698762888209394\n",
            "Epoch: 1700 Loss: 0.7572828366241159\n",
            "Epoch: 1750 Loss: 0.7452443927241305\n",
            "Epoch: 1800 Loss: 0.7337227071926126\n",
            "Epoch: 1850 Loss: 0.7226836220997438\n",
            "Epoch: 1900 Loss: 0.7120964860148047\n",
            "Epoch: 1950 Loss: 0.7019336669873427\n",
            "Epoch: 2000 Loss: 0.692170145196\n",
            "Epoch: 2050 Loss: 0.6827831705707955\n",
            "Epoch: 2100 Loss: 0.6737519737754951\n",
            "Epoch: 2150 Loss: 0.6650575212735601\n",
            "Epoch: 2200 Loss: 0.6566823070012328\n",
            "Epoch: 2250 Loss: 0.648610174573207\n",
            "Epoch: 2300 Loss: 0.640826165052193\n",
            "Epoch: 2350 Loss: 0.633316386195171\n",
            "Epoch: 2400 Loss: 0.6260678997962463\n",
            "Epoch: 2450 Loss: 0.6190686243203294\n",
            "Epoch: 2500 Loss: 0.612307250489194\n",
            "Epoch: 2550 Loss: 0.6057731678648937\n",
            "Epoch: 2600 Loss: 0.5994564007919979\n",
            "Epoch: 2650 Loss: 0.5933475523216696\n",
            "Epoch: 2700 Loss: 0.5874377549577059\n",
            "Epoch: 2750 Loss: 0.5817186272463292\n",
            "Epoch: 2800 Loss: 0.5761822353823308\n",
            "Epoch: 2850 Loss: 0.570821059131327\n",
            "Epoch: 2900 Loss: 0.5656279614740308\n",
            "Epoch: 2950 Loss: 0.5605961614680215\n",
            "Epoch: 3000 Loss: 0.5557192098976688\n",
            "Epoch: 3050 Loss: 0.5509909673464479\n",
            "Epoch: 3100 Loss: 0.5464055843797125\n",
            "Epoch: 3150 Loss: 0.5419574835709551\n",
            "Epoch: 3200 Loss: 0.5376413431433988\n",
            "Epoch: 3250 Loss: 0.5334520820310596\n",
            "Epoch: 3300 Loss: 0.5293848461910665\n",
            "Epoch: 3350 Loss: 0.5254349960226332\n",
            "Epoch: 3400 Loss: 0.521598094767799\n",
            "Epoch: 3450 Loss: 0.5178698977862634\n",
            "Epoch: 3500 Loss: 0.5142463426109255\n",
            "Epoch: 3550 Loss: 0.5107235397032118\n",
            "Epoch: 3600 Loss: 0.5072977638378658\n",
            "Epoch: 3650 Loss: 0.5039654460556503\n",
            "Epoch: 3700 Loss: 0.5007231661303909\n",
            "Epoch: 3750 Loss: 0.49756764550346877\n",
            "Epoch: 3800 Loss: 0.4944957406442251\n",
            "Epoch: 3850 Loss: 0.491504436799995\n",
            "Epoch: 3900 Loss: 0.4885908421035159\n",
            "Epoch: 3950 Loss: 0.4857521820091566\n",
            "Epoch: 4000 Loss: 0.4829857940326436\n",
            "Epoch: 4050 Loss: 0.4802891227714227\n",
            "Epoch: 4100 Loss: 0.4776597151855505\n",
            "Epoch: 4150 Loss: 0.47509521612077354\n",
            "Epoch: 4200 Loss: 0.47259336405741953\n",
            "Epoch: 4250 Loss: 0.4701519870701565\n",
            "Epoch: 4300 Loss: 0.46776899898524593\n",
            "Epoch: 4350 Loss: 0.4654423957229013\n",
            "Epoch: 4400 Loss: 0.46317025181368954\n",
            "Epoch: 4450 Loss: 0.4609507170786204\n",
            "Epoch: 4500 Loss: 0.4587820134635222\n",
            "Epoch: 4550 Loss: 0.4566624320191032\n",
            "Epoch: 4600 Loss: 0.45459033001862703\n",
            "Epoch: 4650 Loss: 0.45256412820581426\n",
            "Epoch: 4700 Loss: 0.45058230816607353\n",
            "Epoch: 4750 Loss: 0.44864340981470185\n",
            "Epoch: 4800 Loss: 0.44674602899606575\n",
            "Epoch: 4850 Loss: 0.44488881518821916\n",
            "Epoch: 4900 Loss: 0.44307046930768756\n",
            "Epoch: 4950 Loss: 0.44128974160957946\n",
            "Epoch: 5000 Loss: 0.43954542967844773\n",
            "Epoch: 5050 Loss: 0.4378363765055095\n",
            "Epoch: 5100 Loss: 0.4361614686482159\n",
            "Epoch: 5150 Loss: 0.4345196344683265\n",
            "Epoch: 5200 Loss: 0.4329098424448365\n",
            "Epoch: 5250 Loss: 0.4313310995583705\n",
            "Epoch: 5300 Loss: 0.42978244974371776\n",
            "Epoch: 5350 Loss: 0.42826297240754596\n",
            "Epoch: 5400 Loss: 0.42677178100824625\n",
            "Epoch: 5450 Loss: 0.42530802169531695\n",
            "Epoch: 5500 Loss: 0.4238708720053985\n",
            "Epoch: 5550 Loss: 0.4224595396127871\n",
            "Epoch: 5600 Loss: 0.42107326113170435\n",
            "Epoch: 5650 Loss: 0.41971130096838455\n",
            "Epoch: 5700 Loss: 0.41837295022054644\n",
            "Epoch: 5750 Loss: 0.4170575256223761\n",
            "Epoch: 5800 Loss: 0.41576436853301496\n",
            "Epoch: 5850 Loss: 0.4144928439666553\n",
            "Epoch: 5900 Loss: 0.413242339662484\n",
            "Epoch: 5950 Loss: 0.4120122651928032\n"
          ]
        },
        {
          "output_type": "display_data",
          "data": {
            "image/png": "[encoded data removed]",
            "text/plain": [
              "<Figure size 432x288 with 1 Axes>"
            ]
          },
          "metadata": {
            "needs_background": "light"
          }
        },
        {
          "output_type": "stream",
          "name": "stdout",
          "text": [
            "Testing\n",
            "Testing Error is  0.45102126516162105\n"
          ]
        }
      ]
    },
    {
      "cell_type": "code",
      "metadata": {
        "id": "8oz-k9E9eYSX"
      },
      "source": [
        " file = open('/content/gdrive/My Drive/FODSAssignment/GD7.pickle', 'wb')\n",
        " pickle.dump(GD7, file)\n",
        " file.close()"
      ],
      "execution_count": 183,
      "outputs": []
    },
    {
      "cell_type": "code",
      "metadata": {
        "colab": {
          "base_uri": "https://localhost:8080/",
          "height": 567,
          "referenced_widgets": [
            "5d147f25c6f0435ea28fee8de7df2b7e",
            "aa339cb87bd642e692288abe7f2ed768",
            "001e77f9970e4015ba7589253c393067",
            "1efa317a9a7f42018ea1f2dae7bb0901",
            "0f577f25a5394d728f09972a24106769",
            "63d5b3255a6d49678125fe37118b33ae",
            "698efd26024a4c58a9f1a06407338c81",
            "9b707fe903f0476e8b4805b53dd90c8d",
            "212f2d70fe1d453198d22ffc5fd0af5a",
            "739b99fa2c2e49738041ece5cea9e342",
            "dc313518042c440a9cb5c940effa00bd"
          ]
        },
        "id": "EV1d4O8SeYSX",
        "outputId": "13a14fab-f18e-474f-beec-ac6bacbbc27e"
      },
      "source": [
        "SGD7 = PolynomialRegression(7)\n",
        "x_train_trans_7 = SGD7.transform(train_X)\n",
        "x_test_trans_7 = SGD7.transform(test_X)\n",
        "SGD7.fit(x_train_trans_7, train_y,epochs = 6000, learning='SGD', learning_rate=0.0005)\n",
        "SGD7.evaluate(x_test_trans_7,test_y)"
      ],
      "execution_count": null,
      "outputs": [
        {
          "output_type": "stream",
          "name": "stdout",
          "text": [
            "Training...\n"
          ]
        },
        {
          "output_type": "display_data",
          "data": {
            "application/vnd.jupyter.widget-view+json": {
              "model_id": "5d147f25c6f0435ea28fee8de7df2b7e",
              "version_minor": 0,
              "version_major": 2
            },
            "text/plain": [
              "  0%|          | 0/6000 [00:00<?, ?epoch/s]"
            ]
          },
          "metadata": {}
        },
        {
          "output_type": "stream",
          "name": "stdout",
          "text": [
            "Epoch: 0 Loss: 306.04525386900514\n",
            "Epoch: 50 Loss: 18.16905165772413\n",
            "Epoch: 100 Loss: 13.340724042437744\n",
            "Epoch: 150 Loss: 9.710956286160055\n",
            "Epoch: 200 Loss: 7.348558991977139\n",
            "Epoch: 250 Loss: 9.514948508748075\n",
            "Epoch: 300 Loss: 7.062190035393865\n",
            "Epoch: 350 Loss: 8.811126263258343\n",
            "Epoch: 400 Loss: 189.18899377488307\n",
            "Epoch: 450 Loss: 8.18210075258419\n",
            "Epoch: 500 Loss: 4.58442269557848\n",
            "Epoch: 550 Loss: 5.402646455981156\n",
            "Epoch: 600 Loss: 6.8119829880082765\n",
            "Epoch: 650 Loss: 3.6761922033991543\n",
            "Epoch: 700 Loss: 4.6065645321470505\n",
            "Epoch: 750 Loss: 3.678479771071779\n",
            "Epoch: 800 Loss: 3.653060528849845\n",
            "Epoch: 850 Loss: 2.8399398808245055\n",
            "Epoch: 900 Loss: 4.43656576360943\n",
            "Epoch: 950 Loss: 159.94875440478535\n",
            "Epoch: 1000 Loss: 81.40201245757429\n",
            "Epoch: 1050 Loss: 15.222640524902037\n",
            "Epoch: 1100 Loss: 6.371384412364055\n",
            "Epoch: 1150 Loss: 3.036529780188673\n",
            "Epoch: 1200 Loss: 2.749180477156717\n",
            "Epoch: 1250 Loss: 2.1649467603095687\n",
            "Epoch: 1300 Loss: 1.773841051028265\n",
            "Epoch: 1350 Loss: 1.8831065853918\n",
            "Epoch: 1400 Loss: 1.6667416248402\n",
            "Epoch: 1450 Loss: 1.505079972688479\n"
          ]
        }
      ]
    },
    {
      "cell_type": "code",
      "metadata": {
        "id": "GJ-HMbYSeYSX"
      },
      "source": [
        "# file = open('/content/gdrive/My Drive/FODSAssignment/SGD7.pickle', 'wb')\n",
        "# pickle.dump(SGD7, file)\n",
        "# file.close()"
      ],
      "execution_count": null,
      "outputs": []
    },
    {
      "cell_type": "markdown",
      "metadata": {
        "id": "2PXJmQSxmy2z"
      },
      "source": [
        "**8 Degree Polynomial** [[NOT FINISHED]]"
      ]
    },
    {
      "cell_type": "code",
      "metadata": {
        "colab": {
          "base_uri": "https://localhost:8080/",
          "height": 778,
          "referenced_widgets": [
            "7f68fa2b9eb044fd894d73f0cc6b86a0",
            "f6454563703642e2a8f3559e5ac5ee60",
            "89861025cb98448f98bfe2eff30ee67f",
            "f63eef8fc6d444dcbe717cd7ac256950",
            "62de86c53a264da3932d9a85f9995576",
            "060ff4c3946945949db4557406a01f15",
            "8c6d1cb89dbb4f76bbad28f818ab9fb1",
            "a50c51272cda45429d443c4ee3ae824e",
            "f7c44348d2d74a369cc8536a8bf948cb",
            "33075944910c4457b2852a072b631afc",
            "5c0419ff1466491299c069d7a1cdc1f0"
          ]
        },
        "id": "TKVSiMk6my2z",
        "outputId": "6a934e70-48a2-4885-ce20-902989b49f4a"
      },
      "source": [
        "GD8 = PolynomialRegression(8)\n",
        "x_train_trans_8 = GD8.transform(train_X)\n",
        "x_test_trans_8 = GD8.transform(test_X)\n",
        "GD8.fit(x_train_trans_8, train_y,epochs = 1600, learning='GD', learning_rate=0.00002)\n",
        "GD8.evaluate(x_test_trans_8,test_y)"
      ],
      "execution_count": null,
      "outputs": [
        {
          "output_type": "stream",
          "name": "stdout",
          "text": [
            "Training...\n"
          ]
        },
        {
          "output_type": "display_data",
          "data": {
            "application/vnd.jupyter.widget-view+json": {
              "model_id": "7f68fa2b9eb044fd894d73f0cc6b86a0",
              "version_minor": 0,
              "version_major": 2
            },
            "text/plain": [
              "  0%|          | 0/1600 [00:00<?, ?epoch/s]"
            ]
          },
          "metadata": {}
        },
        {
          "output_type": "stream",
          "name": "stdout",
          "text": [
            "Epoch: 0 Loss: 178.32920055192253\n",
            "Epoch: 50 Loss: 4.484403662387639\n",
            "Epoch: 100 Loss: 0.79376563067338\n",
            "Epoch: 150 Loss: 0.5052203753845566\n",
            "Epoch: 200 Loss: 0.4227930345687382\n",
            "Epoch: 250 Loss: 0.38650401787937416\n",
            "Epoch: 300 Loss: 0.36566897285739663\n",
            "Epoch: 350 Loss: 0.35108065955043466\n",
            "Epoch: 400 Loss: 0.33954316682861296\n",
            "Epoch: 450 Loss: 0.3298010626175652\n",
            "Epoch: 500 Loss: 0.32128562099725155\n",
            "Epoch: 550 Loss: 0.3136956036215143\n",
            "Epoch: 600 Loss: 0.30684678188756653\n",
            "Epoch: 650 Loss: 0.3006134070360163\n",
            "Epoch: 700 Loss: 0.2949030479107186\n",
            "Epoch: 750 Loss: 0.28964442365235027\n",
            "Epoch: 800 Loss: 0.28478077443607125\n",
            "Epoch: 850 Loss: 0.2802658592889168\n",
            "Epoch: 900 Loss: 0.27606134530378906\n",
            "Epoch: 950 Loss: 0.27213500840474714\n",
            "Epoch: 1000 Loss: 0.2684594439087043\n",
            "Epoch: 1050 Loss: 0.265011114896931\n",
            "Epoch: 1100 Loss: 0.26176963324612784\n",
            "Epoch: 1150 Loss: 0.2587172057019609\n",
            "Epoch: 1200 Loss: 0.2558381999012801\n",
            "Epoch: 1250 Loss: 0.25311879941876997\n",
            "Epoch: 1300 Loss: 0.2505467261310103\n",
            "Epoch: 1350 Loss: 0.24811101434022273\n",
            "Epoch: 1400 Loss: 0.24580182528956104\n",
            "Epoch: 1450 Loss: 0.243610293611376\n",
            "Epoch: 1500 Loss: 0.24152839930827077\n",
            "Epoch: 1550 Loss: 0.239548860349336\n"
          ]
        },
        {
          "output_type": "display_data",
          "data": {
            "image/png": "[encoded data removed]",
            "text/plain": [
              "<Figure size 432x288 with 1 Axes>"
            ]
          },
          "metadata": {
            "needs_background": "light"
          }
        },
        {
          "output_type": "stream",
          "name": "stdout",
          "text": [
            "Testing\n",
            "Testing Error is  0.24310860078286026\n"
          ]
        }
      ]
    },
    {
      "cell_type": "code",
      "metadata": {
        "id": "-4Nyhdo0my20"
      },
      "source": [
        "#  file = open('/content/gdrive/My Drive/FODSAssignment/GD8.pickle', 'wb')\n",
        "#  pickle.dump(GD8, file)\n",
        "#  file.close()"
      ],
      "execution_count": null,
      "outputs": []
    },
    {
      "cell_type": "code",
      "metadata": {
        "colab": {
          "base_uri": "https://localhost:8080/",
          "height": 567,
          "referenced_widgets": [
            "5d147f25c6f0435ea28fee8de7df2b7e",
            "aa339cb87bd642e692288abe7f2ed768",
            "001e77f9970e4015ba7589253c393067",
            "1efa317a9a7f42018ea1f2dae7bb0901",
            "0f577f25a5394d728f09972a24106769",
            "63d5b3255a6d49678125fe37118b33ae",
            "698efd26024a4c58a9f1a06407338c81",
            "9b707fe903f0476e8b4805b53dd90c8d",
            "212f2d70fe1d453198d22ffc5fd0af5a",
            "739b99fa2c2e49738041ece5cea9e342",
            "dc313518042c440a9cb5c940effa00bd"
          ]
        },
        "id": "-fh4nXt4my20",
        "outputId": "13a14fab-f18e-474f-beec-ac6bacbbc27e"
      },
      "source": [
        "SGD8 = PolynomialRegression(8)\n",
        "x_train_trans_8 = SGD8.transform(train_X)\n",
        "x_test_trans_8 = SGD8.transform(test_X)\n",
        "SGD8.fit(x_train_trans_8, train_y,epochs = 6000, learning='SGD', learning_rate=0.0005)\n",
        "SGD8.evaluate(x_test_trans_8,test_y)"
      ],
      "execution_count": null,
      "outputs": [
        {
          "output_type": "stream",
          "name": "stdout",
          "text": [
            "Training...\n"
          ]
        },
        {
          "output_type": "display_data",
          "data": {
            "application/vnd.jupyter.widget-view+json": {
              "model_id": "5d147f25c6f0435ea28fee8de7df2b7e",
              "version_minor": 0,
              "version_major": 2
            },
            "text/plain": [
              "  0%|          | 0/6000 [00:00<?, ?epoch/s]"
            ]
          },
          "metadata": {}
        },
        {
          "output_type": "stream",
          "name": "stdout",
          "text": [
            "Epoch: 0 Loss: 306.04525386900514\n",
            "Epoch: 50 Loss: 18.16905165772413\n",
            "Epoch: 100 Loss: 13.340724042437744\n",
            "Epoch: 150 Loss: 9.710956286160055\n",
            "Epoch: 200 Loss: 7.348558991977139\n",
            "Epoch: 250 Loss: 9.514948508748075\n",
            "Epoch: 300 Loss: 7.062190035393865\n",
            "Epoch: 350 Loss: 8.811126263258343\n",
            "Epoch: 400 Loss: 189.18899377488307\n",
            "Epoch: 450 Loss: 8.18210075258419\n",
            "Epoch: 500 Loss: 4.58442269557848\n",
            "Epoch: 550 Loss: 5.402646455981156\n",
            "Epoch: 600 Loss: 6.8119829880082765\n",
            "Epoch: 650 Loss: 3.6761922033991543\n",
            "Epoch: 700 Loss: 4.6065645321470505\n",
            "Epoch: 750 Loss: 3.678479771071779\n",
            "Epoch: 800 Loss: 3.653060528849845\n",
            "Epoch: 850 Loss: 2.8399398808245055\n",
            "Epoch: 900 Loss: 4.43656576360943\n",
            "Epoch: 950 Loss: 159.94875440478535\n",
            "Epoch: 1000 Loss: 81.40201245757429\n",
            "Epoch: 1050 Loss: 15.222640524902037\n",
            "Epoch: 1100 Loss: 6.371384412364055\n",
            "Epoch: 1150 Loss: 3.036529780188673\n",
            "Epoch: 1200 Loss: 2.749180477156717\n",
            "Epoch: 1250 Loss: 2.1649467603095687\n",
            "Epoch: 1300 Loss: 1.773841051028265\n",
            "Epoch: 1350 Loss: 1.8831065853918\n",
            "Epoch: 1400 Loss: 1.6667416248402\n",
            "Epoch: 1450 Loss: 1.505079972688479\n"
          ]
        }
      ]
    },
    {
      "cell_type": "code",
      "metadata": {
        "id": "6uQ5Laehmy21"
      },
      "source": [
        "# file = open('/content/gdrive/My Drive/FODSAssignment/SGD8.pickle', 'wb')\n",
        "# pickle.dump(SGD8, file)\n",
        "# file.close()"
      ],
      "execution_count": null,
      "outputs": []
    }
  ]
}